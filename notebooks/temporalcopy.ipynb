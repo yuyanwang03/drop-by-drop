{
 "cells": [
  {
   "cell_type": "markdown",
   "metadata": {},
   "source": [
    "NOTE: This notebook is assuming you have the `daily_dataset.csv` inside the folder local_data in data, and the `pernoctacions_2019_2024.csv`, `temperature_precipitation.csv` and `tourism_flux.csv` datasets inside the folder data.\n",
    "\n",
    "The `daily_dataset.csv` should be exactly how it is when it is being recently downloaded from the AB Datachallenge portal."
   ]
  },
  {
   "cell_type": "code",
   "execution_count": 1,
   "metadata": {
    "tags": []
   },
   "outputs": [],
   "source": [
    "import pandas as pd\n",
    "from collections import Counter\n",
    "import seaborn as sns\n",
    "import os\n",
    "import numpy as np\n",
    "from matplotlib import pyplot\n",
    "import matplotlib.pyplot as plt\n",
    "\n",
    "import warnings\n",
    "warnings.filterwarnings(\"ignore\")\n"
   ]
  },
  {
   "cell_type": "markdown",
   "metadata": {},
   "source": [
    "## 1. Preprocessing of daily_dataset"
   ]
  },
  {
   "cell_type": "code",
   "execution_count": 2,
   "metadata": {
    "tags": []
   },
   "outputs": [],
   "source": [
    "# Step 1: Load and preprocess daily water consumption data\n",
    "daily_aigues = pd.read_csv(\"../data/local_data/daily_dataset.csv\", encoding='latin1')\n",
    "\n",
    "# Rename columns for clarity\n",
    "daily_aigues = daily_aigues.rename(columns={\n",
    "    daily_aigues.columns[0]: 'Census Section',\n",
    "    daily_aigues.columns[1]: 'District',\n",
    "    daily_aigues.columns[2]: 'Municipality',\n",
    "    daily_aigues.columns[3]: 'Date',\n",
    "    daily_aigues.columns[4]: 'Use',\n",
    "    daily_aigues.columns[5]: 'Number of Meters',\n",
    "    daily_aigues.columns[6]: 'Accumulated Consumption'\n",
    "})\n",
    "\n",
    "# Convert Date column to datetime\n",
    "daily_aigues['Date'] = pd.to_datetime(daily_aigues['Date'])\n",
    "\n",
    "# Replace values in the 'Use' column\n",
    "daily_aigues['Use'] = daily_aigues['Use'].replace({\n",
    "    'Comercial/Comercial/Commercial': 'Commercial',\n",
    "    'DomÃ¨stic/DomÃ©stico/Domestic': 'Domestic',\n",
    "    'Industrial/Industrial/Industrial': 'Industrial'\n",
    "})\n",
    "\n",
    "# Filter data for Barcelona\n",
    "daily_aigues_bcn = daily_aigues[daily_aigues['Municipality'] == 'BARCELONA'].drop(columns=[\"Municipality\"])\n",
    "\n",
    "# Drop rows with invalid Census Section or District values\n",
    "daily_aigues_bcn = daily_aigues_bcn[daily_aigues_bcn['Census Section'] != '<NULL>']\n",
    "daily_aigues_bcn = daily_aigues_bcn[daily_aigues_bcn['District'] != '>']\n",
    "\n",
    "# Remove rows with Accumulated Consumption values below 0\n",
    "daily_aigues_bcn = daily_aigues_bcn[daily_aigues_bcn['Accumulated Consumption'] > 0]\n",
    "\n"
   ]
  },
  {
   "cell_type": "markdown",
   "metadata": {},
   "source": [
    "## 2. Adding meteorological data"
   ]
  },
  {
   "cell_type": "code",
   "execution_count": 3,
   "metadata": {
    "tags": []
   },
   "outputs": [
    {
     "name": "stdout",
     "output_type": "stream",
     "text": [
      "Merged data after adding meteorological data:\n",
      "  Census Section District       Date         Use  Number of Meters  \\\n",
      "0      801901001        1 2021-01-01  Commercial                56   \n",
      "1      801901001        1 2021-01-01    Domestic               322   \n",
      "2      801901001        1 2021-01-01  Industrial                10   \n",
      "3      801901001        1 2021-01-02  Commercial                56   \n",
      "4      801901001        1 2021-01-02    Domestic               322   \n",
      "\n",
      "   Accumulated Consumption  temp_max  temp_min  precipitacion  \n",
      "0                     2710      7.55      4.30           5.65  \n",
      "1                    10058      7.55      4.30           5.65  \n",
      "2                   140646      7.55      4.30           5.65  \n",
      "3                     3573      8.55      1.55           0.00  \n",
      "4                     9600      8.55      1.55           0.00  \n"
     ]
    }
   ],
   "source": [
    "# Step 2: Adding meteorological data (temperature and precipitation)\n",
    "clima_df = pd.read_csv('../data/temperature_precipitation.csv')\n",
    "\n",
    "# Convert 'fecha' column to datetime and group by date\n",
    "clima_df['fecha'] = pd.to_datetime(clima_df['fecha'])\n",
    "clima_df = clima_df.groupby('fecha').agg({\n",
    "    'temp_max': 'mean',\n",
    "    'temp_min': 'mean',\n",
    "    'precipitacion': 'mean'\n",
    "}).round(2).reset_index()\n",
    "\n",
    "# Merge meteorological data with water consumption data\n",
    "merged_data = daily_aigues_bcn.merge(clima_df, left_on='Date', right_on='fecha', how='left').drop(columns=['fecha'])\n",
    "\n",
    "# Debug: Check the merged data\n",
    "print(\"Merged data after adding meteorological data:\")\n",
    "print(merged_data.head())\n"
   ]
  },
  {
   "cell_type": "markdown",
   "metadata": {},
   "source": [
    "## 3. Adding tourism data"
   ]
  },
  {
   "cell_type": "code",
   "execution_count": null,
   "metadata": {},
   "outputs": [],
   "source": []
  },
  {
   "cell_type": "markdown",
   "metadata": {},
   "source": [
    "## 4. Save the cleaned dataset"
   ]
  },
  {
   "cell_type": "code",
   "execution_count": null,
   "metadata": {
    "tags": []
   },
   "outputs": [],
   "source": [
    "# Step 4: Save the cleaned dataset\n",
    "os.makedirs('../data/local_data/', exist_ok=True)\n",
    "merged_data.to_csv('../data/local_data/merged_cleaned_data_NEW_p.csv', index=False)"
   ]
  },
  {
   "cell_type": "code",
   "execution_count": null,
   "metadata": {},
   "outputs": [],
   "source": []
  }
 ],
 "metadata": {
  "kernelspec": {
   "display_name": "Python 3 (ipykernel)",
   "language": "python",
   "name": "python3"
  },
  "language_info": {
   "codemirror_mode": {
    "name": "ipython",
    "version": 3
   },
   "file_extension": ".py",
   "mimetype": "text/x-python",
   "name": "python",
   "nbconvert_exporter": "python",
   "pygments_lexer": "ipython3",
   "version": "3.11.5"
  }
 },
 "nbformat": 4,
 "nbformat_minor": 4
}
