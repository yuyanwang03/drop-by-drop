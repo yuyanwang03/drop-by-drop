{
 "cells": [
  {
   "cell_type": "code",
   "execution_count": 2,
   "metadata": {},
   "outputs": [],
   "source": [
    "import pandas as pd\n",
    "\n",
    "# Load the datasets\n",
    "pernoctacions = pd.read_csv('../data/pernoctacions_2019_2024.csv')\n",
    "tourism = pd.read_csv('../data/tourism_flux.csv')\n",
    "clima_df = pd.read_csv('../data/temperature_precipitation.csv')"
   ]
  },
  {
   "cell_type": "code",
   "execution_count": 2,
   "metadata": {},
   "outputs": [],
   "source": [
    "# Convert the 'Day' column to datetime with specified format\n",
    "tourism['Day'] = pd.to_datetime(tourism['Day'], format='%m/%d/%Y', errors='coerce')\n",
    "\n",
    "# # Check for unparsed dates\n",
    "# if tourism['Day'].isnull().any():\n",
    "#     print(\"Some dates could not be parsed:\")\n",
    "#     print(tourism[tourism['Day'].isnull()])\n",
    "\n",
    "# Group by month and year to calculate total flights per month\n",
    "monthly_flights = tourism.groupby(tourism['Day'].dt.to_period('M'))['Flights'].sum().reset_index()\n",
    "monthly_flights.columns = ['Month', 'Total Flights']\n",
    "\n",
    "# Merge with original DataFrame to calculate percentage\n",
    "flights_df = tourism.merge(monthly_flights, left_on=tourism['Day'].dt.to_period('M'), right_on='Month', how='left')\n",
    "\n",
    "# Calculate percentage of flights\n",
    "flights_df['Percentage of Flights'] = (flights_df['Flights'] / flights_df['Total Flights']) * 100\n",
    "\n",
    "# Clean up DataFrame\n",
    "flights_df.drop(columns=['Month'], inplace=True)\n"
   ]
  },
  {
   "cell_type": "code",
   "execution_count": null,
   "metadata": {},
   "outputs": [],
   "source": [
    "# Convertir las fechas en ambos datasets al mismo formato\n",
    "pernoctacions['Data'] = pd.to_datetime(pernoctacions['Data'], format='%m/%d/%Y')\n",
    "flights_df['Day'] = pd.to_datetime(flights_df['Day'])\n",
    "pernoctacions['Pernoctacions'] = pd.to_numeric(pernoctacions['Pernoctacions'].str.replace(',', ''), errors='coerce')\n",
    "\n",
    "# Iterar sobre los meses de pernoctaciones y distribuir según los porcentajes diarios de vuelos\n",
    "resultados = []\n",
    "\n",
    "for _, row in pernoctacions.iterrows():\n",
    "    # Extraer el mes y año\n",
    "    mes = row['Data'].month\n",
    "    anyo = row['Data'].year\n",
    "    pernoctaciones_mensuales = row['Pernoctacions']\n",
    "    \n",
    "    # Filtrar los vuelos de ese mes y año\n",
    "    vuelos_mes = flights_df[(flights_df['Day'].dt.month == mes) & (flights_df['Day'].dt.year == anyo)]\n",
    "    \n",
    "    # Normalizar los porcentajes de vuelos\n",
    "    vuelos_mes['Percentage of Flights'] = vuelos_mes['Percentage of Flights'] / vuelos_mes['Percentage of Flights'].sum()\n",
    "    \n",
    "    # Distribuir las pernoctaciones diarias\n",
    "    for _, vuelo in vuelos_mes.iterrows():\n",
    "        pernoctaciones_diarias = round(int(pernoctaciones_mensuales) * vuelo['Percentage of Flights'])\n",
    "        resultados.append({\n",
    "            'Day': vuelo['Day'],\n",
    "            'tipus allotjament': row['Tipologia d\\'allotjament'],\n",
    "            'pernoctacions': pernoctaciones_diarias\n",
    "        })\n",
    "\n",
    "# Crear el DataFrame final\n",
    "resultado_df = pd.DataFrame(resultados)\n",
    "\n",
    "# Don't print warnings\n",
    "pd.options.mode.chained_assignment = None"
   ]
  },
  {
   "cell_type": "code",
   "execution_count": 4,
   "metadata": {},
   "outputs": [],
   "source": [
    "resultado_df = resultado_df.sort_values(by='Day', ascending=False)"
   ]
  },
  {
   "cell_type": "code",
   "execution_count": 5,
   "metadata": {},
   "outputs": [],
   "source": [
    "clima_df = clima_df.groupby('fecha').agg({\n",
    "    'temp_max': 'mean',\n",
    "    'temp_min': 'mean',\n",
    "    'precipitacion': 'mean'\n",
    "}).round(2).reset_index()\n"
   ]
  },
  {
   "cell_type": "code",
   "execution_count": 6,
   "metadata": {},
   "outputs": [],
   "source": [
    "# Convertir la columna 'fecha' a formato datetime\n",
    "clima_df['fecha'] = pd.to_datetime(clima_df['fecha'])\n",
    "\n",
    "# Asegurarse de que la columna 'Day' en resultado_df esté en formato datetime\n",
    "resultado_df['Day'] = pd.to_datetime(resultado_df['Day'])\n",
    "\n",
    "# Hacer el merge por la columna de fecha (Day en resultado_df y fecha en clima_df)\n",
    "merged_df = pd.merge(resultado_df, clima_df, left_on='Day', right_on='fecha', how='left')"
   ]
  },
  {
   "cell_type": "code",
   "execution_count": 12,
   "metadata": {},
   "outputs": [],
   "source": [
    "# Step 1: Remove the `fecha` column\n",
    "df = merged_df.drop(columns=['fecha'])\n",
    "\n",
    "# Step 2: Pivot the data\n",
    "df_pivoted = df.pivot_table(\n",
    "    index=[\"Day\", \"temp_max\", \"temp_min\", \"precipitacion\"],\n",
    "    columns=\"tipus allotjament\",\n",
    "    values=\"pernoctacions\",\n",
    "    fill_value=0  # Optional: fill missing values with 0\n",
    ").reset_index()\n",
    "\n",
    "# Step 3: Rename columns\n",
    "df_pivoted.columns = [\n",
    "    \"Day\", \"temp_max\", \"temp_min\", \"precipitacion\",\n",
    "    \"Pernoctacions_Albergs\", \"Pernoctacions_Habitatge_turístic\", \"Pernoctacions_Hotel\"\n",
    "]\n",
    "\n",
    "# Step 4: Add `Pernoctacions_Albergs` to `Pernoctacions_Hotel`\n",
    "df_pivoted[\"Pernoctacions_Hotel\"] += df_pivoted[\"Pernoctacions_Albergs\"]\n",
    "\n",
    "# Step 5: Drop `Pernoctacions_Albergs` column\n",
    "df_pivoted = df_pivoted.drop(columns=[\"Pernoctacions_Albergs\"])\n",
    "\n",
    "#Change Day format\n",
    "df_pivoted['Day'] = pd.to_datetime(df_pivoted['Day']).dt.strftime('%d-%m-%Y')\n"
   ]
  },
  {
   "cell_type": "code",
   "execution_count": 13,
   "metadata": {},
   "outputs": [
    {
     "data": {
      "text/html": [
       "<div>\n",
       "<style scoped>\n",
       "    .dataframe tbody tr th:only-of-type {\n",
       "        vertical-align: middle;\n",
       "    }\n",
       "\n",
       "    .dataframe tbody tr th {\n",
       "        vertical-align: top;\n",
       "    }\n",
       "\n",
       "    .dataframe thead th {\n",
       "        text-align: right;\n",
       "    }\n",
       "</style>\n",
       "<table border=\"1\" class=\"dataframe\">\n",
       "  <thead>\n",
       "    <tr style=\"text-align: right;\">\n",
       "      <th></th>\n",
       "      <th>Day</th>\n",
       "      <th>temp_max</th>\n",
       "      <th>temp_min</th>\n",
       "      <th>precipitacion</th>\n",
       "      <th>Pernoctacions_Habitatge_turístic</th>\n",
       "      <th>Pernoctacions_Hotel</th>\n",
       "    </tr>\n",
       "  </thead>\n",
       "  <tbody>\n",
       "    <tr>\n",
       "      <th>0</th>\n",
       "      <td>01-01-2021</td>\n",
       "      <td>7.55</td>\n",
       "      <td>4.30</td>\n",
       "      <td>5.65</td>\n",
       "      <td>3500</td>\n",
       "      <td>8700.0</td>\n",
       "    </tr>\n",
       "    <tr>\n",
       "      <th>1</th>\n",
       "      <td>02-01-2021</td>\n",
       "      <td>8.55</td>\n",
       "      <td>1.55</td>\n",
       "      <td>0.00</td>\n",
       "      <td>6369</td>\n",
       "      <td>15828.0</td>\n",
       "    </tr>\n",
       "    <tr>\n",
       "      <th>2</th>\n",
       "      <td>03-01-2021</td>\n",
       "      <td>9.55</td>\n",
       "      <td>0.85</td>\n",
       "      <td>0.00</td>\n",
       "      <td>6904</td>\n",
       "      <td>17160.0</td>\n",
       "    </tr>\n",
       "    <tr>\n",
       "      <th>3</th>\n",
       "      <td>04-01-2021</td>\n",
       "      <td>10.10</td>\n",
       "      <td>0.65</td>\n",
       "      <td>0.00</td>\n",
       "      <td>5825</td>\n",
       "      <td>14478.0</td>\n",
       "    </tr>\n",
       "    <tr>\n",
       "      <th>4</th>\n",
       "      <td>05-01-2021</td>\n",
       "      <td>9.40</td>\n",
       "      <td>0.65</td>\n",
       "      <td>0.00</td>\n",
       "      <td>4669</td>\n",
       "      <td>11603.0</td>\n",
       "    </tr>\n",
       "  </tbody>\n",
       "</table>\n",
       "</div>"
      ],
      "text/plain": [
       "          Day  temp_max  temp_min  precipitacion   \n",
       "0  01-01-2021      7.55      4.30           5.65  \\\n",
       "1  02-01-2021      8.55      1.55           0.00   \n",
       "2  03-01-2021      9.55      0.85           0.00   \n",
       "3  04-01-2021     10.10      0.65           0.00   \n",
       "4  05-01-2021      9.40      0.65           0.00   \n",
       "\n",
       "   Pernoctacions_Habitatge_turístic  Pernoctacions_Hotel  \n",
       "0                              3500               8700.0  \n",
       "1                              6369              15828.0  \n",
       "2                              6904              17160.0  \n",
       "3                              5825              14478.0  \n",
       "4                              4669              11603.0  "
      ]
     },
     "execution_count": 13,
     "metadata": {},
     "output_type": "execute_result"
    }
   ],
   "source": [
    "df_pivoted.head()"
   ]
  },
  {
   "cell_type": "code",
   "execution_count": 14,
   "metadata": {},
   "outputs": [],
   "source": [
    "df_pivoted.to_csv('../data/Preprocessed_Data/Tourism_Temp_bcn.csv', index=False)"
   ]
  }
 ],
 "metadata": {
  "kernelspec": {
   "display_name": "HNights",
   "language": "python",
   "name": "python3"
  },
  "language_info": {
   "codemirror_mode": {
    "name": "ipython",
    "version": 3
   },
   "file_extension": ".py",
   "mimetype": "text/x-python",
   "name": "python",
   "nbconvert_exporter": "python",
   "pygments_lexer": "ipython3",
   "version": "3.11.10"
  }
 },
 "nbformat": 4,
 "nbformat_minor": 2
}
