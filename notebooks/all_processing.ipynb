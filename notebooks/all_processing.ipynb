{
 "cells": [
  {
   "cell_type": "markdown",
   "metadata": {},
   "source": [
    "NOTE: This notebook is assuming you have the `daily_dataset.csv` inside the folder local_data in data, and the `pernoctacions_2019_2024.csv`, `temperature_precipitation.csv` and `tourism_flux.csv` datasets inside the folder data.\n",
    "\n",
    "The `daily_dataset.csv` should be exactly how it is when it is being recently downloaded from the AB Datachallenge portal."
   ]
  },
  {
   "cell_type": "code",
   "execution_count": 1,
   "metadata": {},
   "outputs": [],
   "source": [
    "import pandas as pd\n",
    "from collections import Counter\n",
    "import seaborn as sns\n",
    "import os\n",
    "import numpy as np\n",
    "from matplotlib import pyplot\n",
    "import matplotlib.pyplot as plt"
   ]
  },
  {
   "cell_type": "code",
   "execution_count": 2,
   "metadata": {},
   "outputs": [],
   "source": [
    "# Load the datasets\n",
    "pernoctacions = pd.read_csv('../data/pernoctacions_2019_2024.csv')\n",
    "tourism = pd.read_csv('../data/tourism_flux.csv')\n",
    "clima_df = pd.read_csv('../data/temperature_precipitation.csv')"
   ]
  },
  {
   "cell_type": "code",
   "execution_count": 3,
   "metadata": {},
   "outputs": [],
   "source": [
    "# Convert the 'Day' column to datetime with specified format\n",
    "tourism['Day'] = pd.to_datetime(tourism['Day'], format='%m/%d/%Y', errors='coerce')\n",
    "\n",
    "# Group by month and year to calculate total flights per month\n",
    "monthly_flights = tourism.groupby(tourism['Day'].dt.to_period('M'))['Flights'].sum().reset_index()\n",
    "monthly_flights.columns = ['Month', 'Total Flights']\n",
    "\n",
    "# Merge with original DataFrame to calculate percentage\n",
    "flights_df = tourism.merge(monthly_flights, left_on=tourism['Day'].dt.to_period('M'), right_on='Month', how='left')\n",
    "\n",
    "# Calculate percentage of flights\n",
    "flights_df['Percentage of Flights'] = (flights_df['Flights'] / flights_df['Total Flights']) * 100\n",
    "\n",
    "# Clean up DataFrame\n",
    "flights_df.drop(columns=['Month'], inplace=True)\n"
   ]
  },
  {
   "cell_type": "code",
   "execution_count": 4,
   "metadata": {},
   "outputs": [
    {
     "name": "stderr",
     "output_type": "stream",
     "text": [
      "C:\\Users\\Bruno\\AppData\\Local\\Temp\\ipykernel_23356\\3366236173.py:19: SettingWithCopyWarning: \n",
      "A value is trying to be set on a copy of a slice from a DataFrame.\n",
      "Try using .loc[row_indexer,col_indexer] = value instead\n",
      "\n",
      "See the caveats in the documentation: https://pandas.pydata.org/pandas-docs/stable/user_guide/indexing.html#returning-a-view-versus-a-copy\n",
      "  vuelos_mes['Percentage of Flights'] = vuelos_mes['Percentage of Flights'] / vuelos_mes['Percentage of Flights'].sum()\n",
      "C:\\Users\\Bruno\\AppData\\Local\\Temp\\ipykernel_23356\\3366236173.py:19: SettingWithCopyWarning: \n",
      "A value is trying to be set on a copy of a slice from a DataFrame.\n",
      "Try using .loc[row_indexer,col_indexer] = value instead\n",
      "\n",
      "See the caveats in the documentation: https://pandas.pydata.org/pandas-docs/stable/user_guide/indexing.html#returning-a-view-versus-a-copy\n",
      "  vuelos_mes['Percentage of Flights'] = vuelos_mes['Percentage of Flights'] / vuelos_mes['Percentage of Flights'].sum()\n",
      "C:\\Users\\Bruno\\AppData\\Local\\Temp\\ipykernel_23356\\3366236173.py:19: SettingWithCopyWarning: \n",
      "A value is trying to be set on a copy of a slice from a DataFrame.\n",
      "Try using .loc[row_indexer,col_indexer] = value instead\n",
      "\n",
      "See the caveats in the documentation: https://pandas.pydata.org/pandas-docs/stable/user_guide/indexing.html#returning-a-view-versus-a-copy\n",
      "  vuelos_mes['Percentage of Flights'] = vuelos_mes['Percentage of Flights'] / vuelos_mes['Percentage of Flights'].sum()\n",
      "C:\\Users\\Bruno\\AppData\\Local\\Temp\\ipykernel_23356\\3366236173.py:19: SettingWithCopyWarning: \n",
      "A value is trying to be set on a copy of a slice from a DataFrame.\n",
      "Try using .loc[row_indexer,col_indexer] = value instead\n",
      "\n",
      "See the caveats in the documentation: https://pandas.pydata.org/pandas-docs/stable/user_guide/indexing.html#returning-a-view-versus-a-copy\n",
      "  vuelos_mes['Percentage of Flights'] = vuelos_mes['Percentage of Flights'] / vuelos_mes['Percentage of Flights'].sum()\n",
      "C:\\Users\\Bruno\\AppData\\Local\\Temp\\ipykernel_23356\\3366236173.py:19: SettingWithCopyWarning: \n",
      "A value is trying to be set on a copy of a slice from a DataFrame.\n",
      "Try using .loc[row_indexer,col_indexer] = value instead\n",
      "\n",
      "See the caveats in the documentation: https://pandas.pydata.org/pandas-docs/stable/user_guide/indexing.html#returning-a-view-versus-a-copy\n",
      "  vuelos_mes['Percentage of Flights'] = vuelos_mes['Percentage of Flights'] / vuelos_mes['Percentage of Flights'].sum()\n",
      "C:\\Users\\Bruno\\AppData\\Local\\Temp\\ipykernel_23356\\3366236173.py:19: SettingWithCopyWarning: \n",
      "A value is trying to be set on a copy of a slice from a DataFrame.\n",
      "Try using .loc[row_indexer,col_indexer] = value instead\n",
      "\n",
      "See the caveats in the documentation: https://pandas.pydata.org/pandas-docs/stable/user_guide/indexing.html#returning-a-view-versus-a-copy\n",
      "  vuelos_mes['Percentage of Flights'] = vuelos_mes['Percentage of Flights'] / vuelos_mes['Percentage of Flights'].sum()\n",
      "C:\\Users\\Bruno\\AppData\\Local\\Temp\\ipykernel_23356\\3366236173.py:19: SettingWithCopyWarning: \n",
      "A value is trying to be set on a copy of a slice from a DataFrame.\n",
      "Try using .loc[row_indexer,col_indexer] = value instead\n",
      "\n",
      "See the caveats in the documentation: https://pandas.pydata.org/pandas-docs/stable/user_guide/indexing.html#returning-a-view-versus-a-copy\n",
      "  vuelos_mes['Percentage of Flights'] = vuelos_mes['Percentage of Flights'] / vuelos_mes['Percentage of Flights'].sum()\n",
      "C:\\Users\\Bruno\\AppData\\Local\\Temp\\ipykernel_23356\\3366236173.py:19: SettingWithCopyWarning: \n",
      "A value is trying to be set on a copy of a slice from a DataFrame.\n",
      "Try using .loc[row_indexer,col_indexer] = value instead\n",
      "\n",
      "See the caveats in the documentation: https://pandas.pydata.org/pandas-docs/stable/user_guide/indexing.html#returning-a-view-versus-a-copy\n",
      "  vuelos_mes['Percentage of Flights'] = vuelos_mes['Percentage of Flights'] / vuelos_mes['Percentage of Flights'].sum()\n",
      "C:\\Users\\Bruno\\AppData\\Local\\Temp\\ipykernel_23356\\3366236173.py:19: SettingWithCopyWarning: \n",
      "A value is trying to be set on a copy of a slice from a DataFrame.\n",
      "Try using .loc[row_indexer,col_indexer] = value instead\n",
      "\n",
      "See the caveats in the documentation: https://pandas.pydata.org/pandas-docs/stable/user_guide/indexing.html#returning-a-view-versus-a-copy\n",
      "  vuelos_mes['Percentage of Flights'] = vuelos_mes['Percentage of Flights'] / vuelos_mes['Percentage of Flights'].sum()\n",
      "C:\\Users\\Bruno\\AppData\\Local\\Temp\\ipykernel_23356\\3366236173.py:19: SettingWithCopyWarning: \n",
      "A value is trying to be set on a copy of a slice from a DataFrame.\n",
      "Try using .loc[row_indexer,col_indexer] = value instead\n",
      "\n",
      "See the caveats in the documentation: https://pandas.pydata.org/pandas-docs/stable/user_guide/indexing.html#returning-a-view-versus-a-copy\n",
      "  vuelos_mes['Percentage of Flights'] = vuelos_mes['Percentage of Flights'] / vuelos_mes['Percentage of Flights'].sum()\n",
      "C:\\Users\\Bruno\\AppData\\Local\\Temp\\ipykernel_23356\\3366236173.py:19: SettingWithCopyWarning: \n",
      "A value is trying to be set on a copy of a slice from a DataFrame.\n",
      "Try using .loc[row_indexer,col_indexer] = value instead\n",
      "\n",
      "See the caveats in the documentation: https://pandas.pydata.org/pandas-docs/stable/user_guide/indexing.html#returning-a-view-versus-a-copy\n",
      "  vuelos_mes['Percentage of Flights'] = vuelos_mes['Percentage of Flights'] / vuelos_mes['Percentage of Flights'].sum()\n",
      "C:\\Users\\Bruno\\AppData\\Local\\Temp\\ipykernel_23356\\3366236173.py:19: SettingWithCopyWarning: \n",
      "A value is trying to be set on a copy of a slice from a DataFrame.\n",
      "Try using .loc[row_indexer,col_indexer] = value instead\n",
      "\n",
      "See the caveats in the documentation: https://pandas.pydata.org/pandas-docs/stable/user_guide/indexing.html#returning-a-view-versus-a-copy\n",
      "  vuelos_mes['Percentage of Flights'] = vuelos_mes['Percentage of Flights'] / vuelos_mes['Percentage of Flights'].sum()\n",
      "C:\\Users\\Bruno\\AppData\\Local\\Temp\\ipykernel_23356\\3366236173.py:19: SettingWithCopyWarning: \n",
      "A value is trying to be set on a copy of a slice from a DataFrame.\n",
      "Try using .loc[row_indexer,col_indexer] = value instead\n",
      "\n",
      "See the caveats in the documentation: https://pandas.pydata.org/pandas-docs/stable/user_guide/indexing.html#returning-a-view-versus-a-copy\n",
      "  vuelos_mes['Percentage of Flights'] = vuelos_mes['Percentage of Flights'] / vuelos_mes['Percentage of Flights'].sum()\n",
      "C:\\Users\\Bruno\\AppData\\Local\\Temp\\ipykernel_23356\\3366236173.py:19: SettingWithCopyWarning: \n",
      "A value is trying to be set on a copy of a slice from a DataFrame.\n",
      "Try using .loc[row_indexer,col_indexer] = value instead\n",
      "\n",
      "See the caveats in the documentation: https://pandas.pydata.org/pandas-docs/stable/user_guide/indexing.html#returning-a-view-versus-a-copy\n",
      "  vuelos_mes['Percentage of Flights'] = vuelos_mes['Percentage of Flights'] / vuelos_mes['Percentage of Flights'].sum()\n",
      "C:\\Users\\Bruno\\AppData\\Local\\Temp\\ipykernel_23356\\3366236173.py:19: SettingWithCopyWarning: \n",
      "A value is trying to be set on a copy of a slice from a DataFrame.\n",
      "Try using .loc[row_indexer,col_indexer] = value instead\n",
      "\n",
      "See the caveats in the documentation: https://pandas.pydata.org/pandas-docs/stable/user_guide/indexing.html#returning-a-view-versus-a-copy\n",
      "  vuelos_mes['Percentage of Flights'] = vuelos_mes['Percentage of Flights'] / vuelos_mes['Percentage of Flights'].sum()\n",
      "C:\\Users\\Bruno\\AppData\\Local\\Temp\\ipykernel_23356\\3366236173.py:19: SettingWithCopyWarning: \n",
      "A value is trying to be set on a copy of a slice from a DataFrame.\n",
      "Try using .loc[row_indexer,col_indexer] = value instead\n",
      "\n",
      "See the caveats in the documentation: https://pandas.pydata.org/pandas-docs/stable/user_guide/indexing.html#returning-a-view-versus-a-copy\n",
      "  vuelos_mes['Percentage of Flights'] = vuelos_mes['Percentage of Flights'] / vuelos_mes['Percentage of Flights'].sum()\n",
      "C:\\Users\\Bruno\\AppData\\Local\\Temp\\ipykernel_23356\\3366236173.py:19: SettingWithCopyWarning: \n",
      "A value is trying to be set on a copy of a slice from a DataFrame.\n",
      "Try using .loc[row_indexer,col_indexer] = value instead\n",
      "\n",
      "See the caveats in the documentation: https://pandas.pydata.org/pandas-docs/stable/user_guide/indexing.html#returning-a-view-versus-a-copy\n",
      "  vuelos_mes['Percentage of Flights'] = vuelos_mes['Percentage of Flights'] / vuelos_mes['Percentage of Flights'].sum()\n",
      "C:\\Users\\Bruno\\AppData\\Local\\Temp\\ipykernel_23356\\3366236173.py:19: SettingWithCopyWarning: \n",
      "A value is trying to be set on a copy of a slice from a DataFrame.\n",
      "Try using .loc[row_indexer,col_indexer] = value instead\n",
      "\n",
      "See the caveats in the documentation: https://pandas.pydata.org/pandas-docs/stable/user_guide/indexing.html#returning-a-view-versus-a-copy\n",
      "  vuelos_mes['Percentage of Flights'] = vuelos_mes['Percentage of Flights'] / vuelos_mes['Percentage of Flights'].sum()\n",
      "C:\\Users\\Bruno\\AppData\\Local\\Temp\\ipykernel_23356\\3366236173.py:19: SettingWithCopyWarning: \n",
      "A value is trying to be set on a copy of a slice from a DataFrame.\n",
      "Try using .loc[row_indexer,col_indexer] = value instead\n",
      "\n",
      "See the caveats in the documentation: https://pandas.pydata.org/pandas-docs/stable/user_guide/indexing.html#returning-a-view-versus-a-copy\n",
      "  vuelos_mes['Percentage of Flights'] = vuelos_mes['Percentage of Flights'] / vuelos_mes['Percentage of Flights'].sum()\n",
      "C:\\Users\\Bruno\\AppData\\Local\\Temp\\ipykernel_23356\\3366236173.py:19: SettingWithCopyWarning: \n",
      "A value is trying to be set on a copy of a slice from a DataFrame.\n",
      "Try using .loc[row_indexer,col_indexer] = value instead\n",
      "\n",
      "See the caveats in the documentation: https://pandas.pydata.org/pandas-docs/stable/user_guide/indexing.html#returning-a-view-versus-a-copy\n",
      "  vuelos_mes['Percentage of Flights'] = vuelos_mes['Percentage of Flights'] / vuelos_mes['Percentage of Flights'].sum()\n",
      "C:\\Users\\Bruno\\AppData\\Local\\Temp\\ipykernel_23356\\3366236173.py:19: SettingWithCopyWarning: \n",
      "A value is trying to be set on a copy of a slice from a DataFrame.\n",
      "Try using .loc[row_indexer,col_indexer] = value instead\n",
      "\n",
      "See the caveats in the documentation: https://pandas.pydata.org/pandas-docs/stable/user_guide/indexing.html#returning-a-view-versus-a-copy\n",
      "  vuelos_mes['Percentage of Flights'] = vuelos_mes['Percentage of Flights'] / vuelos_mes['Percentage of Flights'].sum()\n",
      "C:\\Users\\Bruno\\AppData\\Local\\Temp\\ipykernel_23356\\3366236173.py:19: SettingWithCopyWarning: \n",
      "A value is trying to be set on a copy of a slice from a DataFrame.\n",
      "Try using .loc[row_indexer,col_indexer] = value instead\n",
      "\n",
      "See the caveats in the documentation: https://pandas.pydata.org/pandas-docs/stable/user_guide/indexing.html#returning-a-view-versus-a-copy\n",
      "  vuelos_mes['Percentage of Flights'] = vuelos_mes['Percentage of Flights'] / vuelos_mes['Percentage of Flights'].sum()\n"
     ]
    },
    {
     "ename": "ValueError",
     "evalue": "cannot convert float NaN to integer",
     "output_type": "error",
     "traceback": [
      "\u001b[1;31m---------------------------------------------------------------------------\u001b[0m",
      "\u001b[1;31mValueError\u001b[0m                                Traceback (most recent call last)",
      "Cell \u001b[1;32mIn[4], line 23\u001b[0m\n\u001b[0;32m     21\u001b[0m     \u001b[38;5;66;03m# Distribuir las pernoctaciones diarias\u001b[39;00m\n\u001b[0;32m     22\u001b[0m     \u001b[38;5;28;01mfor\u001b[39;00m _, vuelo \u001b[38;5;129;01min\u001b[39;00m vuelos_mes\u001b[38;5;241m.\u001b[39miterrows():\n\u001b[1;32m---> 23\u001b[0m         pernoctaciones_diarias \u001b[38;5;241m=\u001b[39m \u001b[38;5;28mround\u001b[39m(\u001b[38;5;28;43mint\u001b[39;49m\u001b[43m(\u001b[49m\u001b[43mpernoctaciones_mensuales\u001b[49m\u001b[43m)\u001b[49m \u001b[38;5;241m*\u001b[39m vuelo[\u001b[38;5;124m'\u001b[39m\u001b[38;5;124mPercentage of Flights\u001b[39m\u001b[38;5;124m'\u001b[39m])\n\u001b[0;32m     24\u001b[0m         resultados\u001b[38;5;241m.\u001b[39mappend({\n\u001b[0;32m     25\u001b[0m             \u001b[38;5;124m'\u001b[39m\u001b[38;5;124mDay\u001b[39m\u001b[38;5;124m'\u001b[39m: vuelo[\u001b[38;5;124m'\u001b[39m\u001b[38;5;124mDay\u001b[39m\u001b[38;5;124m'\u001b[39m],\n\u001b[0;32m     26\u001b[0m             \u001b[38;5;124m'\u001b[39m\u001b[38;5;124mtipus allotjament\u001b[39m\u001b[38;5;124m'\u001b[39m: row[\u001b[38;5;124m'\u001b[39m\u001b[38;5;124mTipologia d\u001b[39m\u001b[38;5;130;01m\\'\u001b[39;00m\u001b[38;5;124mallotjament\u001b[39m\u001b[38;5;124m'\u001b[39m],\n\u001b[0;32m     27\u001b[0m             \u001b[38;5;124m'\u001b[39m\u001b[38;5;124mpernoctacions\u001b[39m\u001b[38;5;124m'\u001b[39m: pernoctaciones_diarias\n\u001b[0;32m     28\u001b[0m         })\n\u001b[0;32m     30\u001b[0m \u001b[38;5;66;03m# Crear el DataFrame final\u001b[39;00m\n",
      "\u001b[1;31mValueError\u001b[0m: cannot convert float NaN to integer"
     ]
    }
   ],
   "source": [
    "# Convertir las fechas en ambos datasets al mismo formato\n",
    "pernoctacions['Data'] = pd.to_datetime(pernoctacions['Data'], format='%m/%d/%Y')\n",
    "flights_df['Day'] = pd.to_datetime(flights_df['Day'])\n",
    "pernoctacions['Pernoctacions'] = pd.to_numeric(pernoctacions['Pernoctacions'].str.replace(',', ''), errors='coerce')\n",
    "\n",
    "# Iterar sobre los meses de pernoctaciones y distribuir según los porcentajes diarios de vuelos\n",
    "resultados = []\n",
    "\n",
    "for _, row in pernoctacions.iterrows():\n",
    "    # Extraer el mes y año\n",
    "    mes = row['Data'].month\n",
    "    anyo = row['Data'].year\n",
    "    pernoctaciones_mensuales = row['Pernoctacions']\n",
    "    \n",
    "    # Filtrar los vuelos de ese mes y año\n",
    "    vuelos_mes = flights_df[(flights_df['Day'].dt.month == mes) & (flights_df['Day'].dt.year == anyo)]\n",
    "    \n",
    "    # Normalizar los porcentajes de vuelos\n",
    "    vuelos_mes['Percentage of Flights'] = vuelos_mes['Percentage of Flights'] / vuelos_mes['Percentage of Flights'].sum()\n",
    "    \n",
    "    # Distribuir las pernoctaciones diarias\n",
    "    for _, vuelo in vuelos_mes.iterrows():\n",
    "        pernoctaciones_diarias = round(int(pernoctaciones_mensuales) * vuelo['Percentage of Flights'])\n",
    "        resultados.append({\n",
    "            'Day': vuelo['Day'],\n",
    "            'tipus allotjament': row['Tipologia d\\'allotjament'],\n",
    "            'pernoctacions': pernoctaciones_diarias\n",
    "        })\n",
    "\n",
    "# Crear el DataFrame final\n",
    "resultado_df = pd.DataFrame(resultados)\n",
    "\n",
    "# Don't print warnings\n",
    "pd.options.mode.chained_assignment = None"
   ]
  },
  {
   "cell_type": "code",
   "execution_count": null,
   "metadata": {},
   "outputs": [],
   "source": [
    "resultado_df = resultado_df.sort_values(by='Day', ascending=False)"
   ]
  },
  {
   "cell_type": "code",
   "execution_count": null,
   "metadata": {},
   "outputs": [],
   "source": [
    "clima_df = clima_df.groupby('fecha').agg({\n",
    "    'temp_max': 'mean',\n",
    "    'temp_min': 'mean',\n",
    "    'precipitacion': 'mean'\n",
    "}).round(2).reset_index()\n"
   ]
  },
  {
   "cell_type": "code",
   "execution_count": null,
   "metadata": {},
   "outputs": [],
   "source": [
    "# Convertir la columna 'fecha' a formato datetime\n",
    "clima_df['fecha'] = pd.to_datetime(clima_df['fecha'])\n",
    "\n",
    "# Asegurarse de que la columna 'Day' en resultado_df esté en formato datetime\n",
    "resultado_df['Day'] = pd.to_datetime(resultado_df['Day'])\n",
    "\n",
    "# Hacer el merge por la columna de fecha (Day en resultado_df y fecha en clima_df)\n",
    "merged_df = pd.merge(resultado_df, clima_df, left_on='Day', right_on='fecha', how='left')"
   ]
  },
  {
   "cell_type": "code",
   "execution_count": null,
   "metadata": {},
   "outputs": [],
   "source": [
    "# Step 1: Remove the `fecha` column\n",
    "df = merged_df.drop(columns=['fecha'])\n",
    "\n",
    "# Step 2: Pivot the data\n",
    "df_pivoted = df.pivot_table(\n",
    "    index=[\"Day\", \"temp_max\", \"temp_min\", \"precipitacion\"],\n",
    "    columns=\"tipus allotjament\",\n",
    "    values=\"pernoctacions\",\n",
    "    fill_value=0  # Optional: fill missing values with 0\n",
    ").reset_index()\n",
    "\n",
    "# Step 3: Rename columns\n",
    "df_pivoted.columns = [\n",
    "    \"Day\", \"temp_max\", \"temp_min\", \"precipitacion\",\n",
    "    \"Pernoctacions_Albergs\", \"Pernoctacions_Habitatge_turístic\", \"Pernoctacions_Hotel\"\n",
    "]\n",
    "\n",
    "# Step 4: Add `Pernoctacions_Albergs` to `Pernoctacions_Hotel`\n",
    "df_pivoted[\"Pernoctacions_Hotel\"] += df_pivoted[\"Pernoctacions_Albergs\"]\n",
    "\n",
    "# Step 5: Drop `Pernoctacions_Albergs` column\n",
    "df_pivoted = df_pivoted.drop(columns=[\"Pernoctacions_Albergs\"])\n",
    "\n",
    "#Change Day format\n",
    "df_pivoted['Day'] = pd.to_datetime(df_pivoted['Day']).dt.strftime('%d-%m-%Y')"
   ]
  },
  {
   "cell_type": "code",
   "execution_count": null,
   "metadata": {},
   "outputs": [],
   "source": [
    "df_pivoted.head()"
   ]
  },
  {
   "cell_type": "code",
   "execution_count": null,
   "metadata": {},
   "outputs": [],
   "source": [
    "# df_pivoted.to_csv('../data/Preprocessed_Data/Tourism_Temp_bcn.csv', index=False)\n",
    "tourism_temp_bcn = df_pivoted"
   ]
  },
  {
   "cell_type": "markdown",
   "metadata": {},
   "source": [
    "### End of Martí's code"
   ]
  },
  {
   "cell_type": "code",
   "execution_count": null,
   "metadata": {},
   "outputs": [],
   "source": [
    "daily_aigues = pd.read_csv(\"../data/local_data/daily_dataset.csv\", encoding='latin1')\n",
    "daily_aigues.tail()"
   ]
  },
  {
   "cell_type": "code",
   "execution_count": null,
   "metadata": {},
   "outputs": [],
   "source": [
    "daily_aigues = daily_aigues.rename(columns={\n",
    "    daily_aigues.columns[0]: 'Census Section',\n",
    "    daily_aigues.columns[1]: 'District',\n",
    "    daily_aigues.columns[2]: 'Municipality',\n",
    "    daily_aigues.columns[3]: 'Date',\n",
    "    daily_aigues.columns[4]: 'Use',\n",
    "    daily_aigues.columns[5]: 'Number of Meters',\n",
    "    daily_aigues.columns[6]: 'Accumulated Consumption'\n",
    "})\n",
    "\n",
    "daily_aigues['Date'] = pd.to_datetime(daily_aigues['Date'])\n",
    "\n",
    "daily_aigues.info()"
   ]
  },
  {
   "cell_type": "code",
   "execution_count": null,
   "metadata": {},
   "outputs": [],
   "source": [
    "daily_aigues['Use'] = daily_aigues['Use'].replace({\n",
    "    'Comercial/Comercial/Commercial': 'Commercial',\n",
    "    'DomÃ¨stic/DomÃ©stico/Domestic': 'Domestic',\n",
    "    'Industrial/Industrial/Industrial': 'Industrial'\n",
    "})\n",
    "\n",
    "daily_aigues['Use'].unique()"
   ]
  },
  {
   "cell_type": "code",
   "execution_count": null,
   "metadata": {},
   "outputs": [],
   "source": [
    "daily_aigues['Municipality'].unique()"
   ]
  },
  {
   "cell_type": "code",
   "execution_count": null,
   "metadata": {},
   "outputs": [],
   "source": [
    "daily_aigues_bcn = daily_aigues[daily_aigues['Municipality'] == 'BARCELONA'].drop(columns=[\"Municipality\"])"
   ]
  },
  {
   "cell_type": "code",
   "execution_count": null,
   "metadata": {},
   "outputs": [],
   "source": [
    "daily_aigues_bcn.tail(20)"
   ]
  },
  {
   "cell_type": "code",
   "execution_count": null,
   "metadata": {},
   "outputs": [],
   "source": [
    "daily_aigues_bcn.shape"
   ]
  },
  {
   "cell_type": "code",
   "execution_count": null,
   "metadata": {},
   "outputs": [],
   "source": [
    "# tourism_temp_bcn imported from Marti's code above\n",
    "# tourism_temp_bcn = pd.read_csv(\"../data/tourism_temp_bcn.csv\")\n",
    "tourism_temp_bcn.head()"
   ]
  },
  {
   "cell_type": "code",
   "execution_count": null,
   "metadata": {},
   "outputs": [],
   "source": [
    "tourism_temp_bcn = tourism_temp_bcn.rename(columns={\n",
    "    tourism_temp_bcn.columns.values[0] : 'Day',\n",
    "    tourism_temp_bcn.columns.values[1] : 'Max Temperature',\n",
    "    tourism_temp_bcn.columns.values[2] : 'Min Temperature',\n",
    "    tourism_temp_bcn.columns.values[3] : 'Precipitation',\n",
    "    tourism_temp_bcn.columns.values[4] : 'Tourist Accommodations',\n",
    "    tourism_temp_bcn.columns.values[5] : 'Hotel Overnight Stays'\n",
    "})\n",
    "\n",
    "tourism_temp_bcn['Day'] = pd.to_datetime(tourism_temp_bcn['Day'], format=\"%d-%m-%Y\")"
   ]
  },
  {
   "cell_type": "code",
   "execution_count": null,
   "metadata": {},
   "outputs": [],
   "source": [
    "tourism_temp_bcn.info()"
   ]
  },
  {
   "cell_type": "code",
   "execution_count": null,
   "metadata": {},
   "outputs": [],
   "source": [
    "merged_data = (daily_aigues_bcn.merge(tourism_temp_bcn, left_on='Date', right_on='Day', how='left')).drop(columns=[\"Day\"])"
   ]
  },
  {
   "cell_type": "code",
   "execution_count": null,
   "metadata": {},
   "outputs": [],
   "source": [
    "merged_data.shape"
   ]
  },
  {
   "cell_type": "code",
   "execution_count": null,
   "metadata": {},
   "outputs": [],
   "source": [
    "merged_data.head(5)"
   ]
  },
  {
   "cell_type": "code",
   "execution_count": null,
   "metadata": {},
   "outputs": [],
   "source": [
    "# one_hot_encoded = pd.get_dummies(merged_data)"
   ]
  },
  {
   "cell_type": "markdown",
   "metadata": {},
   "source": [
    "### End of Yuyan's code"
   ]
  },
  {
   "cell_type": "code",
   "execution_count": null,
   "metadata": {},
   "outputs": [],
   "source": [
    "# the column hotel overnight stays has a .0 at the end and it should be int. Let's fix it\n",
    "merged_data['Hotel Overnight Stays'] = merged_data['Hotel Overnight Stays'].astype(int)"
   ]
  },
  {
   "cell_type": "code",
   "execution_count": null,
   "metadata": {},
   "outputs": [],
   "source": [
    "merged_data.isna().sum()"
   ]
  },
  {
   "cell_type": "code",
   "execution_count": null,
   "metadata": {},
   "outputs": [],
   "source": [
    "# As the columns census section and district contain some nulls, we will drop the rows with nulls in these columns\n",
    "merged_data = merged_data.dropna(subset=['Census Section', 'District'])"
   ]
  },
  {
   "cell_type": "code",
   "execution_count": null,
   "metadata": {},
   "outputs": [],
   "source": [
    "merged_data.isna().sum()"
   ]
  },
  {
   "cell_type": "code",
   "execution_count": null,
   "metadata": {},
   "outputs": [],
   "source": [
    "# plot the accumulated consumption to detect outliers\n",
    "plt.figure(figsize=(20, 6))\n",
    "plt.plot(merged_data['Accumulated Consumption'])\n",
    "plt.title('Accumulated Consumption')\n",
    "plt.show()"
   ]
  },
  {
   "cell_type": "code",
   "execution_count": null,
   "metadata": {},
   "outputs": [],
   "source": [
    "# Drop all the accumulated consumption values below 0\n",
    "merged_data = merged_data[merged_data['Accumulated Consumption'] > 0]"
   ]
  },
  {
   "cell_type": "code",
   "execution_count": null,
   "metadata": {},
   "outputs": [],
   "source": [
    "merged_data.describe()"
   ]
  },
  {
   "cell_type": "code",
   "execution_count": null,
   "metadata": {},
   "outputs": [],
   "source": [
    "# There's a couple of observations with the Census Section and the District columns that are <NULL> and >. We will drop these rows\n",
    "merged_data = merged_data[merged_data['Census Section'] != '<NULL>']\n",
    "merged_data = merged_data[merged_data['District'] != '>']\n",
    "merged_cleaned_data = merged_data"
   ]
  },
  {
   "cell_type": "code",
   "execution_count": null,
   "metadata": {},
   "outputs": [],
   "source": [
    "# Save CSV data\n",
    "\n",
    "# Create the directory if it does not exist\n",
    "os.makedirs('../data/local_data/', exist_ok=True)\n",
    "\n",
    "# Save the cleaned dataset\n",
    "merged_cleaned_data.to_csv('../data/local_data/merged_cleaned_data.csv', index=False)"
   ]
  }
 ],
 "metadata": {
  "kernelspec": {
   "display_name": "HNights",
   "language": "python",
   "name": "python3"
  },
  "language_info": {
   "codemirror_mode": {
    "name": "ipython",
    "version": 3
   },
   "file_extension": ".py",
   "mimetype": "text/x-python",
   "name": "python",
   "nbconvert_exporter": "python",
   "pygments_lexer": "ipython3",
   "version": "3.11.10"
  }
 },
 "nbformat": 4,
 "nbformat_minor": 2
}
