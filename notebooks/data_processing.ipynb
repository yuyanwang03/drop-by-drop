{
 "cells": [
  {
   "cell_type": "markdown",
   "metadata": {},
   "source": [
    "NOTE: This notebook is assuming you have the `daily_dataset.csv` inside the folder local_data in data, and the `pernoctacions_2019_2024.csv`, `temperature_precipitation.csv` and `tourism_flux.csv` datasets inside the folder data.\n",
    "\n",
    "The `daily_dataset.csv` should be exactly how it is when it is being recently downloaded from the AB Datachallenge portal."
   ]
  },
  {
   "cell_type": "code",
   "execution_count": 36,
   "metadata": {},
   "outputs": [],
   "source": [
    "import pandas as pd\n",
    "from collections import Counter\n",
    "import seaborn as sns\n",
    "import os\n",
    "import numpy as np\n",
    "from matplotlib import pyplot\n",
    "import matplotlib.pyplot as plt"
   ]
  },
  {
   "cell_type": "code",
   "execution_count": 37,
   "metadata": {},
   "outputs": [],
   "source": [
    "# Load the datasets\n",
    "pernoctacions = pd.read_csv('../data/pernoctacions_2019_2024.csv')\n",
    "tourism = pd.read_csv('../data/tourism_flux.csv')\n",
    "clima_df = pd.read_csv('../data/temperature_precipitation.csv')"
   ]
  },
  {
   "cell_type": "code",
   "execution_count": 38,
   "metadata": {},
   "outputs": [],
   "source": [
    "# Convert the 'Day' column to datetime with specified format\n",
    "tourism['Day'] = pd.to_datetime(tourism['Day'], format='%m/%d/%Y', errors='coerce')\n",
    "\n",
    "# Group by month and year to calculate total flights per month\n",
    "monthly_flights = tourism.groupby(tourism['Day'].dt.to_period('M'))['Flights'].sum().reset_index()\n",
    "monthly_flights.columns = ['Month', 'Total Flights']\n",
    "\n",
    "# Merge with original DataFrame to calculate percentage\n",
    "flights_df = tourism.merge(monthly_flights, left_on=tourism['Day'].dt.to_period('M'), right_on='Month', how='left')\n",
    "\n",
    "# Calculate percentage of flights\n",
    "flights_df['Percentage of Flights'] = (flights_df['Flights'] / flights_df['Total Flights']) * 100\n",
    "\n",
    "# Clean up DataFrame\n",
    "flights_df.drop(columns=['Month'], inplace=True)\n"
   ]
  },
  {
   "cell_type": "code",
   "execution_count": 39,
   "metadata": {},
   "outputs": [],
   "source": [
    "# Convertir las fechas en ambos datasets al mismo formato\n",
    "pernoctacions['Data'] = pd.to_datetime(pernoctacions['Data'], format='%m/%d/%Y')\n",
    "flights_df['Day'] = pd.to_datetime(flights_df['Day'])\n",
    "pernoctacions['Pernoctacions'] = pd.to_numeric(pernoctacions['Pernoctacions'].str.replace('.', ''), errors='coerce')\n",
    "\n",
    "# Iterar sobre los meses de pernoctaciones y distribuir según los porcentajes diarios de vuelos\n",
    "resultados = []\n",
    "\n",
    "for _, row in pernoctacions.iterrows():\n",
    "    # Extraer el mes y año\n",
    "    mes = row['Data'].month\n",
    "    anyo = row['Data'].year\n",
    "    pernoctaciones_mensuales = row['Pernoctacions']\n",
    "    \n",
    "    # Filtrar los vuelos de ese mes y año\n",
    "    vuelos_mes = flights_df[(flights_df['Day'].dt.month == mes) & (flights_df['Day'].dt.year == anyo)]\n",
    "    \n",
    "    # Normalizar los porcentajes de vuelos\n",
    "    vuelos_mes['Percentage of Flights'] = vuelos_mes['Percentage of Flights'] / vuelos_mes['Percentage of Flights'].sum()\n",
    "    \n",
    "    # Distribuir las pernoctaciones diarias\n",
    "    for _, vuelo in vuelos_mes.iterrows():\n",
    "        pernoctaciones_diarias = round(int(pernoctaciones_mensuales) * vuelo['Percentage of Flights'])\n",
    "        resultados.append({\n",
    "            'Day': vuelo['Day'],\n",
    "            'tipus allotjament': row['Tipologia d\\'allotjament'],\n",
    "            'pernoctacions': pernoctaciones_diarias\n",
    "        })\n",
    "\n",
    "# Crear el DataFrame final\n",
    "resultado_df = pd.DataFrame(resultados)\n",
    "\n",
    "# Don't print warnings\n",
    "pd.options.mode.chained_assignment = None"
   ]
  },
  {
   "cell_type": "code",
   "execution_count": 40,
   "metadata": {},
   "outputs": [],
   "source": [
    "resultado_df = resultado_df.sort_values(by='Day', ascending=False)"
   ]
  },
  {
   "cell_type": "code",
   "execution_count": 41,
   "metadata": {},
   "outputs": [],
   "source": [
    "clima_df = clima_df.groupby('fecha').agg({\n",
    "    'temp_max': 'mean',\n",
    "    'temp_min': 'mean',\n",
    "    'precipitacion': 'mean'\n",
    "}).round(2).reset_index()\n"
   ]
  },
  {
   "cell_type": "code",
   "execution_count": 42,
   "metadata": {},
   "outputs": [],
   "source": [
    "# Convertir la columna 'fecha' a formato datetime\n",
    "clima_df['fecha'] = pd.to_datetime(clima_df['fecha'])\n",
    "\n",
    "# Asegurarse de que la columna 'Day' en resultado_df esté en formato datetime\n",
    "resultado_df['Day'] = pd.to_datetime(resultado_df['Day'])\n",
    "\n",
    "# Hacer el merge por la columna de fecha (Day en resultado_df y fecha en clima_df)\n",
    "merged_df = pd.merge(resultado_df, clima_df, left_on='Day', right_on='fecha', how='left')"
   ]
  },
  {
   "cell_type": "code",
   "execution_count": 43,
   "metadata": {},
   "outputs": [],
   "source": [
    "# Step 1: Remove the `fecha` column\n",
    "df = merged_df.drop(columns=['fecha'])\n",
    "\n",
    "# Step 2: Pivot the data\n",
    "df_pivoted = df.pivot_table(\n",
    "    index=[\"Day\", \"temp_max\", \"temp_min\", \"precipitacion\"],\n",
    "    columns=\"tipus allotjament\",\n",
    "    values=\"pernoctacions\",\n",
    "    fill_value=0  # Optional: fill missing values with 0\n",
    ").reset_index()\n",
    "\n",
    "# Step 3: Rename columns\n",
    "df_pivoted.columns = [\n",
    "    \"Day\", \"temp_max\", \"temp_min\", \"precipitacion\",\n",
    "    \"Pernoctacions_Albergs\", \"Pernoctacions_Habitatge_turístic\", \"Pernoctacions_Hotel\"\n",
    "]\n",
    "\n",
    "# Step 4: Add `Pernoctacions_Albergs` to `Pernoctacions_Hotel`\n",
    "df_pivoted[\"Pernoctacions_Hotel\"] += df_pivoted[\"Pernoctacions_Albergs\"]\n",
    "\n",
    "# Step 5: Drop `Pernoctacions_Albergs` column\n",
    "df_pivoted = df_pivoted.drop(columns=[\"Pernoctacions_Albergs\"])\n",
    "\n",
    "#Change Day format\n",
    "df_pivoted['Day'] = pd.to_datetime(df_pivoted['Day']).dt.strftime('%d-%m-%Y')"
   ]
  },
  {
   "cell_type": "code",
   "execution_count": 44,
   "metadata": {},
   "outputs": [
    {
     "data": {
      "text/html": [
       "<div>\n",
       "<style scoped>\n",
       "    .dataframe tbody tr th:only-of-type {\n",
       "        vertical-align: middle;\n",
       "    }\n",
       "\n",
       "    .dataframe tbody tr th {\n",
       "        vertical-align: top;\n",
       "    }\n",
       "\n",
       "    .dataframe thead th {\n",
       "        text-align: right;\n",
       "    }\n",
       "</style>\n",
       "<table border=\"1\" class=\"dataframe\">\n",
       "  <thead>\n",
       "    <tr style=\"text-align: right;\">\n",
       "      <th></th>\n",
       "      <th>Day</th>\n",
       "      <th>temp_max</th>\n",
       "      <th>temp_min</th>\n",
       "      <th>precipitacion</th>\n",
       "      <th>Pernoctacions_Habitatge_turístic</th>\n",
       "      <th>Pernoctacions_Hotel</th>\n",
       "    </tr>\n",
       "  </thead>\n",
       "  <tbody>\n",
       "    <tr>\n",
       "      <th>0</th>\n",
       "      <td>01-01-2021</td>\n",
       "      <td>7.55</td>\n",
       "      <td>4.30</td>\n",
       "      <td>5.65</td>\n",
       "      <td>3500</td>\n",
       "      <td>8700</td>\n",
       "    </tr>\n",
       "    <tr>\n",
       "      <th>1</th>\n",
       "      <td>02-01-2021</td>\n",
       "      <td>8.55</td>\n",
       "      <td>1.55</td>\n",
       "      <td>0.00</td>\n",
       "      <td>6369</td>\n",
       "      <td>15828</td>\n",
       "    </tr>\n",
       "    <tr>\n",
       "      <th>2</th>\n",
       "      <td>03-01-2021</td>\n",
       "      <td>9.55</td>\n",
       "      <td>0.85</td>\n",
       "      <td>0.00</td>\n",
       "      <td>6904</td>\n",
       "      <td>17160</td>\n",
       "    </tr>\n",
       "    <tr>\n",
       "      <th>3</th>\n",
       "      <td>04-01-2021</td>\n",
       "      <td>10.10</td>\n",
       "      <td>0.65</td>\n",
       "      <td>0.00</td>\n",
       "      <td>5825</td>\n",
       "      <td>14478</td>\n",
       "    </tr>\n",
       "    <tr>\n",
       "      <th>4</th>\n",
       "      <td>05-01-2021</td>\n",
       "      <td>9.40</td>\n",
       "      <td>0.65</td>\n",
       "      <td>0.00</td>\n",
       "      <td>4669</td>\n",
       "      <td>11603</td>\n",
       "    </tr>\n",
       "  </tbody>\n",
       "</table>\n",
       "</div>"
      ],
      "text/plain": [
       "          Day  temp_max  temp_min  precipitacion  \\\n",
       "0  01-01-2021      7.55      4.30           5.65   \n",
       "1  02-01-2021      8.55      1.55           0.00   \n",
       "2  03-01-2021      9.55      0.85           0.00   \n",
       "3  04-01-2021     10.10      0.65           0.00   \n",
       "4  05-01-2021      9.40      0.65           0.00   \n",
       "\n",
       "   Pernoctacions_Habitatge_turístic  Pernoctacions_Hotel  \n",
       "0                              3500                 8700  \n",
       "1                              6369                15828  \n",
       "2                              6904                17160  \n",
       "3                              5825                14478  \n",
       "4                              4669                11603  "
      ]
     },
     "execution_count": 44,
     "metadata": {},
     "output_type": "execute_result"
    }
   ],
   "source": [
    "df_pivoted.head()"
   ]
  },
  {
   "cell_type": "code",
   "execution_count": 45,
   "metadata": {},
   "outputs": [],
   "source": [
    "# df_pivoted.to_csv('../data/Preprocessed_Data/Tourism_Temp_bcn.csv', index=False)\n",
    "tourism_temp_bcn = df_pivoted"
   ]
  },
  {
   "cell_type": "markdown",
   "metadata": {},
   "source": [
    "### End of Martí's code"
   ]
  },
  {
   "cell_type": "code",
   "execution_count": 46,
   "metadata": {},
   "outputs": [
    {
     "data": {
      "text/html": [
       "<div>\n",
       "<style scoped>\n",
       "    .dataframe tbody tr th:only-of-type {\n",
       "        vertical-align: middle;\n",
       "    }\n",
       "\n",
       "    .dataframe tbody tr th {\n",
       "        vertical-align: top;\n",
       "    }\n",
       "\n",
       "    .dataframe thead th {\n",
       "        text-align: right;\n",
       "    }\n",
       "</style>\n",
       "<table border=\"1\" class=\"dataframe\">\n",
       "  <thead>\n",
       "    <tr style=\"text-align: right;\">\n",
       "      <th></th>\n",
       "      <th>Secció censal/Sección censal/Census section</th>\n",
       "      <th>Districte/Distrito/District</th>\n",
       "      <th>Municipi/Municipio/Municipality</th>\n",
       "      <th>Data/Fecha/Date</th>\n",
       "      <th>Ús/Uso/Use</th>\n",
       "      <th>Nombre de comptadors/Número de contadores/Number of meters</th>\n",
       "      <th>Consum acumulat (L/dia)/Consumo acumulado (L/día)/Accumulated consumption (L/day)</th>\n",
       "    </tr>\n",
       "  </thead>\n",
       "  <tbody>\n",
       "    <tr>\n",
       "      <th>15834</th>\n",
       "      <td>0810106032</td>\n",
       "      <td>06</td>\n",
       "      <td>L'HOSPITALET LLOBR.</td>\n",
       "      <td>2023-01-30</td>\n",
       "      <td>Domèstic/Doméstico/Domestic</td>\n",
       "      <td>325</td>\n",
       "      <td>4824</td>\n",
       "    </tr>\n",
       "    <tr>\n",
       "      <th>15835</th>\n",
       "      <td>0810106032</td>\n",
       "      <td>06</td>\n",
       "      <td>L'HOSPITALET LLOBR.</td>\n",
       "      <td>2023-01-30</td>\n",
       "      <td>Industrial/Industrial/Industrial</td>\n",
       "      <td>2</td>\n",
       "      <td>2141</td>\n",
       "    </tr>\n",
       "    <tr>\n",
       "      <th>15836</th>\n",
       "      <td>0810106032</td>\n",
       "      <td>06</td>\n",
       "      <td>L'HOSPITALET LLOBR.</td>\n",
       "      <td>2023-01-31</td>\n",
       "      <td>Comercial/Comercial/Commercial</td>\n",
       "      <td>10</td>\n",
       "      <td>5336</td>\n",
       "    </tr>\n",
       "    <tr>\n",
       "      <th>15837</th>\n",
       "      <td>0810106032</td>\n",
       "      <td>06</td>\n",
       "      <td>L'HOSPITALET LLOBR.</td>\n",
       "      <td>2023-01-31</td>\n",
       "      <td>Domèstic/Doméstico/Domestic</td>\n",
       "      <td>325</td>\n",
       "      <td>5054</td>\n",
       "    </tr>\n",
       "    <tr>\n",
       "      <th>15838</th>\n",
       "      <td>0810106032</td>\n",
       "      <td>06</td>\n",
       "      <td>L'HOSPITALET LLOBR.</td>\n",
       "      <td>2023-01-31</td>\n",
       "      <td>Industrial/Industrial/Industrial</td>\n",
       "      <td>2</td>\n",
       "      <td>2163</td>\n",
       "    </tr>\n",
       "  </tbody>\n",
       "</table>\n",
       "</div>"
      ],
      "text/plain": [
       "      Secció censal/Sección censal/Census section Districte/Distrito/District  \\\n",
       "15834                                  0810106032                          06   \n",
       "15835                                  0810106032                          06   \n",
       "15836                                  0810106032                          06   \n",
       "15837                                  0810106032                          06   \n",
       "15838                                  0810106032                          06   \n",
       "\n",
       "      Municipi/Municipio/Municipality Data/Fecha/Date  \\\n",
       "15834             L'HOSPITALET LLOBR.      2023-01-30   \n",
       "15835             L'HOSPITALET LLOBR.      2023-01-30   \n",
       "15836             L'HOSPITALET LLOBR.      2023-01-31   \n",
       "15837             L'HOSPITALET LLOBR.      2023-01-31   \n",
       "15838             L'HOSPITALET LLOBR.      2023-01-31   \n",
       "\n",
       "                             Ús/Uso/Use  \\\n",
       "15834       Domèstic/Doméstico/Domestic   \n",
       "15835  Industrial/Industrial/Industrial   \n",
       "15836    Comercial/Comercial/Commercial   \n",
       "15837       Domèstic/Doméstico/Domestic   \n",
       "15838  Industrial/Industrial/Industrial   \n",
       "\n",
       "       Nombre de comptadors/Número de contadores/Number of meters  \\\n",
       "15834                                                325            \n",
       "15835                                                  2            \n",
       "15836                                                 10            \n",
       "15837                                                325            \n",
       "15838                                                  2            \n",
       "\n",
       "       Consum acumulat (L/dia)/Consumo acumulado (L/día)/Accumulated consumption (L/day)  \n",
       "15834                                               4824                                  \n",
       "15835                                               2141                                  \n",
       "15836                                               5336                                  \n",
       "15837                                               5054                                  \n",
       "15838                                               2163                                  "
      ]
     },
     "execution_count": 46,
     "metadata": {},
     "output_type": "execute_result"
    }
   ],
   "source": [
    "daily_aigues = pd.read_csv(\"../data/local_data/daily_dataset.csv\", encoding='latin1')\n",
    "daily_aigues.tail()"
   ]
  },
  {
   "cell_type": "code",
   "execution_count": 47,
   "metadata": {},
   "outputs": [
    {
     "name": "stdout",
     "output_type": "stream",
     "text": [
      "<class 'pandas.core.frame.DataFrame'>\n",
      "RangeIndex: 15839 entries, 0 to 15838\n",
      "Data columns (total 7 columns):\n",
      " #   Column                   Non-Null Count  Dtype         \n",
      "---  ------                   --------------  -----         \n",
      " 0   Census Section           15839 non-null  object        \n",
      " 1   District                 15839 non-null  object        \n",
      " 2   Municipality             15839 non-null  object        \n",
      " 3   Date                     15839 non-null  datetime64[ns]\n",
      " 4   Use                      15839 non-null  object        \n",
      " 5   Number of Meters         15839 non-null  int64         \n",
      " 6   Accumulated Consumption  15839 non-null  int64         \n",
      "dtypes: datetime64[ns](1), int64(2), object(4)\n",
      "memory usage: 866.3+ KB\n"
     ]
    }
   ],
   "source": [
    "daily_aigues = daily_aigues.rename(columns={\n",
    "    daily_aigues.columns[0]: 'Census Section',\n",
    "    daily_aigues.columns[1]: 'District',\n",
    "    daily_aigues.columns[2]: 'Municipality',\n",
    "    daily_aigues.columns[3]: 'Date',\n",
    "    daily_aigues.columns[4]: 'Use',\n",
    "    daily_aigues.columns[5]: 'Number of Meters',\n",
    "    daily_aigues.columns[6]: 'Accumulated Consumption'\n",
    "})\n",
    "\n",
    "daily_aigues['Date'] = pd.to_datetime(daily_aigues['Date'])\n",
    "\n",
    "daily_aigues.info()"
   ]
  },
  {
   "cell_type": "code",
   "execution_count": 48,
   "metadata": {},
   "outputs": [
    {
     "data": {
      "text/plain": [
       "array(['Commercial', 'Domèstic/Doméstico/Domestic', 'Industrial'],\n",
       "      dtype=object)"
      ]
     },
     "execution_count": 48,
     "metadata": {},
     "output_type": "execute_result"
    }
   ],
   "source": [
    "daily_aigues['Use'] = daily_aigues['Use'].replace({\n",
    "    'Comercial/Comercial/Commercial': 'Commercial',\n",
    "    'DomÃ¨stic/DomÃ©stico/Domestic': 'Domestic',\n",
    "    'Industrial/Industrial/Industrial': 'Industrial'\n",
    "})\n",
    "\n",
    "daily_aigues['Use'].unique()"
   ]
  },
  {
   "cell_type": "code",
   "execution_count": 49,
   "metadata": {},
   "outputs": [
    {
     "data": {
      "text/plain": [
       "array([\"L'HOSPITALET LLOBR.\"], dtype=object)"
      ]
     },
     "execution_count": 49,
     "metadata": {},
     "output_type": "execute_result"
    }
   ],
   "source": [
    "daily_aigues['Municipality'].unique()"
   ]
  },
  {
   "cell_type": "code",
   "execution_count": 50,
   "metadata": {},
   "outputs": [],
   "source": [
    "daily_aigues_bcn = daily_aigues[daily_aigues['Municipality'] == 'BARCELONA'].drop(columns=[\"Municipality\"])"
   ]
  },
  {
   "cell_type": "code",
   "execution_count": 51,
   "metadata": {},
   "outputs": [
    {
     "data": {
      "text/html": [
       "<div>\n",
       "<style scoped>\n",
       "    .dataframe tbody tr th:only-of-type {\n",
       "        vertical-align: middle;\n",
       "    }\n",
       "\n",
       "    .dataframe tbody tr th {\n",
       "        vertical-align: top;\n",
       "    }\n",
       "\n",
       "    .dataframe thead th {\n",
       "        text-align: right;\n",
       "    }\n",
       "</style>\n",
       "<table border=\"1\" class=\"dataframe\">\n",
       "  <thead>\n",
       "    <tr style=\"text-align: right;\">\n",
       "      <th></th>\n",
       "      <th>Census Section</th>\n",
       "      <th>District</th>\n",
       "      <th>Date</th>\n",
       "      <th>Use</th>\n",
       "      <th>Number of Meters</th>\n",
       "      <th>Accumulated Consumption</th>\n",
       "    </tr>\n",
       "  </thead>\n",
       "  <tbody>\n",
       "  </tbody>\n",
       "</table>\n",
       "</div>"
      ],
      "text/plain": [
       "Empty DataFrame\n",
       "Columns: [Census Section, District, Date, Use, Number of Meters, Accumulated Consumption]\n",
       "Index: []"
      ]
     },
     "execution_count": 51,
     "metadata": {},
     "output_type": "execute_result"
    }
   ],
   "source": [
    "daily_aigues_bcn.tail(20)"
   ]
  },
  {
   "cell_type": "code",
   "execution_count": 52,
   "metadata": {},
   "outputs": [
    {
     "data": {
      "text/plain": [
       "(0, 6)"
      ]
     },
     "execution_count": 52,
     "metadata": {},
     "output_type": "execute_result"
    }
   ],
   "source": [
    "daily_aigues_bcn.shape"
   ]
  },
  {
   "cell_type": "code",
   "execution_count": 53,
   "metadata": {},
   "outputs": [
    {
     "data": {
      "text/html": [
       "<div>\n",
       "<style scoped>\n",
       "    .dataframe tbody tr th:only-of-type {\n",
       "        vertical-align: middle;\n",
       "    }\n",
       "\n",
       "    .dataframe tbody tr th {\n",
       "        vertical-align: top;\n",
       "    }\n",
       "\n",
       "    .dataframe thead th {\n",
       "        text-align: right;\n",
       "    }\n",
       "</style>\n",
       "<table border=\"1\" class=\"dataframe\">\n",
       "  <thead>\n",
       "    <tr style=\"text-align: right;\">\n",
       "      <th></th>\n",
       "      <th>Day</th>\n",
       "      <th>temp_max</th>\n",
       "      <th>temp_min</th>\n",
       "      <th>precipitacion</th>\n",
       "      <th>Pernoctacions_Habitatge_turístic</th>\n",
       "      <th>Pernoctacions_Hotel</th>\n",
       "    </tr>\n",
       "  </thead>\n",
       "  <tbody>\n",
       "    <tr>\n",
       "      <th>0</th>\n",
       "      <td>01-01-2021</td>\n",
       "      <td>7.55</td>\n",
       "      <td>4.30</td>\n",
       "      <td>5.65</td>\n",
       "      <td>3500</td>\n",
       "      <td>8700</td>\n",
       "    </tr>\n",
       "    <tr>\n",
       "      <th>1</th>\n",
       "      <td>02-01-2021</td>\n",
       "      <td>8.55</td>\n",
       "      <td>1.55</td>\n",
       "      <td>0.00</td>\n",
       "      <td>6369</td>\n",
       "      <td>15828</td>\n",
       "    </tr>\n",
       "    <tr>\n",
       "      <th>2</th>\n",
       "      <td>03-01-2021</td>\n",
       "      <td>9.55</td>\n",
       "      <td>0.85</td>\n",
       "      <td>0.00</td>\n",
       "      <td>6904</td>\n",
       "      <td>17160</td>\n",
       "    </tr>\n",
       "    <tr>\n",
       "      <th>3</th>\n",
       "      <td>04-01-2021</td>\n",
       "      <td>10.10</td>\n",
       "      <td>0.65</td>\n",
       "      <td>0.00</td>\n",
       "      <td>5825</td>\n",
       "      <td>14478</td>\n",
       "    </tr>\n",
       "    <tr>\n",
       "      <th>4</th>\n",
       "      <td>05-01-2021</td>\n",
       "      <td>9.40</td>\n",
       "      <td>0.65</td>\n",
       "      <td>0.00</td>\n",
       "      <td>4669</td>\n",
       "      <td>11603</td>\n",
       "    </tr>\n",
       "  </tbody>\n",
       "</table>\n",
       "</div>"
      ],
      "text/plain": [
       "          Day  temp_max  temp_min  precipitacion  \\\n",
       "0  01-01-2021      7.55      4.30           5.65   \n",
       "1  02-01-2021      8.55      1.55           0.00   \n",
       "2  03-01-2021      9.55      0.85           0.00   \n",
       "3  04-01-2021     10.10      0.65           0.00   \n",
       "4  05-01-2021      9.40      0.65           0.00   \n",
       "\n",
       "   Pernoctacions_Habitatge_turístic  Pernoctacions_Hotel  \n",
       "0                              3500                 8700  \n",
       "1                              6369                15828  \n",
       "2                              6904                17160  \n",
       "3                              5825                14478  \n",
       "4                              4669                11603  "
      ]
     },
     "execution_count": 53,
     "metadata": {},
     "output_type": "execute_result"
    }
   ],
   "source": [
    "# tourism_temp_bcn imported from Marti's code above\n",
    "# tourism_temp_bcn = pd.read_csv(\"../data/tourism_temp_bcn.csv\")\n",
    "tourism_temp_bcn.head()"
   ]
  },
  {
   "cell_type": "code",
   "execution_count": 54,
   "metadata": {},
   "outputs": [],
   "source": [
    "tourism_temp_bcn = tourism_temp_bcn.rename(columns={\n",
    "    tourism_temp_bcn.columns.values[0] : 'Day',\n",
    "    tourism_temp_bcn.columns.values[1] : 'Max Temperature',\n",
    "    tourism_temp_bcn.columns.values[2] : 'Min Temperature',\n",
    "    tourism_temp_bcn.columns.values[3] : 'Precipitation',\n",
    "    tourism_temp_bcn.columns.values[4] : 'Tourist Accommodations',\n",
    "    tourism_temp_bcn.columns.values[5] : 'Hotel Overnight Stays'\n",
    "})\n",
    "\n",
    "tourism_temp_bcn['Day'] = pd.to_datetime(tourism_temp_bcn['Day'], format=\"%d-%m-%Y\")"
   ]
  },
  {
   "cell_type": "code",
   "execution_count": 55,
   "metadata": {},
   "outputs": [
    {
     "name": "stdout",
     "output_type": "stream",
     "text": [
      "<class 'pandas.core.frame.DataFrame'>\n",
      "RangeIndex: 1095 entries, 0 to 1094\n",
      "Data columns (total 6 columns):\n",
      " #   Column                  Non-Null Count  Dtype         \n",
      "---  ------                  --------------  -----         \n",
      " 0   Day                     1095 non-null   datetime64[ns]\n",
      " 1   Max Temperature         1095 non-null   float64       \n",
      " 2   Min Temperature         1095 non-null   float64       \n",
      " 3   Precipitation           1095 non-null   float64       \n",
      " 4   Tourist Accommodations  1095 non-null   int64         \n",
      " 5   Hotel Overnight Stays   1095 non-null   int64         \n",
      "dtypes: datetime64[ns](1), float64(3), int64(2)\n",
      "memory usage: 51.5 KB\n"
     ]
    }
   ],
   "source": [
    "tourism_temp_bcn.info()"
   ]
  },
  {
   "cell_type": "code",
   "execution_count": 56,
   "metadata": {},
   "outputs": [],
   "source": [
    "merged_data = (daily_aigues_bcn.merge(tourism_temp_bcn, left_on='Date', right_on='Day', how='left')).drop(columns=[\"Day\"])"
   ]
  },
  {
   "cell_type": "code",
   "execution_count": 57,
   "metadata": {},
   "outputs": [
    {
     "data": {
      "text/plain": [
       "(0, 11)"
      ]
     },
     "execution_count": 57,
     "metadata": {},
     "output_type": "execute_result"
    }
   ],
   "source": [
    "merged_data.shape"
   ]
  },
  {
   "cell_type": "code",
   "execution_count": 58,
   "metadata": {},
   "outputs": [
    {
     "data": {
      "text/html": [
       "<div>\n",
       "<style scoped>\n",
       "    .dataframe tbody tr th:only-of-type {\n",
       "        vertical-align: middle;\n",
       "    }\n",
       "\n",
       "    .dataframe tbody tr th {\n",
       "        vertical-align: top;\n",
       "    }\n",
       "\n",
       "    .dataframe thead th {\n",
       "        text-align: right;\n",
       "    }\n",
       "</style>\n",
       "<table border=\"1\" class=\"dataframe\">\n",
       "  <thead>\n",
       "    <tr style=\"text-align: right;\">\n",
       "      <th></th>\n",
       "      <th>Census Section</th>\n",
       "      <th>District</th>\n",
       "      <th>Date</th>\n",
       "      <th>Use</th>\n",
       "      <th>Number of Meters</th>\n",
       "      <th>Accumulated Consumption</th>\n",
       "      <th>Max Temperature</th>\n",
       "      <th>Min Temperature</th>\n",
       "      <th>Precipitation</th>\n",
       "      <th>Tourist Accommodations</th>\n",
       "      <th>Hotel Overnight Stays</th>\n",
       "    </tr>\n",
       "  </thead>\n",
       "  <tbody>\n",
       "  </tbody>\n",
       "</table>\n",
       "</div>"
      ],
      "text/plain": [
       "Empty DataFrame\n",
       "Columns: [Census Section, District, Date, Use, Number of Meters, Accumulated Consumption, Max Temperature, Min Temperature, Precipitation, Tourist Accommodations, Hotel Overnight Stays]\n",
       "Index: []"
      ]
     },
     "execution_count": 58,
     "metadata": {},
     "output_type": "execute_result"
    }
   ],
   "source": [
    "merged_data.head(5)"
   ]
  },
  {
   "cell_type": "code",
   "execution_count": 59,
   "metadata": {},
   "outputs": [],
   "source": [
    "# one_hot_encoded = pd.get_dummies(merged_data)"
   ]
  },
  {
   "cell_type": "markdown",
   "metadata": {},
   "source": [
    "### End of Yuyan's code"
   ]
  },
  {
   "cell_type": "code",
   "execution_count": 60,
   "metadata": {},
   "outputs": [],
   "source": [
    "# the column hotel overnight stays has a .0 at the end and it should be int. Let's fix it\n",
    "merged_data['Hotel Overnight Stays'] = merged_data['Hotel Overnight Stays'].astype(int)"
   ]
  },
  {
   "cell_type": "code",
   "execution_count": 61,
   "metadata": {},
   "outputs": [
    {
     "data": {
      "text/plain": [
       "Census Section             0.0\n",
       "District                   0.0\n",
       "Date                       0.0\n",
       "Use                        0.0\n",
       "Number of Meters           0.0\n",
       "Accumulated Consumption    0.0\n",
       "Max Temperature            0.0\n",
       "Min Temperature            0.0\n",
       "Precipitation              0.0\n",
       "Tourist Accommodations     0.0\n",
       "Hotel Overnight Stays      0.0\n",
       "dtype: float64"
      ]
     },
     "execution_count": 61,
     "metadata": {},
     "output_type": "execute_result"
    }
   ],
   "source": [
    "merged_data.isna().sum()"
   ]
  },
  {
   "cell_type": "code",
   "execution_count": 62,
   "metadata": {},
   "outputs": [],
   "source": [
    "# As the columns census section and district contain some nulls, we will drop the rows with nulls in these columns\n",
    "merged_data = merged_data.dropna(subset=['Census Section', 'District'])"
   ]
  },
  {
   "cell_type": "code",
   "execution_count": 63,
   "metadata": {},
   "outputs": [
    {
     "data": {
      "text/plain": [
       "Census Section             0.0\n",
       "District                   0.0\n",
       "Date                       0.0\n",
       "Use                        0.0\n",
       "Number of Meters           0.0\n",
       "Accumulated Consumption    0.0\n",
       "Max Temperature            0.0\n",
       "Min Temperature            0.0\n",
       "Precipitation              0.0\n",
       "Tourist Accommodations     0.0\n",
       "Hotel Overnight Stays      0.0\n",
       "dtype: float64"
      ]
     },
     "execution_count": 63,
     "metadata": {},
     "output_type": "execute_result"
    }
   ],
   "source": [
    "merged_data.isna().sum()"
   ]
  },
  {
   "cell_type": "code",
   "execution_count": 64,
   "metadata": {},
   "outputs": [
    {
     "data": {
      "image/png": "[encoded data removed]",
      "text/plain": [
       "<Figure size 2000x600 with 1 Axes>"
      ]
     },
     "metadata": {},
     "output_type": "display_data"
    }
   ],
   "source": [
    "# plot the accumulated consumption to detect outliers\n",
    "plt.figure(figsize=(20, 6))\n",
    "plt.plot(merged_data['Accumulated Consumption'])\n",
    "plt.title('Accumulated Consumption')\n",
    "plt.show()"
   ]
  },
  {
   "cell_type": "code",
   "execution_count": 65,
   "metadata": {},
   "outputs": [],
   "source": [
    "# Drop all the accumulated consumption values below 0\n",
    "merged_data = merged_data[merged_data['Accumulated Consumption'] > 0]"
   ]
  },
  {
   "cell_type": "code",
   "execution_count": 66,
   "metadata": {},
   "outputs": [
    {
     "data": {
      "text/html": [
       "<div>\n",
       "<style scoped>\n",
       "    .dataframe tbody tr th:only-of-type {\n",
       "        vertical-align: middle;\n",
       "    }\n",
       "\n",
       "    .dataframe tbody tr th {\n",
       "        vertical-align: top;\n",
       "    }\n",
       "\n",
       "    .dataframe thead th {\n",
       "        text-align: right;\n",
       "    }\n",
       "</style>\n",
       "<table border=\"1\" class=\"dataframe\">\n",
       "  <thead>\n",
       "    <tr style=\"text-align: right;\">\n",
       "      <th></th>\n",
       "      <th>Date</th>\n",
       "      <th>Number of Meters</th>\n",
       "      <th>Accumulated Consumption</th>\n",
       "      <th>Max Temperature</th>\n",
       "      <th>Min Temperature</th>\n",
       "      <th>Precipitation</th>\n",
       "      <th>Tourist Accommodations</th>\n",
       "      <th>Hotel Overnight Stays</th>\n",
       "    </tr>\n",
       "  </thead>\n",
       "  <tbody>\n",
       "    <tr>\n",
       "      <th>count</th>\n",
       "      <td>0</td>\n",
       "      <td>0.0</td>\n",
       "      <td>0.0</td>\n",
       "      <td>0.0</td>\n",
       "      <td>0.0</td>\n",
       "      <td>0.0</td>\n",
       "      <td>0.0</td>\n",
       "      <td>0.0</td>\n",
       "    </tr>\n",
       "    <tr>\n",
       "      <th>mean</th>\n",
       "      <td>NaT</td>\n",
       "      <td>NaN</td>\n",
       "      <td>NaN</td>\n",
       "      <td>NaN</td>\n",
       "      <td>NaN</td>\n",
       "      <td>NaN</td>\n",
       "      <td>NaN</td>\n",
       "      <td>NaN</td>\n",
       "    </tr>\n",
       "    <tr>\n",
       "      <th>min</th>\n",
       "      <td>NaT</td>\n",
       "      <td>NaN</td>\n",
       "      <td>NaN</td>\n",
       "      <td>NaN</td>\n",
       "      <td>NaN</td>\n",
       "      <td>NaN</td>\n",
       "      <td>NaN</td>\n",
       "      <td>NaN</td>\n",
       "    </tr>\n",
       "    <tr>\n",
       "      <th>25%</th>\n",
       "      <td>NaT</td>\n",
       "      <td>NaN</td>\n",
       "      <td>NaN</td>\n",
       "      <td>NaN</td>\n",
       "      <td>NaN</td>\n",
       "      <td>NaN</td>\n",
       "      <td>NaN</td>\n",
       "      <td>NaN</td>\n",
       "    </tr>\n",
       "    <tr>\n",
       "      <th>50%</th>\n",
       "      <td>NaT</td>\n",
       "      <td>NaN</td>\n",
       "      <td>NaN</td>\n",
       "      <td>NaN</td>\n",
       "      <td>NaN</td>\n",
       "      <td>NaN</td>\n",
       "      <td>NaN</td>\n",
       "      <td>NaN</td>\n",
       "    </tr>\n",
       "    <tr>\n",
       "      <th>75%</th>\n",
       "      <td>NaT</td>\n",
       "      <td>NaN</td>\n",
       "      <td>NaN</td>\n",
       "      <td>NaN</td>\n",
       "      <td>NaN</td>\n",
       "      <td>NaN</td>\n",
       "      <td>NaN</td>\n",
       "      <td>NaN</td>\n",
       "    </tr>\n",
       "    <tr>\n",
       "      <th>max</th>\n",
       "      <td>NaT</td>\n",
       "      <td>NaN</td>\n",
       "      <td>NaN</td>\n",
       "      <td>NaN</td>\n",
       "      <td>NaN</td>\n",
       "      <td>NaN</td>\n",
       "      <td>NaN</td>\n",
       "      <td>NaN</td>\n",
       "    </tr>\n",
       "    <tr>\n",
       "      <th>std</th>\n",
       "      <td>NaN</td>\n",
       "      <td>NaN</td>\n",
       "      <td>NaN</td>\n",
       "      <td>NaN</td>\n",
       "      <td>NaN</td>\n",
       "      <td>NaN</td>\n",
       "      <td>NaN</td>\n",
       "      <td>NaN</td>\n",
       "    </tr>\n",
       "  </tbody>\n",
       "</table>\n",
       "</div>"
      ],
      "text/plain": [
       "      Date  Number of Meters  Accumulated Consumption  Max Temperature  \\\n",
       "count    0               0.0                      0.0              0.0   \n",
       "mean   NaT               NaN                      NaN              NaN   \n",
       "min    NaT               NaN                      NaN              NaN   \n",
       "25%    NaT               NaN                      NaN              NaN   \n",
       "50%    NaT               NaN                      NaN              NaN   \n",
       "75%    NaT               NaN                      NaN              NaN   \n",
       "max    NaT               NaN                      NaN              NaN   \n",
       "std    NaN               NaN                      NaN              NaN   \n",
       "\n",
       "       Min Temperature  Precipitation  Tourist Accommodations  \\\n",
       "count              0.0            0.0                     0.0   \n",
       "mean               NaN            NaN                     NaN   \n",
       "min                NaN            NaN                     NaN   \n",
       "25%                NaN            NaN                     NaN   \n",
       "50%                NaN            NaN                     NaN   \n",
       "75%                NaN            NaN                     NaN   \n",
       "max                NaN            NaN                     NaN   \n",
       "std                NaN            NaN                     NaN   \n",
       "\n",
       "       Hotel Overnight Stays  \n",
       "count                    0.0  \n",
       "mean                     NaN  \n",
       "min                      NaN  \n",
       "25%                      NaN  \n",
       "50%                      NaN  \n",
       "75%                      NaN  \n",
       "max                      NaN  \n",
       "std                      NaN  "
      ]
     },
     "execution_count": 66,
     "metadata": {},
     "output_type": "execute_result"
    }
   ],
   "source": [
    "merged_data.describe()"
   ]
  },
  {
   "cell_type": "code",
   "execution_count": 67,
   "metadata": {},
   "outputs": [],
   "source": [
    "# There's a couple of observations with the Census Section and the District columns that are <NULL> and >. We will drop these rows\n",
    "merged_data = merged_data[merged_data['Census Section'] != '<NULL>']\n",
    "merged_data = merged_data[merged_data['District'] != '>']\n",
    "merged_cleaned_data = merged_data"
   ]
  },
  {
   "cell_type": "code",
   "execution_count": 68,
   "metadata": {},
   "outputs": [],
   "source": [
    "# Save CSV data\n",
    "\n",
    "# Create the directory if it does not exist\n",
    "os.makedirs('../data/local_data/', exist_ok=True)\n",
    "\n",
    "# Save the cleaned dataset\n",
    "merged_cleaned_data.to_csv('../data/local_data/merged_cleaned_data.csv', index=False)"
   ]
  },
  {
   "cell_type": "code",
   "execution_count": 69,
   "metadata": {},
   "outputs": [
    {
     "name": "stdout",
     "output_type": "stream",
     "text": [
      "<class 'pandas.core.frame.DataFrame'>\n",
      "RangeIndex: 0 entries\n",
      "Data columns (total 11 columns):\n",
      " #   Column                   Non-Null Count  Dtype         \n",
      "---  ------                   --------------  -----         \n",
      " 0   Census Section           0 non-null      object        \n",
      " 1   District                 0 non-null      object        \n",
      " 2   Date                     0 non-null      datetime64[ns]\n",
      " 3   Use                      0 non-null      object        \n",
      " 4   Number of Meters         0 non-null      int64         \n",
      " 5   Accumulated Consumption  0 non-null      int64         \n",
      " 6   Max Temperature          0 non-null      float64       \n",
      " 7   Min Temperature          0 non-null      float64       \n",
      " 8   Precipitation            0 non-null      float64       \n",
      " 9   Tourist Accommodations   0 non-null      int64         \n",
      " 10  Hotel Overnight Stays    0 non-null      int64         \n",
      "dtypes: datetime64[ns](1), float64(3), int64(4), object(3)\n",
      "memory usage: 132.0+ bytes\n"
     ]
    }
   ],
   "source": [
    "merged_cleaned_data.info()"
   ]
  },
  {
   "cell_type": "code",
   "execution_count": 70,
   "metadata": {},
   "outputs": [
    {
     "data": {
      "text/html": [
       "<div>\n",
       "<style scoped>\n",
       "    .dataframe tbody tr th:only-of-type {\n",
       "        vertical-align: middle;\n",
       "    }\n",
       "\n",
       "    .dataframe tbody tr th {\n",
       "        vertical-align: top;\n",
       "    }\n",
       "\n",
       "    .dataframe thead th {\n",
       "        text-align: right;\n",
       "    }\n",
       "</style>\n",
       "<table border=\"1\" class=\"dataframe\">\n",
       "  <thead>\n",
       "    <tr style=\"text-align: right;\">\n",
       "      <th></th>\n",
       "      <th>Date</th>\n",
       "      <th>Number of Meters</th>\n",
       "      <th>Accumulated Consumption</th>\n",
       "      <th>Max Temperature</th>\n",
       "      <th>Min Temperature</th>\n",
       "      <th>Precipitation</th>\n",
       "      <th>Tourist Accommodations</th>\n",
       "      <th>Hotel Overnight Stays</th>\n",
       "    </tr>\n",
       "  </thead>\n",
       "  <tbody>\n",
       "    <tr>\n",
       "      <th>count</th>\n",
       "      <td>0</td>\n",
       "      <td>0.0</td>\n",
       "      <td>0.0</td>\n",
       "      <td>0.0</td>\n",
       "      <td>0.0</td>\n",
       "      <td>0.0</td>\n",
       "      <td>0.0</td>\n",
       "      <td>0.0</td>\n",
       "    </tr>\n",
       "    <tr>\n",
       "      <th>mean</th>\n",
       "      <td>NaT</td>\n",
       "      <td>NaN</td>\n",
       "      <td>NaN</td>\n",
       "      <td>NaN</td>\n",
       "      <td>NaN</td>\n",
       "      <td>NaN</td>\n",
       "      <td>NaN</td>\n",
       "      <td>NaN</td>\n",
       "    </tr>\n",
       "    <tr>\n",
       "      <th>min</th>\n",
       "      <td>NaT</td>\n",
       "      <td>NaN</td>\n",
       "      <td>NaN</td>\n",
       "      <td>NaN</td>\n",
       "      <td>NaN</td>\n",
       "      <td>NaN</td>\n",
       "      <td>NaN</td>\n",
       "      <td>NaN</td>\n",
       "    </tr>\n",
       "    <tr>\n",
       "      <th>25%</th>\n",
       "      <td>NaT</td>\n",
       "      <td>NaN</td>\n",
       "      <td>NaN</td>\n",
       "      <td>NaN</td>\n",
       "      <td>NaN</td>\n",
       "      <td>NaN</td>\n",
       "      <td>NaN</td>\n",
       "      <td>NaN</td>\n",
       "    </tr>\n",
       "    <tr>\n",
       "      <th>50%</th>\n",
       "      <td>NaT</td>\n",
       "      <td>NaN</td>\n",
       "      <td>NaN</td>\n",
       "      <td>NaN</td>\n",
       "      <td>NaN</td>\n",
       "      <td>NaN</td>\n",
       "      <td>NaN</td>\n",
       "      <td>NaN</td>\n",
       "    </tr>\n",
       "    <tr>\n",
       "      <th>75%</th>\n",
       "      <td>NaT</td>\n",
       "      <td>NaN</td>\n",
       "      <td>NaN</td>\n",
       "      <td>NaN</td>\n",
       "      <td>NaN</td>\n",
       "      <td>NaN</td>\n",
       "      <td>NaN</td>\n",
       "      <td>NaN</td>\n",
       "    </tr>\n",
       "    <tr>\n",
       "      <th>max</th>\n",
       "      <td>NaT</td>\n",
       "      <td>NaN</td>\n",
       "      <td>NaN</td>\n",
       "      <td>NaN</td>\n",
       "      <td>NaN</td>\n",
       "      <td>NaN</td>\n",
       "      <td>NaN</td>\n",
       "      <td>NaN</td>\n",
       "    </tr>\n",
       "    <tr>\n",
       "      <th>std</th>\n",
       "      <td>NaN</td>\n",
       "      <td>NaN</td>\n",
       "      <td>NaN</td>\n",
       "      <td>NaN</td>\n",
       "      <td>NaN</td>\n",
       "      <td>NaN</td>\n",
       "      <td>NaN</td>\n",
       "      <td>NaN</td>\n",
       "    </tr>\n",
       "  </tbody>\n",
       "</table>\n",
       "</div>"
      ],
      "text/plain": [
       "      Date  Number of Meters  Accumulated Consumption  Max Temperature  \\\n",
       "count    0               0.0                      0.0              0.0   \n",
       "mean   NaT               NaN                      NaN              NaN   \n",
       "min    NaT               NaN                      NaN              NaN   \n",
       "25%    NaT               NaN                      NaN              NaN   \n",
       "50%    NaT               NaN                      NaN              NaN   \n",
       "75%    NaT               NaN                      NaN              NaN   \n",
       "max    NaT               NaN                      NaN              NaN   \n",
       "std    NaN               NaN                      NaN              NaN   \n",
       "\n",
       "       Min Temperature  Precipitation  Tourist Accommodations  \\\n",
       "count              0.0            0.0                     0.0   \n",
       "mean               NaN            NaN                     NaN   \n",
       "min                NaN            NaN                     NaN   \n",
       "25%                NaN            NaN                     NaN   \n",
       "50%                NaN            NaN                     NaN   \n",
       "75%                NaN            NaN                     NaN   \n",
       "max                NaN            NaN                     NaN   \n",
       "std                NaN            NaN                     NaN   \n",
       "\n",
       "       Hotel Overnight Stays  \n",
       "count                    0.0  \n",
       "mean                     NaN  \n",
       "min                      NaN  \n",
       "25%                      NaN  \n",
       "50%                      NaN  \n",
       "75%                      NaN  \n",
       "max                      NaN  \n",
       "std                      NaN  "
      ]
     },
     "execution_count": 70,
     "metadata": {},
     "output_type": "execute_result"
    }
   ],
   "source": [
    "merged_cleaned_data.describe()"
   ]
  },
  {
   "cell_type": "code",
   "execution_count": null,
   "metadata": {},
   "outputs": [],
   "source": []
  }
 ],
 "metadata": {
  "kernelspec": {
   "display_name": "base",
   "language": "python",
   "name": "python3"
  },
  "language_info": {
   "codemirror_mode": {
    "name": "ipython",
    "version": 3
   },
   "file_extension": ".py",
   "mimetype": "text/x-python",
   "name": "python",
   "nbconvert_exporter": "python",
   "pygments_lexer": "ipython3",
   "version": "3.11.5"
  }
 },
 "nbformat": 4,
 "nbformat_minor": 2
}
