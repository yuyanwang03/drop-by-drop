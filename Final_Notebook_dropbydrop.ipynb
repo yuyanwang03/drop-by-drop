{
 "cells": [
  {
   "cell_type": "markdown",
   "id": "9880eb1d",
   "metadata": {},
   "source": [
    "<h1 style=\"display: flex; align-items: center; font-size: 50px; margin-bottom: 25px;\">\n",
    "  Anàlisi de la Petjada Hídrica dels Turistes a Barcelona\n",
    "</h1>\n",
    "<hr style=\"border: 1px solid grey;\">\n",
    "<img src=\"display/media/logos_report.png\" alt=\"Image 1\">\n",
    "<hr style=\"border: 1px solid grey;\">"
   ]
  },
  {
   "cell_type": "markdown",
   "id": "078393db",
   "metadata": {},
   "source": [
    "# Índex\n",
    "\n",
    "<!DOCTYPE html>\n",
    "<html lang=\"en\">\n",
    "<head>\n",
    "    <meta charset=\"UTF-8\">\n",
    "    <meta name=\"viewport\" content=\"width=device-width, initial-scale=1.0\">\n",
    "    <title>Índex</title>\n",
    "    <style>\n",
    "        h1 {\n",
    "            color:\"white\" ;\n",
    "        }\n",
    "        ul {\n",
    "            list-style-type: none;\n",
    "            padding-left: 0;\n",
    "        }\n",
    "        li {\n",
    "            padding: 3px 0;\n",
    "        }\n",
    "        li a {\n",
    "            text-decoration: none;\n",
    "            color: white;\n",
    "            font-size: 14px;\n",
    "            font-weight: bold;\n",
    "            transition: color 0.3s;\n",
    "        }\n",
    "        li a:hover {\n",
    "            color: grey;\n",
    "        }\n",
    "        .sub-index {\n",
    "            margin-left: 20px;\n",
    "            margin-top: 2px;\n",
    "            font-size: 10px;\n",
    "        }\n",
    "        .sub-index a {\n",
    "            color: lightgrey;\n",
    "        }\n",
    "    </style>\n",
    "</head>\n",
    "<ul>\n",
    "    <li><a href=\"#s1\">1. Introducció</a>\n",
    "        <ul class=\"sub-index\">\n",
    "            <li><a href=\"#s11\">1.1 Introducció al challenge</a></li>\n",
    "            <li><a href=\"#s12\">1.2 Presentació del grup</a></li>\n",
    "            <li><a href=\"#s13\">1.3 Presentació de la idea</a></li>\n",
    "        </ul>\n",
    "    </li>\n",
    "    <li><a href=\"#s2\">2. Tractament de dades</a>\n",
    "        <ul class=\"sub-index\">\n",
    "            <li><a href=\"#s21\">2.1 Dades Requerides</a></li>\n",
    "            <li><a href=\"#s22\">2.2 Preprocessing</a></li>\n",
    "            <li><a href=\"#s23\">2.3 Obtenció de les dades meteorològiques i de precipitacions</a></li>\n",
    "            <li><a href=\"#s24\">2.4 Obtenció de les dades de turisme</a></li>\n",
    "            <li><a href=\"#s25\">2.5 Obtenció de les dades dels habitants de Barcelona</a></li>\n",
    "            <li><a href=\"#s26\">2.6 Correlació de les dades</a></li>\n",
    "        </ul>\n",
    "    </li>\n",
    "    <li><a href=\"#s3\">3. Creació de l'algorisme de predicció</a>\n",
    "        <ul class=\"sub-index\">\n",
    "            <li><a href=\"#s31\">3.1 Investigació prèvia</a></li>\n",
    "            <li><a href=\"#s32\">3.2 Descripció de inputs i outputs</a></li>\n",
    "            <li><a href=\"#s33\">3.3 Explicació del algoritme</a></li>\n",
    "        </ul>\n",
    "    </li>\n",
    "    <li><a href=\"#s4\">4. Validació de l'algorisme de predicció</a>\n",
    "        <ul class=\"sub-index\">\n",
    "            <li><a href=\"#s41\">4.1 Estudi de performance</a></li>\n",
    "            <li><a href=\"#s42\">4.2 Exemple del output</a></li>\n",
    "        </ul>\n",
    "    </li>\n",
    "    <li><a href=\"#s5\">5. Simulació</a>\n",
    "        <ul class=\"sub-index\">\n",
    "            <li><a href=\"#s51\">5.1 Explicació de l'objectiu de la simulació</a></li>\n",
    "            <li><a href=\"#s52\">5.2 Instruccions per córrer la simulació</a></li>\n",
    "            <li><a href=\"#s53\">5.3 Descripció de les pàgines de la simulació</a></li>\n",
    "        </ul>\n",
    "    </li>\n",
    "    <li><a href=\"#s6\">6. Recomanacions accionables</a>\n",
    "        <ul class=\"sub-index\">\n",
    "        </ul>\n",
    "    </li>\n",
    "    <li><a href=\"#s7\">7. Escalabilitat</a></li>\n",
    "        <ul class=\"sub-index\">\n",
    "            <li><a href=\"#s71\">7.1 Dades meteorològiques i precipitacions</a></li>\n",
    "            <li><a href=\"#s72\">7.2 Dades de turisme</a></li>\n",
    "            <li><a href=\"#s73\">7.3 Dades de població</a></li>\n",
    "            <li><a href=\"#s74\">7.4 Re-entrenament del model</a></li>\n",
    "        </ul>\n",
    "    <li><a href=\"#s8\">8. Conclusions</a>\n",
    "        <ul class=\"sub-index\">\n",
    "            <li><a href=\"#s81\">8.1 Efecte del turisme a Barcelona</a></li>\n",
    "            <li><a href=\"#s82\">8.2 Tancament del projecte</a></li>\n",
    "        </ul>\n",
    "    </li>\n",
    "</ul>\n"
   ]
  },
  {
   "cell_type": "markdown",
   "id": "4ce31ccf-62a0-4afb-a331-f21297dc8005",
   "metadata": {
    "tags": []
   },
   "source": [
    "<a id=\"s1\"></a>\n",
    "## 1. Introducció"
   ]
  },
  {
   "cell_type": "markdown",
   "id": "9eae5d60-f264-4b14-b849-d4bc997a580d",
   "metadata": {
    "tags": []
   },
   "source": [
    "<a id=\"s11\"></a>\n",
    "### 1.1 Introducció al challenge"
   ]
  },
  {
   "cell_type": "markdown",
   "id": "61619137-be95-4f25-8004-ab81cdf697ce",
   "metadata": {},
   "source": [
    "El **AB Data Challenge** és una iniciativa d’Aigües de Barcelona (AGBAR) que, amb el suport d’universitats, centres de recerca i l’ecosistema d’innovació de Catalunya, busca fomentar la creativitat i la innovació mitjançant l'ús de les dades recopilades del servei de telelectura dels comptadors d’aigua. Aquesta iniciativa té com a objectiu generar solucions que millorin la gestió de l’aigua i promoguin la sostenibilitat, amb especial èmfasi en la reducció de l’impacte ambiental derivat del consum d’aigua.\n",
    "\n",
    "En aquest context, el nostre grup ha decidit abordar el repte relacionat amb la **Sostenibilitat Hídrica Territorial**, amb un focus particular en el **turisme**, un dels factors que exerceix una gran pressió sobre els recursos hídrics de Barcelona. La creixent demanda d’aigua, influenciada per l’augment de turistes que visiten la ciutat, presenta un desafiament significatiu per a la gestió dels recursos hídrics urbans. A més, aquest fenomen s’accentua pels efectes del canvi climàtic, com les altes temperatures i les sequera, que augmenten la necessitat de garantir la sostenibilitat del sistema hídrico. \n",
    "\n",
    "Hem escollit aquest repte perquè creiem que les dades de telelectura dels comptadors d’aigua proporcionades per AGBAR, combinades amb dades externes com les de turisme, mobilitat i meteorologia, poden oferir una oportunitat única per desenvolupar models predictius que millorin la gestió de l’aigua i afavoreixin l’eficiència en el seu consum. En un context com el de Barcelona, on el turisme és una de les principals fonts de consum d’aigua, és fonamental poder integrar aquestes dades per reduir la pressió sobre els recursos hídrics i fomentar pràctiques més sostenibles en la gestió de l’aigua."
   ]
  },
  {
   "cell_type": "markdown",
   "id": "0303a0a1-7bb1-4991-a9be-995ffb9c42d5",
   "metadata": {},
   "source": [
    "<a id=\"s12\"></a>\n",
    "### 1.2 Presentació del grup"
   ]
  },
  {
   "cell_type": "markdown",
   "id": "a5d5c52b-f8f6-4907-bc62-ba5f0e5abdbe",
   "metadata": {},
   "source": [
    "Som un grup d'estudiants de l'assignatura de Gestió de Projectes, amb membres provinents de dues disciplines: **Enginyeria Matemàtica en Ciències de Dades** i **Enginyeria Informàtica**. Aquesta diversitat de formacions ens permet abordar el repte des de diferents perspectives, combinant coneixements teòrics i pràctics en l'àmbit de la gestió de dades, l'anàlisi estadística i la implementació de solucions tecnològiques. Ens enorgullim d'haver treballat tots en tots els àmbits del projecte, però per facilitar l'organització del projecte hem distribuit carrecs entre nosaltrs.\n",
    "\n",
    "Els membres del grup i els seus càrrecs són els següents:\n",
    "\n",
    "\n",
    "<style>\n",
    "  /* General styles for both rows */\n",
    "  .team-member {\n",
    "    width: 25%;\n",
    "    margin: 10px;\n",
    "    background-color: #C8C8C8;\n",
    "    padding: 15px;\n",
    "    color: black;\n",
    "    text-align: center;\n",
    "    border-radius: 10px;\n",
    "    transition: transform 0.3s ease, box-shadow 0.3s ease;\n",
    "  }\n",
    "\n",
    "  .team-member:hover {\n",
    "    transform: scale(1.1); /* Make the member larger on hover */\n",
    "    box-shadow: 0px 0px 20px rgba(0, 0, 0, 0.5); /* Add shadow effect */\n",
    "  }\n",
    "\n",
    "  /* Styles for the upper row */\n",
    "  .upper-row .team-member {\n",
    "    width: 25%;\n",
    "  }\n",
    "\n",
    "  /* Styles for the lower row */\n",
    "  .lower-row .team-member {\n",
    "    width: 30%;\n",
    "  }\n",
    "</style>\n",
    "<div style=\"display: flex; justify-content: center; flex-wrap: wrap; text-align: center;\">\n",
    "  <!-- Top row (3 members) -->\n",
    "  <div class=\"upper-row\" style=\"display: flex; justify-content: center; flex-wrap: wrap;\">\n",
    "    <div class=\"team-member\">\n",
    "      <img src=\"https://media.licdn.com/dms/image/v2/D4D03AQEe9r69YxPhVg/profile-displayphoto-shrink_800_800/profile-displayphoto-shrink_800_800/0/1702547713065?e=1736380800&v=beta&t=NsDZiX6TL7l1a-ms_8RF1yxUSNJoBREEUPpqSMuU27M\" alt=\"Bruno Manzano Clotet\" width=\"100\">\n",
    "      <br><strong>Bruno Manzano Clotet</strong>\n",
    "      <br><a href=\"https://www.linkedin.com/in/brunomanzano/\"><img src=\"https://cdn-icons-png.flaticon.com/512/174/174857.png\" alt=\"LinkedIn\" width=\"16\"> LinkedIn</a>\n",
    "      <br><strong>Role:</strong> Audiovisual Responsible (AV)\n",
    "      <br><strong>Responsibilities:</strong> Crear contingut visual i presentacions per comunicar els resultats de manera efectiva.\n",
    "      <br><a href=\"mailto:bruno.manzano01@estudiant.upf.edu\"><img src=\"https://cdn-icons-png.flaticon.com/512/732/732200.png\" alt=\"Email\" width=\"16\"> Email</a>\n",
    "    </div>\n",
    "    <div class=\"team-member\">\n",
    "      <img src=\"https://media.licdn.com/dms/image/v2/D5603AQGU6dT73FZacA/profile-displayphoto-shrink_800_800/profile-displayphoto-shrink_800_800/0/1731424586525?e=1737590400&v=beta&t=4EeR5sVIFy6eYY97_pg9eDR1Acft7oEyg9rUSRI-TBU\" alt=\"Iván Hernández Gómez\" width=\"100\">\n",
    "      <br><strong>Iván Hernández Gómez</strong>\n",
    "      <br><a href=\"https://www.linkedin.com/in/iv97n\"><img src=\"https://cdn-icons-png.flaticon.com/512/174/174857.png\" alt=\"LinkedIn\" width=\"16\"> LinkedIn</a>\n",
    "      <br><strong>Role:</strong> Technical Responsible (TR)\n",
    "      <br><strong>Responsibilities:</strong> Responsable de l’anàlisi tècnica de les dades i el desenvolupament de models predictius.\n",
    "      <br><a href=\"mailto:ivan.hernandez04@estudiant.upf.edu\"><img src=\"https://cdn-icons-png.flaticon.com/512/732/732200.png\" alt=\"Email\" width=\"16\"> Email</a>\n",
    "    </div>\n",
    "    <div class=\"team-member\">\n",
    "      <img src=\"https://media.licdn.com/dms/image/v2/D4E03AQEbY575oX9IAA/profile-displayphoto-shrink_800_800/profile-displayphoto-shrink_800_800/0/1682176916179?e=1736380800&v=beta&t=accroyrSl_GcfJkH98aTJkGfIAKmYNX7qcbPgjN137U\" alt=\"Martí Oms Graells\" width=\"100\">\n",
    "      <br><strong>Martí Oms Graells</strong>\n",
    "      <br><a href=\"https://www.linkedin.com/in/martí-oms-graells\"><img src=\"https://cdn-icons-png.flaticon.com/512/174/174857.png\" alt=\"LinkedIn\" width=\"16\"> LinkedIn</a>\n",
    "      <br><strong>Role:</strong> Creative Responsible (CR)\n",
    "      <br><strong>Responsibilities:</strong> Desenvolupar estratègies creatives per a la presentació de dades i resultats.\n",
    "      <br><a href=\"mailto:marti.oms01@estudiant.upf.edu\"><img src=\"https://cdn-icons-png.flaticon.com/512/732/732200.png\" alt=\"Email\" width=\"16\"> Email</a>\n",
    "    </div>\n",
    "  </div>\n",
    "  <!-- Bottom row (2 members) -->\n",
    "  <div class=\"lower-row\" style=\"display: flex; justify-content: center; flex-wrap: wrap;\">\n",
    "    <div class=\"team-member\">\n",
    "      <img src=\"https://media.licdn.com/dms/image/v2/D4D03AQEssjLTI5fjlQ/profile-displayphoto-shrink_800_800/profile-displayphoto-shrink_800_800/0/1711454757196?e=1736380800&v=beta&t=XOADI__DBoNrkuHGorOjFv7-xoMKOKaKo78s97HZC-w\" alt=\"Paula Mateos\" width=\"100\">\n",
    "      <br><strong>Paula Mateos</strong>\n",
    "      <br><a href=\"https://www.linkedin.com/in/paula-mateos-marin-954a90300/\"><img src=\"https://cdn-icons-png.flaticon.com/512/174/174857.png\" alt=\"LinkedIn\" width=\"16\"> LinkedIn</a>\n",
    "      <br><strong>Role:</strong> Project Manager (PM)\n",
    "      <br><strong>Responsibilities:</strong> Responsable de la gestió del projecte, assegurant-se que es compleixin els terminis i els lliurables.\n",
    "      <br><a href=\"mailto:paula.mateos01@estudiant.upf.edu\"><img src=\"https://cdn-icons-png.flaticon.com/512/732/732200.png\" alt=\"Email\" width=\"16\"> Email</a>\n",
    "    </div>\n",
    "    <div class=\"team-member\">\n",
    "      <img src=\"https://media.licdn.com/dms/image/v2/D4E03AQHJMsWc_cbqUQ/profile-displayphoto-shrink_800_800/profile-displayphoto-shrink_800_800/0/1673880445852?e=1736380800&v=beta&t=LWpE_eugEjTgNLJFYmlhP2MgAyxd-xcxiTORK1sDCxw\" alt=\"Yuyan Wang\" width=\"100\">\n",
    "      <br><strong>Yuyan Wang</strong>\n",
    "      <br><a href=\"https://www.linkedin.com/in/yuyanwang03/\"><img src=\"https://cdn-icons-png.flaticon.com/512/174/174857.png\" alt=\"LinkedIn\" width=\"16\"> LinkedIn</a>\n",
    "      <br><strong>Role:</strong> Implementation Responsible (IR)\n",
    "      <br><strong>Responsibilities:</strong> Garantir que els models siguin implementables en un entorn real.\n",
    "      <br><a href=\"mailto:yuyan.wang01@estudiant.upf.edu\"><img src=\"https://cdn-icons-png.flaticon.com/512/732/732200.png\" alt=\"Email\" width=\"16\"> Email</a>\n",
    "    </div>\n",
    "  </div>\n",
    "</div>\n"
   ]
  },
  {
   "cell_type": "markdown",
   "id": "a6471c42-dc48-4892-b6d1-7e56aedaf911",
   "metadata": {},
   "source": [
    "<a id=\"s13\"></a>\n",
    "### 1.3 Presentació de la idea"
   ]
  },
  {
   "cell_type": "markdown",
   "id": "7ee3d0bb",
   "metadata": {},
   "source": [
    "Barcelona és una ciutat que rep un nombre significatiu de turistes cada any, amb prop de 26 milions de visitants l'any 2023. Aquest flux de turistes exerceix una pressió considerable sobre els recursos locals, incloent el consum d’aigua. Les zones més turístiques, com el centre de la ciutat, la platja i altres punts d’interès, presenten un augment del consum d’aigua durant les temporades més altes. Això fa que la gestió d’aquest recurs sigui encara més complexa, ja que cal tenir en compte no només les necessitats de la població local, sinó també la variabilitat del consum degut al nombre de turistes presents en cada moment de l’any.\n"
   ]
  },
  {
   "cell_type": "markdown",
   "id": "4e51e4cf-2bb4-4901-9319-b69667c493d1",
   "metadata": {},
   "source": [
    "Barcelona és una ciutat que rep un nombre significatiu de turistes cada any, amb prop de 26 milions de visitants l'any 2023. Aquest flux de turistes exerceix una pressió considerable sobre els recursos locals, incloent el consum d’aigua. Les zones més turístiques, com el centre de la ciutat, la platja i altres punts d’interès, presenten un augment del consum d’aigua durant les temporades més altes. Això fa que la gestió d’aquest recurs sigui encara més complexa, ja que cal tenir en compte no només les necessitats de la població local, sinó també la variabilitat del consum degut al nombre de turistes presents en cada moment de l’any.\n",
    "\n",
    "El consum d’aigua turístic és, per tant, una part essencial del consum global d’aigua a Barcelona. Així doncs, comprendre millor com els fluxos turístics influencien el consum d’aigua a la ciutat és un element clau per gestionar els recursos hídrics i garantir la sostenibilitat a llarg termini. En aquest context, el nostre projecte busca abordar aquest repte, proposant una solució que integri dades de turisme amb les de consum d’aigua per crear un model predictiu que pugui anticipar el consum específicament associat als turistes.\n",
    "\n",
    "La nostra proposta es basa en la creació d'un model predictiu que utilitza les dades de telelectura dels comptadors d’aigua, combinades amb altres fonts de dades com les de turisme, climatologia i mobilitat urbana, per estimar el consum d’aigua de manera més precisa i dinàmica. L’objectiu és simular els patrons de consum de les zones turístiques de Barcelona, amb una especial atenció a la variabilitat temporal, com la temporada alta de turisme, les condicions meteorològiques i altres factors que poden influir directament en el consum d’aigua. Aquest model permetrà identificar en temps real l’impacte del turisme sobre els recursos hídrics i proporcionar una visió més clara de com gestionar el consum de manera eficient.\n",
    "\n",
    "El caràcter innovador del nostre enfocament rau en la capacitat de crear una simulació interactiva que permet als usuaris inserir el nombre de turistes, ja sigui mensual o diari, i rebre una predicció de consum d’aigua per secció censal. Aquesta funcionalitat ofereix una interfície visual i intuïtiva que no només facilita la comprensió de l'impacte turístic sobre el consum d’aigua, sinó que també permet una resposta en temps real per ajudar a la gestió més eficient dels recursos hídrics. A través d’aquest enfocament, AGBAR podrà anticipar els canvis en la demanda d’aigua i adaptar-se als diferents escenaris segons els fluxos turístics.\n",
    "\n",
    "Aquesta aproximació és única en el sentit que, més enllà de les tècniques tradicionals de modelatge de consum, inclou variables externes que afecten directament el comportament dels consumidors d’aigua, com el turisme. Aquesta innovació té un gran impacte potencial en la sostenibilitat dels recursos hídrics de Barcelona, permetent no només millorar la previsió i l'ús dels recursos disponibles, sinó també reduir la pressió sobre el sistema hídrico, especialment en aquells moments de l’any en què el turisme augmenta de manera significativa.\n",
    "\n",
    "Els resultats esperats d’aquesta simulació són múltiples. En primer lloc, esperem aconseguir una predicció fiable del consum d’aigua per zones turístiques en funció de variables externes. Això amb l'objectiu d'ajudar a AGBAR a prendre decisions informades en temps real, optimitzant la distribució d’aigua i millorant la seva eficiència. A més, la possibilitat d’anticipar el consum d’aigua en funció dels fluxos turístics contribuirà a una gestió més sostenible dels recursos hídrics, disminuint l’impacte ambiental en les zones més afectades pel turisme. La capacitat d'adaptar-se als canvis d’aquests factors farà que el model sigui una eina flexible per afrontar la realitat canviant de Barcelona i altres ciutats amb dinàmiques similars.\n",
    "\n",
    "Aquesta solució no només és innovadora, sinó que també representa una oportunitat real d’adaptar-se als reptes globals actuals, com el canvi climàtic i la sostenibilitat, i de generar un impacte positiu en la gestió de l’aigua a Barcelona. Creiem fermament que la nostra proposta no només s’ajusta als objectius del challenge, sinó que també aporta una contribució significativa a l’estratègia de sostenibilitat hídrica a llarg termini d’AGBAR. "
   ]
  },
  {
   "cell_type": "markdown",
   "id": "92a96092-6067-4c01-a141-5a603c2f1bc8",
   "metadata": {
    "tags": []
   },
   "source": [
    "<a id=\"s2\"></a>\n",
    "## 2. Tractament de dades"
   ]
  },
  {
   "cell_type": "markdown",
   "id": "9d66d4db-2b57-4600-8ad7-b27f03e25baa",
   "metadata": {},
   "source": [
    "<a id=\"s21\"></a>\n",
    "\n",
    "### 2.1 Dades requerides"
   ]
  },
  {
   "cell_type": "markdown",
   "id": "f4505793-39eb-4556-b0d5-185254c4e02d",
   "metadata": {},
   "source": [
    "El projecte parteix del dataset **daily_dataset.csv** proporcionat per AGBAR, que inclou dades detallades sobre el consum d’aigua a nivell diari i per secció censal. Aquest dataset constitueix la base principal del nostre model i conté els camps següents:  \n",
    "- **Secció censal, districte i municipi**: per identificar zones geogràfiques concretes de consum.  \n",
    "- **Data**: per analitzar la distribució temporal del consum d’aigua.  \n",
    "- **Ús**: que especifica si l’aigua és utilitzada per a fins domèstics, industrials, comercials, o altres.  \n",
    "- **Nombre de comptadors**: que indica quants dispositius registren el consum a cada secció.  \n",
    "- **Consum acumulat (L/dia)**: volum d’aigua consumit diàriament en litres.  \n",
    "\n",
    "Aquestes dades són indispensables per entendre la variabilitat del consum en funció de la geografia i del tipus d’ús. Tanmateix, per desenvolupar un model que integri els efectes del turisme i d’altres factors externs, necessitem ampliar aquesta informació amb noves fonts de dades:  \n",
    "\n",
    "1. **Dades meteorològiques**:  \n",
    "   - **Temperatura màxima i mínima diària**: el clima influeix directament en el consum d’aigua. Per exemple, en dies de calor intensa, el consum augmenta, especialment a zones turístiques amb activitats a l’aire lliure.  \n",
    "   - **Precipitacions acumulades**: els dies de pluja redueixen el consum d’aigua en activitats a l’exterior, com el reg o les dutxes a platges i piscines.  \n",
    "\n",
    "   Aquestes dades són crucials per ajustar el model als patrons estacionals i climàtics, que tenen un gran impacte en el consum d’aigua.  \n",
    "\n",
    "2. **Dades de turisme**:  \n",
    "   - **Pernoctacions diàries**: necessitem saber quants turistes s’allotgen a la ciutat cada dia. Aquesta informació reflecteix l'impacte del turisme en zones concretes i ajuda a identificar com els fluxos de visitants contribueixen al consum d’aigua en serveis com hotels, restaurants i activitats recreatives.  \n",
    "\n",
    "   El turisme és un dels factors principals que volem analitzar. Per això, aquestes dades són essencials per segmentar el consum d’aigua atribuïble als visitants, diferenciant-lo del consum residencial o d'altres usos.\n",
    "\n",
    "3. **Dades de població**\n",
    "   - **Població de Barcelona per districtes**: necessitem informació de la població de Barcelona a cada període per poder relacionar-la al turisme i ajudar al model a generalitzar millor trobant patrons entre aquestes dues columnes.\n",
    "   \n",
    "   És important aportar el màxim de dades rellevants al model, la població de Barcelona és informació a considerar.\n",
    "\n",
    "La integració d’aquestes dades ens permetrà desenvolupar un model predictiu que connecti el consum d’aigua amb variables climàtiques i turístiques, oferint prediccions més precises i útils per a la gestió sostenible dels recursos hídrics. Així, podrem respondre preguntes clau, com l’impacte específic del turisme en zones determinades o l’efecte de condicions meteorològiques extremes en el consum global.  "
   ]
  },
  {
   "cell_type": "markdown",
   "id": "d700c3b8-d288-4b3e-8307-d17ce4975740",
   "metadata": {
    "tags": []
   },
   "source": [
    "<a id=\"s22\"></a>\n",
    "### 2.2 Preprocessing"
   ]
  },
  {
   "cell_type": "markdown",
   "id": "fd79b4f0-33cb-459e-8377-71242240442c",
   "metadata": {},
   "source": [
    "Per preparar el conjunt de dades per a l’anàlisi, carreguem i netegem les dades diàries de consum d’aigua. Aquest procés inclou renombrar les columnes per millorar la claredat, estandarditzar categories (per exemple, tipus d’ús d’aigua) i filtrar els registres vàlids específics de Barcelona. A més, convertim les dates a un format utilitzable i eliminem anomalies, com ara valors negatius de consum. Tot això assegura que les dades siguin consistents i estiguin llestes per integrar variables addicionals, com les meteorològiques i de turisme, per construir el model predictiu."
   ]
  },
  {
   "cell_type": "code",
   "execution_count": 1,
   "id": "ae256f86",
   "metadata": {
    "tags": []
   },
   "outputs": [],
   "source": [
    "import pandas as pd\n",
    "from collections import Counter\n",
    "import seaborn as sns\n",
    "import os\n",
    "import numpy as np\n",
    "from matplotlib import pyplot\n",
    "import matplotlib.pyplot as plt\n",
    "import re\n",
    "import subprocess\n",
    "\n",
    "\n",
    "import warnings\n",
    "warnings.filterwarnings(\"ignore\")"
   ]
  },
  {
   "cell_type": "code",
   "execution_count": 2,
   "id": "a10e1b6b-3b30-4bd7-8669-2b5546cda688",
   "metadata": {
    "tags": []
   },
   "outputs": [],
   "source": [
    "daily_aigues = pd.read_csv(\"data/local_data/daily_dataset.csv\", encoding='latin1')\n",
    "\n",
    "# Rename columns for clarity\n",
    "daily_aigues = daily_aigues.rename(columns={\n",
    "    daily_aigues.columns[0]: 'Census Section',\n",
    "    daily_aigues.columns[1]: 'District',\n",
    "    daily_aigues.columns[2]: 'Municipality',\n",
    "    daily_aigues.columns[3]: 'Date',\n",
    "    daily_aigues.columns[4]: 'Use',\n",
    "    daily_aigues.columns[5]: 'Number of Meters',\n",
    "    daily_aigues.columns[6]: 'Accumulated Consumption'\n",
    "})\n",
    "\n",
    "# Filter data for Barcelona\n",
    "daily_aigues_bcn = daily_aigues[daily_aigues['Municipality'] == \"BARCELONA\"]\n",
    "\n",
    "# Convert Date column to datetime\n",
    "daily_aigues_bcn['Date'] = pd.to_datetime(daily_aigues['Date'])\n",
    "\n",
    "# Replace values in the 'Use' column\n",
    "daily_aigues_bcn['Use'] = daily_aigues_bcn['Use'].replace({\n",
    "    'Comercial/Comercial/Commercial': 'Commercial',\n",
    "    'DomÃ¨stic/DomÃ©stico/Domestic': 'Domestic',\n",
    "    'Industrial/Industrial/Industrial': 'Industrial'\n",
    "})\n",
    "\n",
    "# Drop rows with invalid Census Section or District values\n",
    "daily_aigues_bcn = daily_aigues_bcn[daily_aigues_bcn['Census Section'] != '<NULL>']\n",
    "daily_aigues_bcn = daily_aigues_bcn[daily_aigues_bcn['District'] != '>']\n",
    "# drop nulls\n",
    "daily_aigues_bcn = daily_aigues_bcn.dropna()\n",
    "\n",
    "# Remove rows with Accumulated Consumption values below 0\n",
    "daily_aigues_bcn = daily_aigues_bcn[daily_aigues_bcn['Accumulated Consumption'] > 0]\n",
    "\n",
    "# cast district to int\n",
    "daily_aigues_bcn['District'] = daily_aigues_bcn['District'].astype(int)"
   ]
  },
  {
   "cell_type": "markdown",
   "id": "be71c05b-6cfe-4128-af2a-ca84201fdc39",
   "metadata": {},
   "source": [
    "<a id=\"s23\"></a>\n",
    "### 2.3 Obtenció de les dades meteorològiques i de precipitacions"
   ]
  },
  {
   "cell_type": "markdown",
   "id": "a1b5884a-9a97-49dd-816c-2c5554b52a48",
   "metadata": {},
   "source": [
    "Per millorar l'anàlisi, integrem dades meteorològiques, això ho fem per afegir valors que tinguin trascendencia en el consum de l'aigua, ja que el nombre de turistes no és l'únic que afecta al consum. És per això que hem decidit incloure les temperatures màximes i mínimes diàries i els nivells de precipitació. Les dades utilitzades s'obtenen de la API de la AEMET: https://www.aemet.es/ca/datos_abiertos/AEMET_OpenData\n",
    "\n",
    "\n",
    "Aquestes dades es grupen per data per calcular els valors mitjans, aquesta mitjana l'hem de fer ja que la base de dades utilitzada compta amb diferents observatoris des d'on es mesuren les dades, i per tant aquestes varien, però nosaltres preferim una mitjana per temes de simplicitat. A continuació, fusionem aquesta informació amb les dades netejades de consum d’aigua utilitzant la data com a clau. \n",
    "Aquest pas permet enllaçar els patrons meteorològics amb l’ús d’aigua, facilitant l’estudi de la seva influència en les tendències de consum."
   ]
  },
  {
   "cell_type": "code",
   "execution_count": 3,
   "id": "904a8e00-c141-4554-aaf8-5819b7f62541",
   "metadata": {
    "tags": []
   },
   "outputs": [
    {
     "name": "stdout",
     "output_type": "stream",
     "text": [
      "Merged data after adding meteorological data:\n",
      "  Census Section  District Municipality       Date         Use  \\\n",
      "0      801901001         1    BARCELONA 2021-01-01  Commercial   \n",
      "1      801901001         1    BARCELONA 2021-01-01    Domestic   \n",
      "2      801901001         1    BARCELONA 2021-01-01  Industrial   \n",
      "3      801901001         1    BARCELONA 2021-01-02  Commercial   \n",
      "4      801901001         1    BARCELONA 2021-01-02    Domestic   \n",
      "\n",
      "   Number of Meters  Accumulated Consumption  temp_max  temp_min  \\\n",
      "0                56                     2710      9.47      6.27   \n",
      "1               322                    10058      9.47      6.27   \n",
      "2                10                   140646      9.47      6.27   \n",
      "3                56                     3573     10.07      3.77   \n",
      "4               322                     9600     10.07      3.77   \n",
      "\n",
      "   precipitacion  \n",
      "0           3.37  \n",
      "1           3.37  \n",
      "2           3.37  \n",
      "3           0.00  \n",
      "4           0.00  \n"
     ]
    }
   ],
   "source": [
    "clima_df = pd.read_csv('data/temperature_precipitation.csv')\n",
    "\n",
    "# Convert 'fecha' column to datetime and group by date\n",
    "clima_df['fecha'] = pd.to_datetime(clima_df['fecha'])\n",
    "clima_df = clima_df.groupby('fecha').agg({\n",
    "    'temp_max': 'mean',\n",
    "    'temp_min': 'mean',\n",
    "    'precipitacion': 'mean'\n",
    "}).round(2).reset_index()\n",
    "\n",
    "# Merge meteorological data with water consumption data\n",
    "merged_data = daily_aigues_bcn.merge(clima_df, left_on='Date', right_on='fecha', how='left').drop(columns=['fecha'])\n",
    "\n",
    "# Debug: Check the merged data\n",
    "print(\"Merged data after adding meteorological data:\")\n",
    "print(merged_data.head())"
   ]
  },
  {
   "cell_type": "code",
   "execution_count": 4,
   "id": "c1fb14f3",
   "metadata": {
    "tags": []
   },
   "outputs": [
    {
     "name": "stdout",
     "output_type": "stream",
     "text": [
      "Unique values for the 'District' column:\n",
      "[ 1  2  3  4  5  6  7  8  9 10]\n"
     ]
    }
   ],
   "source": [
    "# print unique values district\n",
    "print(\"Unique values for the 'District' column:\")\n",
    "print(merged_data['District'].unique())"
   ]
  },
  {
   "cell_type": "markdown",
   "id": "69c29874-d669-4bec-b0d2-d42cf6c99084",
   "metadata": {},
   "source": [
    "<a id=\"s24\"></a>\n",
    "### 2.4 Obtenció de les dades de turisme"
   ]
  },
  {
   "cell_type": "markdown",
   "id": "376c6b4d-81ed-4285-93f3-fe6d84d013dc",
   "metadata": {},
   "source": [
    "Ja per acabar en el que integració de dades es refereix, hem d'afegir les dades més importants pel nostres estudi concret, les dades de quants turistes hi ha cada dia a Barcelona. Però aquest procés ha estat molt més complicat del que ens esperavem. Per començar, no hi ha dades com a tal de les pernoctacions diaries a Barcelona, el màxim que hem trobat son dades de les pernoctacions mensuals, trobades contactant amb l'Observatori del Turisme a Barcelona: [Direcció de correu](info@observatoriturisme.barcelona).\n",
    "\n",
    "Aquesta base de dades inclou les pernocatacions mensuals a Barcelona i el tipus d'allotjament:Establiments Hotelers, Albergs o Habitatges d'Ús Turístic, però aquests ultims els unificarem tots en un ja que per ara no és una dada relevant.\n",
    "\n",
    "\n",
    "Però aquestes dades son mensulas, i nosaltres tenim el consum diari i volem fer una predicció diaria. Per tant, hem de distribuir totes les pernoctacions mensuals entre els diferents dies del mes, però com? Es evident que no tots els dies del mes venen les mateixes persones a Barcelona, els caps de setmana, per exemple, acostument a haver més visitants. La idea que vam tenir per fer la distribució va ser dividir entre dies del mes i afegir soroll (noise) a la distribució. Per tal d'afegir soroll necessitavem un indicador del nombre de turistes diaris, en vam torbar un parell. El primer era un dataset dels vols que arrivaben i marxaven cada dia, però englovaba tota Espanya, pel que vam acabar descartant aquesta via. L'altre indicador que vam trobar va ser un dataset de les transaccions diaries fetes amb targetes de BBVA i transaccions fetes a TPVs de BBVA. Es pot accedir a aquestes dades des de: https://dades.ajuntament.barcelona.cat/consum-privat/index.Rmd.\n",
    "\n",
    "\n",
    "Evidentment son dades anonimitzades, però tenen un indicador més que és clau, segmenten entre transaccions fetes per extrangers i espanyols. Concretament hi ha un dataset amb el percentatge de transaccions fetes per estrangers i un altre amb el total de transaccions, de la combinació hem tret el nombre de transaccions fetes per turistes. Hem assumit que un turista espanyol es comporta com un tusista estranger.Així, hem pogut obtenir una distribució per aplicar soroll a les pernoctacions.\n",
    "\n",
    "A continuació el codi i els passos seguits per integrar les dades de transaccions turístiques i pernoctacions al conjunt de dades de consum d’aigua per analitzar l’impacte del turisme en l’ús d’aigua. El procés consisteix en:  \n",
    "\n",
    "1. **Carregar i netejar les dades**:  \n",
    "   - Importem els conjunts de dades relacionats amb les transaccions turístiques (`dataset_targetes.csv`), les transaccions totals (`total_transactions.csv`) i les pernoctacions (`pernoctacions_2019_2024.csv`).  \n",
    "   - Filtrarem les dades per als anys 2021–2023 i formatem les dates de manera consistent.  \n",
    "   - Calculem una nova columna (`total_tourist_transactions`) que escala les transaccions de turistes estrangers segons el volum total de transaccions.  \n",
    "2. **Agrupar dades mensuals**:  \n",
    "   - Agrupem les transaccions turístiques per mesos per calcular el total de transaccions mensuals.  \n",
    "   - Distribuïm els totals mensuals entre els dies individuals mitjançant percentatges diaris de transaccions, assegurant una assignació proporcional de les pernoctacions mensuals (`pernoctacions`) a cada dia.  \n",
    "3. **Combinar i unificar dades**:  \n",
    "   - Fusionem les dades de consum d’aigua amb les dades turístiques diàries (`resultado_df`) per integrar l’efecte del turisme a l’anàlisi.  \n",
    "   - Realitzem agregacions per secció censal, data i altres factors clau per simplificar el conjunt de dades, mantenint mètriques rellevants com el consum total d’aigua i les pernoctacions turístiques.  \n",
    "\n",
    "El resultat és un conjunt de dades unificat que vincula el consum d’aigua amb variables meteorològiques i turístiques, permetent una anàlisi exhaustiva de com aquests factors afecten les tendències diàries de consum d’aigua."
   ]
  },
  {
   "cell_type": "code",
   "execution_count": 5,
   "id": "27c5f464-8034-42c8-96ef-0f1d78601400",
   "metadata": {
    "tags": []
   },
   "outputs": [],
   "source": [
    "# Load and prepare the data\n",
    "targetes = pd.read_csv('data/dataset_targetes.csv')\n",
    "\n",
    "targetes = targetes.drop('Espanyola', axis=1)\n",
    "\n",
    "# Convert the column to datetime format\n",
    "targetes['Data'] = pd.to_datetime(targetes['Data'])\n",
    "\n",
    "# Format the date as yyyy-mm-dd\n",
    "targetes['Data'] = targetes['Data'].dt.strftime('%Y-%m-%d')\n",
    "\n",
    "# Filter the DataFrame to include only dates from 2021 to 2023\n",
    "targetes = targetes[(targetes['Data'] >= '2021-01-01') & (targetes['Data'] <= '2023-12-31')]\n",
    "\n",
    "transactions = pd.read_csv('data/total_transactions.csv')\n",
    "\n",
    "# Convert the column to datetime format\n",
    "transactions['Data'] = pd.to_datetime(transactions['Data'])\n",
    "\n",
    "# Format the date as yyyy-mm-dd\n",
    "transactions['Data'] = transactions['Data'].dt.strftime('%Y-%m-%d')\n",
    "\n",
    "# Filter the DataFrame to include only dates from 2021 to 2023\n",
    "transactions = transactions[(transactions['Data'] >= '2021-01-01') & (transactions['Data'] <= '2023-12-31')]\n",
    "\n",
    "# Set the date column as the index for both DataFrames to align dates easily\n",
    "transactions.set_index('Data', inplace=True)\n",
    "targetes.set_index('Data', inplace=True)\n",
    "\n",
    "# Create the total_tourist_transactions column by multiplying Series 1 in transactions by Estrangera in targetes\n",
    "targetes['total_tourist_transactions'] = (targetes['Estrangera'] * transactions['Series 1'])/100\n",
    "targetes.reset_index(inplace=True)\n",
    "transactions = targetes.drop('Estrangera', axis=1)\n",
    "\n",
    "# Load the datasets\n",
    "pernoctacions = pd.read_csv('data/pernoctacions_2019_2024.csv')\n",
    "\n",
    "# Convert date columns to datetime\n",
    "pernoctacions['Data'] = pd.to_datetime(pernoctacions['Data'], format='%m/%d/%Y')\n",
    "transactions['Data'] = pd.to_datetime(transactions['Data'], format='%Y-%m-%d')\n",
    "\n",
    "# Clean and convert the 'Pernoctacions' column to numeric\n",
    "pernoctacions['Pernoctacions'] = pd.to_numeric(pernoctacions['Pernoctacions'].str.replace('.', ''), errors='coerce')\n",
    "\n",
    "# Group transactions by month and calculate the total transactions per month\n",
    "monthly_transactions = transactions.groupby(transactions['Data'].dt.to_period('M'))['total_tourist_transactions'].sum().reset_index()\n",
    "monthly_transactions.columns = ['Month', 'Total Transactions']\n",
    "\n",
    "# Merge monthly totals with daily transactions to calculate daily percentages\n",
    "transactions = transactions.merge(monthly_transactions, left_on=transactions['Data'].dt.to_period('M'), right_on='Month', how='left')\n",
    "transactions['Percentage of Transactions'] = transactions['total_tourist_transactions'] / transactions['Total Transactions']\n",
    "\n",
    "# Remove unnecessary column\n",
    "transactions.drop(columns=['Month'], inplace=True)\n",
    "\n",
    "# Initialize the results list\n",
    "resultados = []\n",
    "\n",
    "# Loop through each row in pernoctacions to distribute monthly totals across days\n",
    "for _, row in pernoctacions.iterrows():\n",
    "    mes = row['Data'].month\n",
    "    anyo = row['Data'].year\n",
    "    pernoctaciones_mensuales = row['Pernoctacions']\n",
    "    \n",
    "    # Filter the transactions for the current month and year\n",
    "    transactions_mes = transactions[(transactions['Data'].dt.month == mes) & (transactions['Data'].dt.year == anyo)]\n",
    "    \n",
    "    # Ensure the daily percentages add up to 1\n",
    "    transactions_mes['Percentage of Transactions'] /= transactions_mes['Percentage of Transactions'].sum()\n",
    "    \n",
    "    # Distribute pernoctacions based on daily percentages\n",
    "    for _, transaction in transactions_mes.iterrows():\n",
    "        pernoctaciones_diarias = round(pernoctaciones_mensuales * transaction['Percentage of Transactions'])\n",
    "        resultados.append({\n",
    "            'Day': transaction['Data'],\n",
    "            'tipus allotjament': row['Tipologia d\\'allotjament'],\n",
    "            'pernoctacions': pernoctaciones_diarias\n",
    "        })\n",
    "\n",
    "# Create the final DataFrame\n",
    "resultado_df = pd.DataFrame(resultados)\n",
    "\n",
    "# Display a sample of the final DataFrame\n",
    "\n",
    "# Merge the water consumption data with the tourism data\n",
    "final_data = merged_data.merge(resultado_df, left_on='Date', right_on='Day', how='left').drop(columns=['Day'])\n",
    "\n",
    "# Grouping by all columns except 'tipus allotjament' and 'pernoctacions', and summing 'pernoctacions'\n",
    "final_data = (\n",
    "    final_data.groupby([\n",
    "        \"Census Section\", \"District\", \"Date\", \"Use\", \n",
    "        \"Number of Meters\", \"Accumulated Consumption\", \n",
    "        \"temp_max\", \"temp_min\", \"precipitacion\"\n",
    "    ], as_index=False)\n",
    "    .agg({\"pernoctacions\": \"sum\"})\n",
    ")\n",
    "\n"
   ]
  },
  {
   "cell_type": "markdown",
   "id": "f18f912a",
   "metadata": {},
   "source": [
    "<a id=\"s25\"></a>\n",
    "### 2.5 Obtenció de les dades dels habitants de Barcelona"
   ]
  },
  {
   "cell_type": "markdown",
   "id": "fda0dcd1",
   "metadata": {},
   "source": [
    "**Incorporació de dades de població per districtes**\n",
    "\n",
    "Per poder tenir un model que generalitzi bé creiem necessari afegir dades de la població de Barcelona. Aquestes dades són independents al turisme i enriqueixen les relacións i els patrons potencials que pot trobar el model. Hem extret les dades d'un dataset públic disponible a la pàgina del portal de dades de l'Ajuntament de Barcelona: [Dataset Població](https://portaldades.ajuntament.barcelona.cat/es/estad%C3%ADsticas/yzlntdm2fs?view=chart&chart=line-chart&diff=D4jvG8AqBMEsFsCmA7AzrA9mywBllZpIDlpEAPYgJwwBtFiA3AQ1oFdFVJBCAhgQAZIAScg0A7l2DgA%2BwEZIAfQUBBADKqlxAC4BPAA4M%2BzSAF9QfePIBTkAMZ028bFLnSA7NIAckALJtksLawerCm5nDw-Aq6BpAA05AxnDhQLOwM0gCcXlmQtMwARoi0ACr6hgAisMbSAExCZhay0eWQADPSAKIuAGLSAMI5gwDiA3UNoIAoBOZazFQA5oha-QAWc1rEtLDIiAC0tmtUG2agQA&ccfg=N4Coxg9gdgZglgcxMAZSAbgQwDYFcCmIghAQgAucp2hALdSNhGDoeJgLQCiAyiBjgQDEIAJwC2mUiADlgFAIQAQQAecAM4AJfNgAO%2BYchQB9gEyGAjESLUAnnQAKuldHwqQ1RXQAmcTCBkBfEC0IOChSFS44AC9CYANTAEmAsFxhdBi4kBVRCAhSAAsQPwDSTGEEfFIAYTzSyXoQ-DYwGuFJPy)\n",
    "\n",
    "La següent cel·la s'encarrega d'adjuntar aquestes dades mensuals de població per districte:\n",
    "- Càrrega i transformació de dades de població:\n",
    "    - Les dades de població per districtes (population_barcelona_districts.csv) es reformaten, canviant els noms de les columnes per números de districtes.\n",
    "    - Es reformaten les dates per fer-les consistents amb la resta del conjunt de dades.\n",
    "    - Es transforma el DataFrame per tenir una fila per districte, data i població.\n",
    "- Unió amb el conjunt principal:\n",
    "    - Es fusionen les dades de població amb el conjunt integrat de consum d’aigua i turisme. Com que les dades de població són mensuals, s’utilitza una columna auxiliar YearMonth per assegurar una fusió correcta.\n"
   ]
  },
  {
   "cell_type": "code",
   "execution_count": 6,
   "id": "80631443",
   "metadata": {
    "tags": []
   },
   "outputs": [
    {
     "name": "stdout",
     "output_type": "stream",
     "text": [
      "Census Section                     object\n",
      "District                           object\n",
      "Date                       datetime64[ns]\n",
      "Use                                object\n",
      "Number of Meters                    int64\n",
      "Accumulated Consumption             int64\n",
      "temp_max                          float64\n",
      "temp_min                          float64\n",
      "precipitacion                     float64\n",
      "pernoctacions                       int64\n",
      "Population                          int64\n",
      "dtype: object\n",
      "  Census Section District       Date         Use  Number of Meters  \\\n",
      "0      801901001        1 2021-01-01  Commercial                56   \n",
      "1      801901001        1 2021-01-01    Domestic               322   \n",
      "2      801901001        1 2021-01-01  Industrial                10   \n",
      "3      801901001        1 2021-01-02  Commercial                56   \n",
      "4      801901001        1 2021-01-02    Domestic               322   \n",
      "\n",
      "   Accumulated Consumption  temp_max  temp_min  precipitacion  pernoctacions  \\\n",
      "0                     2710      9.47      6.27           3.37           6186   \n",
      "1                    10058      9.47      6.27           3.37           6186   \n",
      "2                   140646      9.47      6.27           3.37           6186   \n",
      "3                     3573     10.07      3.77           0.00          16193   \n",
      "4                     9600     10.07      3.77           0.00          16193   \n",
      "\n",
      "   Population  \n",
      "0      109672  \n",
      "1      109672  \n",
      "2      109672  \n",
      "3      109672  \n",
      "4      109672  \n"
     ]
    }
   ],
   "source": [
    "population_district_ds = pd.read_csv('data/population_barcelona_districts.csv')\n",
    "\n",
    "population_district_ds = population_district_ds.rename(columns={\n",
    "    'Tiempo': 'Date',\n",
    "    'Ciutat Vella': 1,\n",
    "    'Eixample': 2,\n",
    "    'Sants-Montjuïc': 3,\n",
    "    'Les Corts': 4,\n",
    "    'Sarrià-Sant Gervasi': 5,\n",
    "    'Gràcia': 6,\n",
    "    'Horta-Guinardó': 7,\n",
    "    'Nou Barris': 8,\n",
    "    'Sant Andreu': 9,\n",
    "    'Sant Martí': 10\n",
    "})\n",
    "\n",
    "# Spanish month mapping\n",
    "month_mapping = {\n",
    "    \"ene\": \"01\", \"feb\": \"02\", \"mar\": \"03\", \"abr\": \"04\",\n",
    "    \"may\": \"05\", \"jun\": \"06\", \"jul\": \"07\", \"ago\": \"08\",\n",
    "    \"sep\": \"09\", \"oct\": \"10\", \"nov\": \"11\", \"dic\": \"12\"\n",
    "}\n",
    "\n",
    "# Function to convert the date using regex\n",
    "def reformat_date(date_str):\n",
    "    match = re.match(r\"(\\d{2}) (\\w{3}) (\\d{4})\", date_str)\n",
    "    if match:\n",
    "        day, month, year = match.groups()\n",
    "        month_num = month_mapping[month]\n",
    "        return f\"{year}-{month_num}-{day}\"\n",
    "    return date_str  # Return the original if no match\n",
    "\n",
    "# Apply the function to the 'Tiempo' column\n",
    "population_district_ds[\"Date\"] = population_district_ds[\"Date\"].apply(reformat_date)\n",
    "\n",
    "# Convert 'Date' columns to datetime\n",
    "final_data[\"Date\"] = pd.to_datetime(final_data[\"Date\"])\n",
    "population_district_ds[\"Date\"] = pd.to_datetime(population_district_ds[\"Date\"])\n",
    "\n",
    "# Now merge the datasets by Date and District, bear in mind the date in the population dataset is the first day of the month. So we need to create a year-month auxiliary column\n",
    "final_data[\"YearMonth\"] = final_data[\"Date\"].dt.to_period('M')\n",
    "population_district_ds[\"YearMonth\"] = population_district_ds[\"Date\"].dt.to_period('M')\n",
    "\n",
    "# Change the population barcelona dataset to have the districts rows. Cols: Date, District, Population\n",
    "population_district_ds = population_district_ds.melt(id_vars=[\"YearMonth\"], var_name=\"District\", value_name=\"Population\")\n",
    "\n",
    "# Now merge the datasets\n",
    "final_data = final_data.merge(population_district_ds, on=[\"YearMonth\", \"District\"], how=\"left\")\n",
    "\n",
    "# Drop the auxiliary column\n",
    "final_data.drop(columns=[\"YearMonth\"], inplace=True)\n",
    "final_data['Population'] = pd.to_numeric(final_data['Population'], errors='coerce')\n",
    "print(final_data.dtypes)\n",
    "\n",
    "print(final_data.head())"
   ]
  },
  {
   "cell_type": "markdown",
   "id": "c789a8a8",
   "metadata": {},
   "source": [
    "Finalment, ja podem guardar la base de dades i iniciar un analisi d'aquesta."
   ]
  },
  {
   "cell_type": "code",
   "execution_count": 7,
   "id": "bb7db484",
   "metadata": {
    "tags": []
   },
   "outputs": [
    {
     "name": "stdout",
     "output_type": "stream",
     "text": [
      "The dataset contains 2715771 rows.\n"
     ]
    }
   ],
   "source": [
    "os.makedirs('data/local_data/', exist_ok=True)\n",
    "final_data.to_csv('data/local_data/merged_cleaned_data_NEW.csv', index=False)\n",
    "print(f\"The dataset contains {final_data.shape[0]} rows.\")"
   ]
  },
  {
   "cell_type": "code",
   "execution_count": 8,
   "id": "d95c10b1",
   "metadata": {
    "tags": []
   },
   "outputs": [],
   "source": [
    "# Grouping by the relevant columns and summing the required fields\n",
    "final_data = (\n",
    "    final_data.groupby([\n",
    "        \"Census Section\", \"District\", \"Date\", \"temp_max\", \"temp_min\", \"precipitacion\", \"pernoctacions\", \"Population\"\n",
    "    ], as_index=False)\n",
    "    .agg({\n",
    "        \"Number of Meters\": \"sum\",\n",
    "        \"Accumulated Consumption\": \"sum\"\n",
    "    })\n",
    ")\n",
    "\n",
    "# Drop the number of meters column\n",
    "final_data.drop(columns=[\"Number of Meters\"], inplace=True)"
   ]
  },
  {
   "cell_type": "markdown",
   "id": "6e9a0bec-1dbd-41de-9c43-2842252fb500",
   "metadata": {},
   "source": [
    "<a id=\"s26\"></a>\n",
    "### 2.6  Correlació de les dades"
   ]
  },
  {
   "cell_type": "code",
   "execution_count": 10,
   "id": "047de9fe-5075-4e61-862d-b85f1f6d974f",
   "metadata": {
    "tags": []
   },
   "outputs": [
    {
     "data": {
      "image/png": "[encoded data removed]",
      "text/plain": [
       "<Figure size 1000x600 with 2 Axes>"
      ]
     },
     "metadata": {},
     "output_type": "display_data"
    }
   ],
   "source": [
    "# Select only numerical columns for the correlation matrix\n",
    "numerical_cols = final_data.select_dtypes(include=['float64', 'int64']).columns\n",
    "# Compute the correlation matrix excluding non-numerical fields\n",
    "filtered_correlation_matrix = final_data[numerical_cols].corr()\n",
    "\n",
    "# Plot the correlation matrix using seaborn\n",
    "plt.figure(figsize=(10, 6))\n",
    "sns.heatmap(filtered_correlation_matrix, annot=True, cmap='coolwarm', fmt=\".2f\")\n",
    "plt.title('Correlation Matrix (Numerical Fields Only)')\n",
    "plt.show()\n",
    "\n",
    "\n",
    "\n"
   ]
  },
  {
   "cell_type": "markdown",
   "id": "829b3dbb-bd64-44d2-8d02-3305807f3f5b",
   "metadata": {},
   "source": [
    "<a id=\"s3\"></a>\n",
    "## 3. Creació del algorisme de predicció"
   ]
  },
  {
   "cell_type": "markdown",
   "id": "cbcb815b",
   "metadata": {},
   "source": [
    "### 3.1 Investigació Previa "
   ]
  },
  {
   "attachments": {
    "prophet_performance.png": {
     "image/png": "[encoded data removed]"
    }
   },
   "cell_type": "markdown",
   "id": "dd33849c",
   "metadata": {},
   "source": [
    "La nostra recerca inicial es va centrar en l’anàlisi de sèries temporals, identificada com el component fonamental per a l’entrenament de models adaptats a les especificacions del nostre projecte. L’anàlisi de sèries temporals és particularment efectiva amb dades seriades que inclouen un component temporal; en aquest cas concret, organitzat diàriament. Aquest camp es divideix àmpliament en dues categories principals: tècniques de previsió de sèries temporals tradicionals i models moderns d’aprenentatge automàtic. La distinció principal entre aquests enfocaments rau en els seus mètodes i capacitats. Les tècniques tradicionals, com ARIMA i l’alissat exponencial (exponential smoothing), generalment es basen en fonaments estadístics per modelar les dades de manera lineal i són més adequades per a dades amb tendències clares i consistents i estacionalitat. D’altra banda, els models d’aprenentatge automàtic, incloent els random forests i les neural networks, ofereixen un enfocament més flexible capaç de capturar patrons no lineals complexos a través de l’ús d’algoritmes que aprenen de les dades, fent-los adequats per a sèries més volàtils amb estructures subjaents complexes.\n",
    "\n",
    "Vam començar explorant models potencials adequats per als requisits específics del nostre projecte amb el model Seasonal AutoRegressive Integrated Moving Average (SARIMA), una variant de l’ARIMA que incorpora un component estacional per abordar les fluctuacions periòdiques. El model SARIMA és efectiu amb conjunts de dades més simples; però sovint té dificultats amb estructures de dades més complexes. Durant la nostra anàlisi, vam observar diversos resultats que van guiar el nostre procés de decisió. Els gràfics de diagnòstic, en particular el gràfic de residus i el gràfic Q-Q normal, van demostrar un ajust raonable, amb residus que no mostraven patrons discernibles i s’alineaven amb la distribució normal. No obstant això, els resultats del test de Ljung-Box, que no va mostrar autocorrelació significativa, juntament amb l’heteroscedasticitat alta observada, van indicar una variabilitat inconsistent en els errors del model a través de la sèrie temporal, suggerint una captura incompleta de la dinàmica del conjunt de dades. A més, una limitació significativa del model SARIMA és la necessitat de formar un model diferent de manera independent per a cada secció de cens o districte, i requereix coneixement previ sobre la selecció de l’ordre millor i l’ordre estacional dels paràmetres del model. Aquests factors combinats ens van portar a considerar enfocaments de modelatge alternatius que podrien acomodar més efectivament les complexitats inherents al nostre conjunt de dades divers.\n",
    "\n",
    "Després dels nostres experiments inicials amb el model SARIMA, vam explorar l’ús del model Prophet de Facebook, conegut per la seva robusta gestió de dades de sèries temporals que mostren patrons estacionals forts i tendències irregulars. Prophet està dissenyat per incorporar fàcilment canvis en les tendències i els efectes estacionals, fent que inicialment semblés una eina prometedora per al nostre conjunt de dades, que implica dinàmiques complexes com el consum diari d’aigua i la variabilitat deguda a factors externs. Malgrat les capacitats de Prophet amb dades numèriques i el seu enfocament per modelar fluctuacions estacionals, les nostres avaluacions van indicar que el seu rendiment no era òptim per a les necessitats del nostre projecte. En les proves que implicaven prediccions de dades dins de la mostra, mentre que Prophet era capaç de generar previsions, els nivells d’exactitud no van complir amb les nostres expectatives. El gràfic de diagnòstic va destacar discrepàncies entre els valors predits i els punts de dades reals, suggerint que el model potser no captura tots els patrons subjacents de manera efectiva.\n",
    "\n",
    "![prophet_performance.png](attachment:prophet_performance.png)\n",
    "\n",
    "Les limitacions dels models explorats anteriorment provenien de la seva incapacitat per comptar amb la jerarquia relacional entre diferents districtes o seccions de cens, ja que estan dissenyats per manejar només una sèries única a la vegada. Per abordar millor les subtilitats estructurals del nostre conjunt de dades, que organitza les dades jeràrquicament, vam recórrer a un enfocament de previsió de sèries temporals jeràrquiques. Específicament, vam utilitzar un HTSRegressor, utilitzant un model SARIMAX com a motor de predicció subjacent. Aquesta elecció va estar motivada per l’aptitud de l’HTSRegressor per alinear-se estructural i lògicament amb la natura jeràrquica de les nostres dades, prometent una anàlisi més conscient del context. No obstant això, mentre l’HTSRegressor gestiona hàbilment la composició jeràrquica del conjunt de dades, roman com un model univariat, que prediu principalment el Consum Acumulat basat únicament en dades de consum anteriors. Aquest model no incorpora inherentment variables exògenes com el nombre de turistes o les condicions meteorològiques, que són clau per a previsions matissades en el nostre context. No obstant això, el potencial per integrar aquestes dades addicionals a l’HTSRegressor existeix i podria millorar significativament l’exactitud de les seves prediccions. Un inconvenient notable que vam trobar amb aquest model va ser la seva ocasiónal predicción de valors negatius per al consum, un resultat que és impracticable per als nostres propòsits.\n",
    "\n",
    "Fins a aquest punt, els models que havíem explorat eren predominantment univariats, dissenyats per analitzar i predir basats en una sola sèrie de dades a la vegada. Aquest enfocament, tot i ser útil, pot no complir completament amb els requisits del nostre modelatge predictiu, especialment quan múltiples variables interrelacionades influeixen en el resultat. En conseqüència, vam canviar el nostre enfocament cap als models de Vector Autoregressió (VAR), que són inherentment multivariats i capaços de capturar les relacions entre diverses sèries temporals simultàniament. Vam implementar models VAR individualment per a cada districte o secció censal, permetent que el model prevegi valors futurs de manera autònoma sense la necessitat de configurar manualment els paràmetres. Tot i que les prediccions inicials van produir un marge d’error considerable, reconeixem el potencial substancial del model VAR per refinar i millorar les seves prediccions amb un conjunt de dades més extens. Les discussions detallades sobre les aplicacions específiques i el rendiment del model VAR seran exposades en altres seccions d’aquest document.\n",
    "\n",
    "En la nostra recerca de models predictius efectius, també vam provar tècniques d’aprenentatge automàtic: Random Forest i Gradient Boosting, específicament utilitzant l’algoritme CatBoost. Aquests models van servir per establir una línia base de rendiment. Tot i que ambdós models van mostrar un rendiment global similar, CatBoost es particularment adequat per manejar conjunts de dades amb una proporció més alta de variables categòriques, com els identificadors de districte i secció de cens del nostre conjunt de dades. Aquest avantatge és degut a la capacitat inherent de CatBoost per processar dades categòriques directament, reduint així la necessitat d’un extens preprocés. Malgrat els seus avantatges teòrics, ambdós models van produir un Error Quadràtic Mitjà (MSE) d’aproximadament 19.635 milions, que indica un rendiment subòptim per a la nostra aplicació específica.\n",
    "\n",
    "Donades les limitacions observades amb els models estadístics tradicionals i els models d’aprenentatge automàtic inicials, vam decidir avançar la nostra exploració en tecnologies de deep learning, específicament centrant-nos en un model de Long Short Term Memory (LSTM). Aquest model representa el nostre enfocament final per a la fase de simulació del nostre projecte. Les LSTMs són particularment hàbils en el maneig de dades de sèries temporals degut a la seva capacitat de recordar informació durant llargs períodes, la qual cosa és crucial per predir seqüències amb dependències temporals. Una discussió exhaustiva d’aquest model final, incloent la seva arquitectura, procés d’entrenament i aplicació específica al nostre conjunt de dades, serà proporcionada en les seccions següents."
   ]
  },
  {
   "cell_type": "markdown",
   "id": "dbc39c34",
   "metadata": {},
   "source": [
    "<a id=\"s32\"></a>\n",
    "\n",
    "### 3.2 Descripció inputs i outputs"
   ]
  },
  {
   "cell_type": "code",
   "execution_count": null,
   "id": "b7eb2375-9d05-4164-a1fb-15c6e94f50de",
   "metadata": {},
   "outputs": [],
   "source": []
  },
  {
   "cell_type": "markdown",
   "id": "4d917845-40a8-42e8-92c8-44633d5c7d8f",
   "metadata": {},
   "source": [
    "<a id=\"s33\"></a>\n",
    "\n",
    "### 3.3 Explicació del algoritme"
   ]
  },
  {
   "cell_type": "code",
   "execution_count": null,
   "id": "2560cbc1-85e3-4166-8fc5-5b15e4efa517",
   "metadata": {},
   "outputs": [],
   "source": []
  },
  {
   "cell_type": "markdown",
   "id": "14755ca7-3c4d-4e2e-b040-83c6da4b3f3e",
   "metadata": {},
   "source": [
    "<a id=\"s34\"></a>\n",
    "\n",
    "### 3.4 Codi"
   ]
  },
  {
   "cell_type": "code",
   "execution_count": null,
   "id": "92e183ec-5997-4ea2-bfeb-85dce153bd53",
   "metadata": {},
   "outputs": [],
   "source": []
  },
  {
   "cell_type": "markdown",
   "id": "2fa4aed1-81d3-447d-97f1-488149381423",
   "metadata": {},
   "source": [
    "<a id=\"s35\"></a>\n",
    "\n",
    "### 3.5 Validació del algorisme de predicció "
   ]
  },
  {
   "cell_type": "code",
   "execution_count": null,
   "id": "a293ce3e-a484-4fc5-af44-580f0217dee7",
   "metadata": {},
   "outputs": [],
   "source": []
  },
  {
   "cell_type": "markdown",
   "id": "b935e04e-c393-4042-92c3-0989a90067ed",
   "metadata": {},
   "source": [
    "<a id=\"s4\"></a>\n",
    "## 4. Simulació"
   ]
  },
  {
   "cell_type": "markdown",
   "id": "65a6f41a",
   "metadata": {},
   "source": [
    "<a id=\"s41\"></a>\n",
    "\n",
    "### 4.1 Explicació de l'objectiu de la simulació"
   ]
  },
  {
   "cell_type": "markdown",
   "id": "ad54fe04",
   "metadata": {},
   "source": [
    "Una simulació dels resultats, combinada amb un estudi estàtic, és essencial per a AGBAR perquè permet abordar de manera dinàmica i estratègica els reptes de la gestió hídrica. Aquí en detallem les raons principals:\n",
    "\n",
    "#### **Raons per a la simulació:**  \n",
    "1. **Adaptació immediata a situacions canviants:**  \n",
    "   La simulació permet reaccionar en temps real davant factors com un augment sobtat de turistes o condicions meteorològiques extremes, ajustant la distribució d’aigua segons les necessitats.  \n",
    "\n",
    "2. **Projecció de futurs escenaris:**  \n",
    "   Mitjançant simulacions, AGBAR pot anticipar diferents escenaris de consum i preparar-se per a pics de demanda o situacions d’escassetat, optimitzant recursos de manera proactiva.  \n",
    "\n",
    "#### **Raons per a l’estudi estàtic:**  \n",
    "1. **Identificació de patrons a llarg termini:**  \n",
    "   L’estudi estàtic ofereix una comprensió profunda de les tendències històriques i estructurals del consum d’aigua, ajudant a dissenyar polítiques sostenibles i ajustades a la realitat de cada zona.  \n",
    "\n",
    "2. **Suport a la presa de decisions estratègiques:**  \n",
    "   Amb dades estàtiques fiables, AGBAR pot justificar inversions en infraestructures i programes d’eficiència hídrica, basant-se en patrons comprovats i consistents.  "
   ]
  },
  {
   "cell_type": "markdown",
   "id": "f7b2a323",
   "metadata": {},
   "source": [
    "<a id=\"s42\"></a>\n",
    "### 4.2 Instruccions per corre la simulació"
   ]
  },
  {
   "cell_type": "markdown",
   "id": "2c2eab47",
   "metadata": {},
   "source": [
    "---\n",
    "\n",
    "Per executar l'aplicació simplement cal executar el codi de baix.\n",
    "\n",
    "---\n",
    "\n",
    "#### **Accedir a l'aplicació**\n",
    "- Quan executis la comanda, Streamlit obrirà automàticament l’aplicació al navegador web predeterminat.\n",
    "- Per defecte, estarà disponible a l’adreça: [http://localhost:8501](http://localhost:8501).\n",
    "\n",
    "---\n",
    "\n",
    "#### **Aturar l’aplicació**\n",
    "- Per aturar l’aplicació, simplement cal aturar l'execució de la casella següent.\n",
    "\n",
    "---\n"
   ]
  },
  {
   "cell_type": "code",
   "execution_count": null,
   "id": "c4df4204-a7a0-4571-8ff0-840beac1796a",
   "metadata": {
    "tags": []
   },
   "outputs": [],
   "source": [
    "# Change to the 'display' directory\n",
    "os.chdir('display')\n",
    "\n",
    "# Run the Streamlit application\n",
    "subprocess.run([\"streamlit\", \"run\", \"main.py\"])\n"
   ]
  },
  {
   "cell_type": "markdown",
   "id": "6d5f1866",
   "metadata": {
    "jp-MarkdownHeadingCollapsed": true,
    "tags": []
   },
   "source": [
    "Alternativament, es pot correr l'aplicació a través de la terminal:\n",
    "\n",
    "### Com executar la simulació Streamlit de `main.py` des de la terminal\n",
    "\n",
    "---\n",
    "\n",
    "#### 1. **Obrir la terminal**\n",
    "- Navega al directori display. \n",
    "- Accedeix al terminal o consola del teu sistema operatiu.\n",
    "\n",
    "---\n",
    "\n",
    "#### 2. **Executar Streamlit**\n",
    "Utilitza la següent comanda per iniciar l’aplicació:\n",
    "\n",
    "```bash\n",
    "streamlit run display/main.py\n",
    "```\n",
    "\n",
    "---\n",
    "\n",
    "#### 3. **Accedir a l'aplicació**\n",
    "- Quan executis la comanda, Streamlit obrirà automàticament l’aplicació al navegador web predeterminat.\n",
    "- Per defecte, estarà disponible a l’adreça: [http://localhost:8501](http://localhost:8501).\n",
    "\n",
    "---\n",
    "\n",
    "#### 4. **Aturar l’aplicació**\n",
    "- Per aturar l’aplicació, torna a la terminal on s’està executant i prem **Ctrl+C**.\n",
    "\n",
    "---\n",
    "\n",
    "#### Problemes comuns\n",
    "- Si la comanda `streamlit` no funciona, assegura’t que Streamlit està instal·lat correctament:\n",
    "  ```bash\n",
    "  pip install streamlit\n",
    "  ```"
   ]
  },
  {
   "cell_type": "markdown",
   "id": "9838f3f1",
   "metadata": {},
   "source": [
    "<a id=\"s43\"></a>\n",
    "\n",
    "### 4.3 Descripció de les pàgines de la simulació"
   ]
  },
  {
   "cell_type": "markdown",
   "id": "7fd49495",
   "metadata": {},
   "source": [
    "Aquesta aplicació té diverses pàgines de visualització on podràs conèixer més sobre el projecte, veure els detalls i explorar la informació. Aquí tens una explicació de com funciona cada pàgina i com navegar-hi:\n",
    "\n",
    "---\n",
    "\n",
    "### **Com Navegar Entre Pàgines**\n",
    "\n",
    "- El **menú de navegació** (ubicat lateral de la pàgina) et permet canviar fàcilment entre pàgines.\n",
    "- Simplement fes clic a **“Sobre Nosaltres,” “Sobre el Projecte,”**, **“Estudi Estàtic”** o **“Predicció”** per anar a la pàgina desitjada.\n",
    "\n",
    "---\n",
    "\n",
    "### **Pàgines de l'Aplicació**\n",
    "\n",
    "#### **1. Sobre Nosaltres**\n",
    "\n",
    "Aquesta pàgina presenta l'equip darrere del projecte. Podràs conèixer qui ha desenvolupat l'aplicació i obtenir més informació sobre les seves funcions.\n",
    "\n",
    "#### **2. Sobre el Projecte**\n",
    "\n",
    "Aquesta pàgina explica el propòsit i els objectius del projecte. Detalla el que l'aplicació està dissenyada per fer i com pot ajudar als usuaris.\n",
    "\n",
    "#### **3. Estudi Estàtic**\n",
    "\n",
    "   ##### **Objectiu:**\n",
    "   Aquesta pàgina mostra dades estàtiques o resultats de recerca relacionats amb el projecte.\n",
    "\n",
    "   ##### **Com fer-ho servir:**\n",
    "   Aquí tens com funciona la selecció de períodes de temps per a tu com a usuari:\n",
    "\n",
    "   1. **Tria un any:**\n",
    "      - Primer, veuràs un menú desplegable etiquetat **\"Seleccionar any\"**. Aquí pots triar entre:\n",
    "      - **Tots els anys** – Aquesta opció et permet veure les dades agrupades per tots els anys disponibles al conjunt de dades.\n",
    "      - **2021**, **2022**, **2023** – Pots triar un any específic si vols centrar-te en les dades d'aquest any en concret.\n",
    "\n",
    "   2. **Selecciona un mes (si cal):**\n",
    "      - **Si seleccionas un any específic** (per exemple, **2021**, **2022**, **2023**), apareixerà un segon menú desplegable per seleccionar un mes. Aquest estarà etiquetat com **\"Seleccionar mes\"**, i podràs triar entre:\n",
    "      - **Tots els mesos** – Aquesta opció et permet veure les dades agrupades per tots els mesos de l'any seleccionat.\n",
    "      - **Gener**, **Febrer**, **Març**, etc. – Aquests són els mesos de l'any. Selecciona un mes per veure les dades d'aquest mes i any.\n",
    "\n",
    "   3. **Com esgrupen les dades segons les teves seleccions:**\n",
    "      - Si seleccionas **\"Tots els anys\"**, les dades s'agrupen per **mes**, mostrant tendències a través de tots els anys.\n",
    "      - Si selecciones un **any** específic i **\"Tots els mesos\"**, les dades s'agrupen per **setmana** per a l'any seleccionat.\n",
    "      - Si seleccionas un **any** i **mes** específic, les dades s'agrupen per **dia** per a aquest mes i any.\n",
    "\n",
    "   D'aquesta manera, oferim un més precisió a mesura que les dates són més específiques.\n",
    "\n",
    "   4. **Notes importants:**\n",
    "      - Si no fas seleccions vàlides (per exemple, si no tries cap any o mes), veuràs una advertència que diu: **\"Please make valid selections to generate the plots.\"** (Selecciona les opcions correctes per generar els gràfics.)\n",
    "\n",
    "   5. **Gràfics mostrats**\n",
    "      \n",
    "      1. *Consum d'Aigua per Tipus d'Ús:* Mostra el consum d'aigua per categories com residencial, comercial i industrial, ajudant a identificar les àrees de major consum per a estratègies de conservació específiques.\n",
    "         \n",
    "      2. *Consum d'Aigua per Districte:* Compara el consum d'aigua entre diferents districtes, ressaltant les àrees amb major consum per orientar estratègies de reducció del consum.\n",
    "         \n",
    "      3. *Consum d'Aigua per Districte i Tipus d'Ús:* Desglossa el consum per districtes i tipus d'ús per proporcionar una visió detallada de com es distribueix el consum a través de les diferents zones de la ciutat.\n",
    "         \n",
    "      4. *Consum d'Aigua vs. Allotjaments Turístics:* Examina la relació entre els allotjaments turístics i el consum d'aigua, mostrant com els turistes influeixen en la demanda d’aigua.\n",
    "         \n",
    "      5. *Consum d'Aigua vs. Precipitació:* Analitza com la precipitació afecta el consum d'aigua, destacant períodes de sequera i pluja intensa.\n",
    "      \n",
    "      6. *Consum d'Aigua vs. Temperatura:* Mostra com les temperatures extremes poden augmentar el consum d'aigua en les llars i les indústries.\n",
    "\n",
    "   ---"
   ]
  },
  {
   "cell_type": "markdown",
   "id": "d124feb6-580d-426a-99de-6edd3e3b3cac",
   "metadata": {},
   "source": [
    "<a id=\"s5\"></a>\n",
    "## 5. Extra product"
   ]
  },
  {
   "cell_type": "code",
   "execution_count": null,
   "id": "7c9a1722-6c82-42d4-9a52-a7dadde551bb",
   "metadata": {},
   "outputs": [],
   "source": []
  },
  {
   "cell_type": "markdown",
   "id": "29c15f3d-83a1-496e-bdff-ae3310ab0631",
   "metadata": {},
   "source": [
    "<a id=\"s6\"></a>\n",
    "## 6. Recomanacions accionables"
   ]
  },
  {
   "cell_type": "code",
   "execution_count": null,
   "id": "a81a3480-de10-4c4a-9fec-44adca476c65",
   "metadata": {},
   "outputs": [],
   "source": []
  },
  {
   "cell_type": "markdown",
   "id": "28ca8633",
   "metadata": {},
   "source": [
    "<a id=\"s7\"></a>\n",
    "## 7. Escalabilitat"
   ]
  },
  {
   "cell_type": "markdown",
   "id": "1029839f",
   "metadata": {},
   "source": [
    "<a id=\"s71\"></a>\n",
    "### 7.1 Dades meteorològiques i precipitacions"
   ]
  },
  {
   "cell_type": "markdown",
   "id": "5728972f",
   "metadata": {},
   "source": [
    "L'API d'AEMET (Agencia Estatal de Meteorología) permet accedir a dades meteorològiques en temps real o històriques proporcionades per les seves estacions meteorològiques. Per accedir a aquestes dades, cal obtenir una **clau d'API** des del seu portal oficial. Aquesta clau s'inclou en les sol·licituds per autenticar-les.\n",
    "\n",
    "### Funcionament bàsic\n",
    "1. **Autenticació**: Cada sol·licitud a l'API ha d'incloure la clau generada.\n",
    "2. **Endponts**: L'API ofereix diferents punts d'accés per a dades com ara:\n",
    "   - Prediccions meteorològiques.\n",
    "   - Observacions històriques.\n",
    "   - Dades puntuals per estació meteorològica.\n",
    "3. **Resposta**: Les dades es tornen en format JSON, amb valors com ara temperatures, precipitacions, velocitat del vent, etc.\n",
    "\n",
    "### Mesures de temperatura i precipitació\n",
    "Les dades meteorològiques que utilitzem són:\n",
    "- **Temperatura mínima** (*tmin*): És la temperatura més baixa registrada durant un interval de temps (normalment, un dia).\n",
    "- **Temperatura màxima** (*tmax*): És la temperatura més alta registrada durant el mateix interval.\n",
    "- **Precipitacions acumulades** (*prec*): La quantitat total de pluja o neu fosa mesurada durant un període mesurada en mm.\n",
    "\n",
    "### Estacions\n",
    "Nosaltres hem decidit utilitzar les tres estacions de Barcelona i després fer la mitjana d'elles per un millor resultat. Si és volgués, es podria fer només amb una. Les estacions són les següents:\n",
    "- **Estació 0076 - Barcelona, Fabra**\n",
    "- **Estació 0201D - Barcelona, Port Olímpic**\n",
    "- **Estació 0201X - Barcelona Drassanes**\n",
    "\n",
    "\n",
    "Per continuar tenint la informació del temps actualitzada podeu fer servir el següent codi: [Extracció mensual de dades AEMET](altres\\extracció_AEMET.py)\n",
    "- Recordeu d'afegir la vostra **API key** proporcionada per **AEMET**.\n",
    "- El codi està fet per treure les dades meteorològiques de l'últim mes. Per canviar els dies seleccionats, modifiqueu la secció sota <font color=\"darkgreen\"># Calcular les dates per l'últim mes</font>\n",
    "- El codi està pensat per treure en format csv les dades necessàries de l'últim mes. Si es volgués, també es podria afegir les noves línies al csv global.\n",
    "\n",
    "\n",
    "\n",
    "\n",
    "Per a més informació visiteu: https://opendata.aemet.es/centrodedescargas/inicio\n",
    "\n",
    "\n",
    "### API per predir dades meteorològiques a futur\n",
    "A part de aconseguir les dades històriques meteorològiques és necessàri fer un pronòstic dels dies a predir per recolzar al model amb dades de valor i poder fer una bona predicció. Per aquest motiu hem fet una recerca i la [API meteoblue](https://www.meteoblue.com/es/weather-api/index/overview) ens permet obtenir dades de pronòstics futurs de manera molt senzilla. Hem fet diverses proves per comprovar la qualitat de les dades i ha resultat ser una bona eina. De totes maneres, per obtenir dades a més de 14 dies és necessària una subscripció de pagament. Com  que per bases de concurs no podem fer servir cap tipus d'eina de pagament simplement ho deixem anotat com a possible eina d'escalabilitat.\n",
    "\n",
    "Per suplir la manca d'API gratuita per pronòstics de temps hem fet servir el nostre model de time series. S'ha de tenir en compte que aquestes dades milloraran significativament quan es proporcionin a través de la API."
   ]
  },
  {
   "cell_type": "markdown",
   "id": "3e33e1c3",
   "metadata": {},
   "source": [
    "<a id=\"s72\"></a>\n",
    "### 7.2 Dades de turisme"
   ]
  },
  {
   "cell_type": "markdown",
   "id": "359cf2bc",
   "metadata": {},
   "source": [
    "Per obtenir les dades de les pernoctacions és necessàri que contacteu amb l'Observatori del Turisme a Barcelona: [Direcció de correu](info@observatoriturisme.barcelona). De moment no hem trobat una API per aconseguir aquestes dades de forma automàtica, vam preguntar a l'Observatori del Turisme i ens van comentar que hauriem de contactar amb l'Oficina Municipal de Dades."
   ]
  },
  {
   "cell_type": "markdown",
   "id": "bbc54688",
   "metadata": {},
   "source": [
    "<a id=\"s73\"></a>\n",
    "### 7.3 Dades de població"
   ]
  },
  {
   "cell_type": "markdown",
   "id": "98ca85ac",
   "metadata": {},
   "source": [
    "Com hem comentat anteriorment el dataset que hem fet servir per les dades de la població de Barcelona l'hem extret d'aquesta pàgina: [Dataset Població de Barcelona](https://portaldades.ajuntament.barcelona.cat/es/estad%C3%ADsticas/yzlntdm2fs?view=chart&chart=line-chart&diff=D4jvG8AqBMEsFsCmA7AzrA9mywBllZpIDlpEAPYgJwwBtFiA3AQ1oFdFVJBCAhgQAZIAScg0A7l2DgA%2BwEZIAfQUBBADKqlxAC4BPAA4M%2BzSAF9QfePIBTkAMZ028bFLnSA7NIAckALJtksLawerCm5nDw-Aq6BpAA05AxnDhQLOwM0gCcXlmQtMwARoi0ACr6hgAisMbSAExCZhay0eWQADPSAKIuAGLSAMI5gwDiA3UNoIAoBOZazFQA5oha-QAWc1rEtLDIiAC0tmtUG2agQA&ccfg=N4Coxg9gdgZglgcxMAZSAbgQwDYFcCmIghAQgAucp2hALdSNhGDoeJgLQCiAyiBjgQDEIAJwC2mUiADlgFAIQAQQAecAM4AJfNgAO%2BYchQB9gEyGAjESLUAnnQAKuldHwqQ1RXQAmcTCBkBfEC0IOChSFS44AC9CYANTAEmAsFxhdBi4kBVRCAhSAAsQPwDSTGEEfFIAYTzSyXoQ-DYwGuFJPy). De totes maneres la pàgina té una API per poder baixar-se les dades programàticament i automatitzar el procés per motius d'escalabilitat.\n",
    "Per fer servir aquesta API simplement s'ha de navegar al link que us hem adjuntat adalt. Un cop a la pàgina podem visualitzar les dades actualitzades, es pot baixar un csv amb la informació o es pot demanar accés a una API registran-te. A sobre del gràfic trobareu un botó amb tres punts verticals, si navegueu a `Data API` veureu la informació necessària per poder fer servir la seva API.\n",
    "\n",
    "En comptes de carregar un dataset en local haureu de fer una trucada a la API per obtenir les dades, carregueu-les a la mateixa variable i el nostre codi preprocessarà les dades automàticament.\n",
    "\n"
   ]
  },
  {
   "cell_type": "markdown",
   "id": "c38e3e26",
   "metadata": {},
   "source": [
    "<a id=\"s74\"></a>\n",
    "### 7.4 Re-entrenament del model"
   ]
  },
  {
   "cell_type": "markdown",
   "id": "8a56f369",
   "metadata": {},
   "source": [
    "Com sabem, les prediccións són més efectives quan tenim dades més recents. És per això que per futures prediccións caldrà actualitzar el dataset periòdicament per tal d'obtenir la màxima precisió. A continuació expliquem els passos a seguir per re-entrenar el model:\n",
    "1. Substituir els datasets originals pels actualitzats amb el mateix format.\n",
    "    - És molt important que tant l'esquema com el format i l'ordre siguin el mateix.\n",
    "2. A partir de les APIs proporcionades prèviament descarregar els datasets de les dades que manquen.\n",
    "\n",
    "El més important per al re-entrenament del model és canviar només els datasets originals (amb les APIs i dades actualitzades) perquè el preprocessament funcioni correctament. D'aquesta manera el format del dataset final serà sempre el mateix i el model podrà ser entrenat sense errors amb les dades actualitzades."
   ]
  },
  {
   "cell_type": "markdown",
   "id": "787e15f7-4e09-4fa1-84a1-00db598483dd",
   "metadata": {},
   "source": [
    "<a id=\"s8\"></a>\n",
    "\n",
    "## 8. Conclusions"
   ]
  },
  {
   "cell_type": "markdown",
   "id": "d12004c5-f401-4c5d-90e3-e9ed51a71fa7",
   "metadata": {},
   "source": [
    "<a id=\"s81\"></a>\n",
    "### 8.1 Efectes del turisme a Barcelona"
   ]
  },
  {
   "cell_type": "code",
   "execution_count": null,
   "id": "916858ef-4212-49de-ab27-28f9a1c68ce4",
   "metadata": {},
   "outputs": [],
   "source": []
  },
  {
   "cell_type": "markdown",
   "id": "4927997f-aef9-4193-801f-070670d23b8c",
   "metadata": {},
   "source": [
    "<a id=\"s82\"></a>\n",
    "### 8.2 Conclusions finals"
   ]
  },
  {
   "cell_type": "code",
   "execution_count": null,
   "id": "9105b67a-4787-4f74-9c1e-fa9f6efba1cc",
   "metadata": {},
   "outputs": [],
   "source": []
  },
  {
   "cell_type": "code",
   "execution_count": null,
   "id": "1da9ad71-ff21-47bc-8b9b-c94992c5ef6e",
   "metadata": {},
   "outputs": [],
   "source": []
  }
 ],
 "metadata": {
  "kernelspec": {
   "display_name": "Python 3 (ipykernel)",
   "language": "python",
   "name": "python3"
  },
  "language_info": {
   "codemirror_mode": {
    "name": "ipython",
    "version": 3
   },
   "file_extension": ".py",
   "mimetype": "text/x-python",
   "name": "python",
   "nbconvert_exporter": "python",
   "pygments_lexer": "ipython3",
   "version": "3.11.5"
  }
 },
 "nbformat": 4,
 "nbformat_minor": 5
}
