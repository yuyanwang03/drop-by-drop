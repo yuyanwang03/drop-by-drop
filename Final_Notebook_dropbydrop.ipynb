{
 "cells": [
  {
   "cell_type": "markdown",
   "id": "9880eb1d",
   "metadata": {},
   "source": [
    "<h1 style=\"display: flex; align-items: center; font-size: 50px; margin-bottom: 25px; color: lightgrey;\">\n",
    "  Anàlisi de la Petjada Hídrica dels Turistes a Barcelona\n",
    "</h1>\n",
    "<hr style=\"border: 1px solid grey;\">\n",
    "<div style=\"display: flex; justify-content: center; align-items: center; width: 100%;\">\n",
    "  <img src=\"display/media/AB_logo.png\" alt=\"Image 1\" style=\"height: 100px; margin-right: 25px;\">\n",
    "  <div style=\"border-left: 2px solid white; height: 100px; margin-right: 25px;\"></div>\n",
    "  <img src=\"display/media/logo.png\" alt=\"Image 2\" style=\"height: 200px; margin-right: 25px;\">\n",
    "  <div style=\"border-left: 2px solid white; height: 100px; margin-right: 25px;\"></div>\n",
    "  <img src=\"display/media/UPF_logo.png\" alt=\"Image 3\" style=\"height: 150px;\">\n",
    "</div>\n",
    "<hr style=\"border: 1px solid grey;\">"
   ]
  },
  {
   "cell_type": "markdown",
   "id": "078393db",
   "metadata": {},
   "source": [
    "# Índex\n",
    "\n",
    "<!DOCTYPE html>\n",
    "<html lang=\"en\">\n",
    "<head>\n",
    "    <meta charset=\"UTF-8\">\n",
    "    <meta name=\"viewport\" content=\"width=device-width, initial-scale=1.0\">\n",
    "    <title>Índex</title>\n",
    "    <style>\n",
    "        h1 {\n",
    "            color:\"white\" ;\n",
    "        }\n",
    "        ul {\n",
    "            list-style-type: none;\n",
    "            padding-left: 0;\n",
    "        }\n",
    "        li {\n",
    "            padding: 3px 0;\n",
    "        }\n",
    "        li a {\n",
    "            text-decoration: none;\n",
    "            color: white;\n",
    "            font-size: 14px;\n",
    "            font-weight: bold;\n",
    "            transition: color 0.3s;\n",
    "        }\n",
    "        li a:hover {\n",
    "            color: grey;\n",
    "        }\n",
    "        .sub-index {\n",
    "            margin-left: 20px;\n",
    "            margin-top: 2px;\n",
    "            font-size: 10px;\n",
    "        }\n",
    "        .sub-index a {\n",
    "            color: lightgrey;\n",
    "        }\n",
    "    </style>\n",
    "</head>\n",
    "<ul>\n",
    "    <li><a href=\"#s1\">1. Introducció</a>\n",
    "        <ul class=\"sub-index\">\n",
    "            <li><a href=\"#s11\">1.1 Introducció al challenge</a></li>\n",
    "            <li><a href=\"#s12\">1.2 Presentació del grup</a></li>\n",
    "            <li><a href=\"#s13\">1.3 Presentació de la idea</a></li>\n",
    "        </ul>\n",
    "    </li>\n",
    "    <li><a href=\"#s2\">2. Tractament de dades</a>\n",
    "        <ul class=\"sub-index\">\n",
    "            <li><a href=\"#s21\">2.1 Explicació de les necessitats de dades que té el projecte</a></li>\n",
    "            <li><a href=\"#s22\">2.2 Obtenció de les dades meteorològiques i de precipitacions</a></li>\n",
    "            <li><a href=\"#s23\">2.3 Obtenció de les dades de turisme</a></li>\n",
    "            <li><a href=\"#s24\">2.4 Estudi estàtic</a></li>\n",
    "        </ul>\n",
    "    </li>\n",
    "    <li><a href=\"#s3\">3. Creació de l'algorisme de predicció</a>\n",
    "        <ul class=\"sub-index\">\n",
    "            <li><a href=\"#s31\">3.1 Investigació prèvia</a></li>\n",
    "            <li><a href=\"#s32\">3.2 Descripció de inputs i outputs</a></li>\n",
    "            <li><a href=\"#s33\">3.3 Explicació del algoritme</a></li>\n",
    "        </ul>\n",
    "    </li>\n",
    "    <li><a href=\"#s4\">4. Validació de l'algorisme de predicció</a>\n",
    "        <ul class=\"sub-index\">\n",
    "            <li><a href=\"#s41\">4.1 Estudi de performance</a></li>\n",
    "            <li><a href=\"#s42\">4.2 Exemple del output</a></li>\n",
    "        </ul>\n",
    "    </li>\n",
    "    <li><a href=\"#s5\">5. Simulació</a>\n",
    "        <ul class=\"sub-index\">\n",
    "            <li><a href=\"#s51\">5.1 Explicació de l'objectiu de la simulació</a></li>\n",
    "            <li><a href=\"#s52\">5.2 Instruccions per córrer la simulació</a></li>\n",
    "            <li><a href=\"#s53\">5.3 Descripció de les pàgines de la simulació</a></li>\n",
    "            <li><a href=\"#s54\">5.4 Explicació de com fer ús de la simulació</a></li>\n",
    "        </ul>\n",
    "    </li>\n",
    "    <li><a href=\"#s6\">6. Recomanacions accionables</a>\n",
    "        <ul class=\"sub-index\">\n",
    "            <li><a href=\"#s61\">6.1 Recomanacions 8-12</a></li>\n",
    "        </ul>\n",
    "    </li>\n",
    "    <li><a href=\"#s7\">7. Escalabilitat</a></li>\n",
    "    <li><a href=\"#s8\">8. Conclusions</a>\n",
    "        <ul class=\"sub-index\">\n",
    "            <li><a href=\"#s81\">8.1 Efecte del turisme a Barcelona</a></li>\n",
    "            <li><a href=\"#s82\">8.2 Tancament del projecte</a></li>\n",
    "        </ul>\n",
    "    </li>\n",
    "</ul>\n"
   ]
  },
  {
   "cell_type": "markdown",
   "id": "4ce31ccf-62a0-4afb-a331-f21297dc8005",
   "metadata": {
    "tags": []
   },
   "source": [
    "<a id=\"s1\"></a>\n",
    "## 1. Introducció"
   ]
  },
  {
   "cell_type": "markdown",
   "id": "9eae5d60-f264-4b14-b849-d4bc997a580d",
   "metadata": {
    "tags": []
   },
   "source": [
    "<a id=\"s11\"></a>\n",
    "### 1.1 Introducció al challenge"
   ]
  },
  {
   "cell_type": "markdown",
   "id": "61619137-be95-4f25-8004-ab81cdf697ce",
   "metadata": {},
   "source": [
    "El **AB Data Challenge** és una iniciativa d’Aigües de Barcelona (AGBAR) que, amb el suport d’universitats, centres de recerca i l’ecosistema d’innovació de Catalunya, busca fomentar la creativitat i la innovació mitjançant l'ús de les dades recopilades del servei de telelectura dels comptadors d’aigua. Aquesta iniciativa té com a objectiu generar solucions que millorin la gestió de l’aigua i promoguin la sostenibilitat, amb especial èmfasi en la reducció de l’impacte ambiental derivat del consum d’aigua.\n",
    "\n",
    "En aquest context, el nostre grup ha decidit abordar el repte relacionat amb la **Sostenibilitat Hídrica Territorial**, amb un focus particular en el **turisme**, un dels factors que exerceix una gran pressió sobre els recursos hídrics de Barcelona. La creixent demanda d’aigua, influenciada per l’augment de turistes que visiten la ciutat, presenta un desafiament significatiu per a la gestió dels recursos hídrics urbans. A més, aquest fenomen s’accentua pels efectes del canvi climàtic, com les altes temperatures i les sequera, que augmenten la necessitat de garantir la sostenibilitat del sistema hídrico. \n",
    "\n",
    "Hem escollit aquest repte perquè creiem que les dades de telelectura dels comptadors d’aigua proporcionades per AGBAR, combinades amb dades externes com les de turisme, mobilitat i meteorologia, poden oferir una oportunitat única per desenvolupar models predictius que millorin la gestió de l’aigua i afavoreixin l’eficiència en el seu consum. En un context com el de Barcelona, on el turisme és una de les principals fonts de consum d’aigua, és fonamental poder integrar aquestes dades per reduir la pressió sobre els recursos hídrics i fomentar pràctiques més sostenibles en la gestió de l’aigua."
   ]
  },
  {
   "cell_type": "markdown",
   "id": "0303a0a1-7bb1-4991-a9be-995ffb9c42d5",
   "metadata": {},
   "source": [
    "<a id=\"s12\"></a>\n",
    "### 1.2 Presentació del grup"
   ]
  },
  {
   "cell_type": "markdown",
   "id": "a5d5c52b-f8f6-4907-bc62-ba5f0e5abdbe",
   "metadata": {},
   "source": [
    "Som un grup d'estudiants de l'assignatura de Gestió de Projectes, amb membres provinents de dues disciplines: **Enginyeria Matemàtica en Ciències de Dades** i **Enginyeria Informàtica**. Aquesta diversitat de formacions ens permet abordar el repte des de diferents perspectives, combinant coneixements teòrics i pràctics en l'àmbit de la gestió de dades, l'anàlisi estadística i la implementació de solucions tecnològiques. Ens enorgullim d'haver treballat tots en tots els àmbits del projecte, però per facilitar l'organització del projecte hem distribuit carrecs entre nosaltrs.\n",
    "\n",
    "Els membres del grup i els seus càrrecs són els següents:\n",
    "\n",
    "<div style=\"display: flex; justify-content: center; flex-wrap: wrap; text-align: center;\">\n",
    "    <!-- Top row (3 members) -->\n",
    "    <div style=\"width: 25%; margin: 10px; background-color: #565656; padding: 15px; border-radius: 10px;\">\n",
    "        <img src=\"https://media.licdn.com/dms/image/v2/D4D03AQEe9r69YxPhVg/profile-displayphoto-shrink_800_800/profile-displayphoto-shrink_800_800/0/1702547713065?e=1736380800&v=beta&t=NsDZiX6TL7l1a-ms_8RF1yxUSNJoBREEUPpqSMuU27M\" alt=\"Bruno Manzano Clotet\" width=\"100\">\n",
    "        <br><strong>Bruno Manzano Clotet</strong>\n",
    "        <br><a href=\"https://www.linkedin.com/in/brunomanzano/\"><img src=\"https://cdn-icons-png.flaticon.com/512/174/174857.png\" alt=\"LinkedIn\" width=\"16\"> LinkedIn</a>\n",
    "        <br><strong>Role:</strong> Audiovisual Responsible (AV)\n",
    "        <br><strong>Responsibilities:</strong> Crear contingut visual i presentacions per comunicar els resultats de manera efectiva.\n",
    "        <br><a href=\"mailto:bruno.manzano01@estudiant.upf.edu\"><img src=\"https://cdn-icons-png.flaticon.com/512/732/732200.png\" alt=\"Email\" width=\"16\"> Email</a>\n",
    "    </div>\n",
    "    <div style=\"width: 25%; margin: 10px; background-color: #565656; padding: 15px; border-radius: 10px;\">\n",
    "        <img src=\"https://media.licdn.com/dms/image/v2/D5603AQGU6dT73FZacA/profile-displayphoto-shrink_800_800/profile-displayphoto-shrink_800_800/0/1731424586525?e=1737590400&v=beta&t=4EeR5sVIFy6eYY97_pg9eDR1Acft7oEyg9rUSRI-TBU\" alt=\"Iván Hernández Gómez\" width=\"100\">\n",
    "        <br><strong>Iván Hernández Gómez</strong>\n",
    "        <br><a href=\"https://www.linkedin.com/in/iv97n\"><img src=\"https://cdn-icons-png.flaticon.com/512/174/174857.png\" alt=\"LinkedIn\" width=\"16\"> LinkedIn</a>\n",
    "        <br><strong>Role:</strong> Technical Responsible (TR)\n",
    "        <br><strong>Responsibilities:</strong> Responsable de l’anàlisi tècnica de les dades i el desenvolupament de models predictius.\n",
    "        <br><a href=\"mailto:ivan.hernandez04@estudiant.upf.edu\"><img src=\"https://cdn-icons-png.flaticon.com/512/732/732200.png\" alt=\"Email\" width=\"16\"> Email</a>\n",
    "    </div>\n",
    "    <div style=\"width: 25%; margin: 10px; background-color: #565656; padding: 15px; border-radius: 10px;\">\n",
    "        <img src=\"https://media.licdn.com/dms/image/v2/D4E03AQEbY575oX9IAA/profile-displayphoto-shrink_800_800/profile-displayphoto-shrink_800_800/0/1682176916179?e=1736380800&v=beta&t=accroyrSl_GcfJkH98aTJkGfIAKmYNX7qcbPgjN137U\" alt=\"Martí Oms Graells\" width=\"100\">\n",
    "        <br><strong>Martí Oms Graells</strong>\n",
    "        <br><a href=\"https://www.linkedin.com/in/martí-oms-graells\"><img src=\"https://cdn-icons-png.flaticon.com/512/174/174857.png\" alt=\"LinkedIn\" width=\"16\"> LinkedIn</a>\n",
    "        <br><strong>Role:</strong> Creative Responsible (CR)\n",
    "        <br><strong>Responsibilities:</strong> Desenvolupar estratègies creatives per a la presentació de dades i resultats.\n",
    "        <br><a href=\"mailto:marti.oms01@estudiant.upf.edu\"><img src=\"https://cdn-icons-png.flaticon.com/512/732/732200.png\" alt=\"Email\" width=\"16\"> Email</a>\n",
    "    </div>\n",
    "    <!-- Bottom row (2 members) -->\n",
    "    <div style=\"width: 30%; margin: 10px; background-color: #565656; padding: 15px; border-radius: 10px;\">\n",
    "        <img src=\"https://media.licdn.com/dms/image/v2/D4D03AQEssjLTI5fjlQ/profile-displayphoto-shrink_800_800/profile-displayphoto-shrink_800_800/0/1711454757196?e=1736380800&v=beta&t=XOADI__DBoNrkuHGorOjFv7-xoMKOKaKo78s97HZC-w\" alt=\"Paula Mateos\" width=\"100\">\n",
    "        <br><strong>Paula Mateos</strong>\n",
    "        <br><a href=\"https://www.linkedin.com/in/paula-mateos-marin-954a90300/\"><img src=\"https://cdn-icons-png.flaticon.com/512/174/174857.png\" alt=\"LinkedIn\" width=\"16\"> LinkedIn</a>\n",
    "        <br><strong>Role:</strong> Project Manager (PM)\n",
    "        <br><strong>Responsibilities:</strong> Responsable de la gestió del projecte, assegurant-se que es compleixin els terminis i els lliurables.\n",
    "        <br><a href=\"mailto:paula.mateos01@estudiant.upf.edu\"><img src=\"https://cdn-icons-png.flaticon.com/512/732/732200.png\" alt=\"Email\" width=\"16\"> Email</a>\n",
    "    </div>\n",
    "    <div style=\"width: 30%; margin: 10px; background-color: #565656; padding: 15px; border-radius: 10px;\">\n",
    "        <img src=\"https://media.licdn.com/dms/image/v2/D4E03AQHJMsWc_cbqUQ/profile-displayphoto-shrink_800_800/profile-displayphoto-shrink_800_800/0/1673880445852?e=1736380800&v=beta&t=LWpE_eugEjTgNLJFYmlhP2MgAyxd-xcxiTORK1sDCxw\" alt=\"Yuyan Wang\" width=\"100\">\n",
    "        <br><strong>Yuyan Wang</strong>\n",
    "        <br><a href=\"https://www.linkedin.com/in/yuyanwang03/\"><img src=\"https://cdn-icons-png.flaticon.com/512/174/174857.png\" alt=\"LinkedIn\" width=\"16\"> LinkedIn</a>\n",
    "        <br><strong>Role:</strong> Implementation Responsible (IR)\n",
    "        <br><strong>Responsibilities:</strong> Garantir que els models siguin implementables en un entorn real.\n",
    "        <br><a href=\"mailto:yuyan.wang01@estudiant.upf.edu\"><img src=\"https://cdn-icons-png.flaticon.com/512/732/732200.png\" alt=\"Email\" width=\"16\"> Email</a>\n",
    "    </div>\n",
    "</div>\n"
   ]
  },
  {
   "cell_type": "markdown",
   "id": "a6471c42-dc48-4892-b6d1-7e56aedaf911",
   "metadata": {},
   "source": [
    "<a id=\"s13\"></a>\n",
    "### 1.3 Presentació de la idea"
   ]
  },
  {
   "cell_type": "markdown",
   "id": "7ee3d0bb",
   "metadata": {},
   "source": [
    "<div style=\"font-family: 'Times New Roman', serif; font-size: 17px;\">\n",
    "Barcelona és una ciutat que rep un nombre significatiu de turistes cada any, amb prop de 26 milions de visitants l'any 2023. Aquest flux de turistes exerceix una pressió considerable sobre els recursos locals, incloent el consum d’aigua. Les zones més turístiques, com el centre de la ciutat, la platja i altres punts d’interès, presenten un augment del consum d’aigua durant les temporades més altes. Això fa que la gestió d’aquest recurs sigui encara més complexa, ja que cal tenir en compte no només les necessitats de la població local, sinó també la variabilitat del consum degut al nombre de turistes presents en cada moment de l’any.\n",
    "</div>"
   ]
  },
  {
   "cell_type": "markdown",
   "id": "4e51e4cf-2bb4-4901-9319-b69667c493d1",
   "metadata": {},
   "source": [
    "Barcelona és una ciutat que rep un nombre significatiu de turistes cada any, amb prop de 26 milions de visitants l'any 2023. Aquest flux de turistes exerceix una pressió considerable sobre els recursos locals, incloent el consum d’aigua. Les zones més turístiques, com el centre de la ciutat, la platja i altres punts d’interès, presenten un augment del consum d’aigua durant les temporades més altes. Això fa que la gestió d’aquest recurs sigui encara més complexa, ja que cal tenir en compte no només les necessitats de la població local, sinó també la variabilitat del consum degut al nombre de turistes presents en cada moment de l’any.\n",
    "\n",
    "El consum d’aigua turístic és, per tant, una part essencial del consum global d’aigua a Barcelona. Així doncs, comprendre millor com els fluxos turístics influencien el consum d’aigua a la ciutat és un element clau per gestionar els recursos hídrics i garantir la sostenibilitat a llarg termini. En aquest context, el nostre projecte busca abordar aquest repte, proposant una solució que integri dades de turisme amb les de consum d’aigua per crear un model predictiu que pugui anticipar el consum específicament associat als turistes.\n",
    "\n",
    "La nostra proposta es basa en la creació d'un model predictiu que utilitza les dades de telelectura dels comptadors d’aigua, combinades amb altres fonts de dades com les de turisme, climatologia i mobilitat urbana, per estimar el consum d’aigua de manera més precisa i dinàmica. L’objectiu és simular els patrons de consum de les zones turístiques de Barcelona, amb una especial atenció a la variabilitat temporal, com la temporada alta de turisme, les condicions meteorològiques i altres factors que poden influir directament en el consum d’aigua. Aquest model permetrà identificar en temps real l’impacte del turisme sobre els recursos hídrics i proporcionar una visió més clara de com gestionar el consum de manera eficient.\n",
    "\n",
    "El caràcter innovador del nostre enfocament rau en la capacitat de crear una simulació interactiva que permet als usuaris inserir el nombre de turistes, ja sigui mensual o diari, i rebre una predicció de consum d’aigua per secció censal. Aquesta funcionalitat ofereix una interfície visual i intuïtiva que no només facilita la comprensió de l'impacte turístic sobre el consum d’aigua, sinó que també permet una resposta en temps real per ajudar a la gestió més eficient dels recursos hídrics. A través d’aquest enfocament, AGBAR podrà anticipar els canvis en la demanda d’aigua i adaptar-se als diferents escenaris segons els fluxos turístics.\n",
    "\n",
    "Aquesta aproximació és única en el sentit que, més enllà de les tècniques tradicionals de modelatge de consum, inclou variables externes que afecten directament el comportament dels consumidors d’aigua, com el turisme. Aquesta innovació té un gran impacte potencial en la sostenibilitat dels recursos hídrics de Barcelona, permetent no només millorar la previsió i l'ús dels recursos disponibles, sinó també reduir la pressió sobre el sistema hídrico, especialment en aquells moments de l’any en què el turisme augmenta de manera significativa.\n",
    "\n",
    "Els resultats esperats d’aquesta simulació són múltiples. En primer lloc, esperem aconseguir una predicció fiable del consum d’aigua per zones turístiques en funció de variables externes. Això amb l'objectiu d'ajudar a AGBAR a prendre decisions informades en temps real, optimitzant la distribució d’aigua i millorant la seva eficiència. A més, la possibilitat d’anticipar el consum d’aigua en funció dels fluxos turístics contribuirà a una gestió més sostenible dels recursos hídrics, disminuint l’impacte ambiental en les zones més afectades pel turisme. La capacitat d'adaptar-se als canvis d’aquests factors farà que el model sigui una eina flexible per afrontar la realitat canviant de Barcelona i altres ciutats amb dinàmiques similars.\n",
    "\n",
    "Aquesta solució no només és innovadora, sinó que també representa una oportunitat real d’adaptar-se als reptes globals actuals, com el canvi climàtic i la sostenibilitat, i de generar un impacte positiu en la gestió de l’aigua a Barcelona. Creiem fermament que la nostra proposta no només s’ajusta als objectius del challenge, sinó que també aporta una contribució significativa a l’estratègia de sostenibilitat hídrica a llarg termini d’AGBAR. "
   ]
  },
  {
   "cell_type": "markdown",
   "id": "92a96092-6067-4c01-a141-5a603c2f1bc8",
   "metadata": {
    "tags": []
   },
   "source": [
    "<a id=\"s2\"></a>\n",
    "## 2. Tractament de dades"
   ]
  },
  {
   "cell_type": "markdown",
   "id": "9d66d4db-2b57-4600-8ad7-b27f03e25baa",
   "metadata": {},
   "source": [
    "<a id=\"s21\"></a>\n",
    "\n",
    "### 2.1 Dades requerides"
   ]
  },
  {
   "cell_type": "markdown",
   "id": "f4505793-39eb-4556-b0d5-185254c4e02d",
   "metadata": {},
   "source": [
    "El projecte parteix del dataset **daily_dataset.csv** proporcionat per AGBAR, que inclou dades detallades sobre el consum d’aigua a nivell diari i per secció censal. Aquest dataset constitueix la base principal del nostre model i conté els camps següents:  \n",
    "- **Secció censal, districte i municipi**: per identificar zones geogràfiques concretes de consum.  \n",
    "- **Data**: per analitzar la distribució temporal del consum d’aigua.  \n",
    "- **Ús**: que especifica si l’aigua és utilitzada per a fins domèstics, industrials, comercials, o altres.  \n",
    "- **Nombre de comptadors**: que indica quants dispositius registren el consum a cada secció.  \n",
    "- **Consum acumulat (L/dia)**: volum d’aigua consumit diàriament en litres.  \n",
    "\n",
    "Aquestes dades són indispensables per entendre la variabilitat del consum en funció de la geografia i del tipus d’ús. Tanmateix, per desenvolupar un model que integri els efectes del turisme i d’altres factors externs, necessitem ampliar aquesta informació amb noves fonts de dades:  \n",
    "\n",
    "1. **Dades meteorològiques**:  \n",
    "   - **Temperatura màxima i mínima diària**: el clima influeix directament en el consum d’aigua. Per exemple, en dies de calor intensa, el consum augmenta, especialment a zones turístiques amb activitats a l’aire lliure.  \n",
    "   - **Precipitacions acumulades**: els dies de pluja redueixen el consum d’aigua en activitats a l’exterior, com el reg o les dutxes a platges i piscines.  \n",
    "\n",
    "   Aquestes dades són crucials per ajustar el model als patrons estacionals i climàtics, que tenen un gran impacte en el consum d’aigua.  \n",
    "\n",
    "2. **Dades de turisme**:  \n",
    "   - **Pernoctacions diàries**: necessitem saber quants turistes s’allotgen a la ciutat cada dia. Aquesta informació reflecteix l'impacte del turisme en zones concretes i ajuda a identificar com els fluxos de visitants contribueixen al consum d’aigua en serveis com hotels, restaurants i activitats recreatives.  \n",
    "\n",
    "   El turisme és un dels factors principals que volem analitzar. Per això, aquestes dades són essencials per segmentar el consum d’aigua atribuïble als visitants, diferenciant-lo del consum residencial o d'altres usos.  \n",
    "\n",
    "La integració d’aquestes dades ens permetrà desenvolupar un model predictiu que connecti el consum d’aigua amb variables climàtiques i turístiques, oferint prediccions més precises i útils per a la gestió sostenible dels recursos hídrics. Així, podrem respondre preguntes clau, com l’impacte específic del turisme en zones determinades o l’efecte de condicions meteorològiques extremes en el consum global.  "
   ]
  },
  {
   "cell_type": "markdown",
   "id": "d700c3b8-d288-4b3e-8307-d17ce4975740",
   "metadata": {
    "tags": []
   },
   "source": [
    "<a id=\"s22\"></a>\n",
    "### 2.2 Preprocessing"
   ]
  },
  {
   "cell_type": "markdown",
   "id": "fd79b4f0-33cb-459e-8377-71242240442c",
   "metadata": {},
   "source": [
    "Per preparar el conjunt de dades per a l’anàlisi, carreguem i netegem les dades diàries de consum d’aigua. Aquest procés inclou renombrar les columnes per millorar la claredat, estandarditzar categories (per exemple, tipus d’ús d’aigua) i filtrar els registres vàlids específics de Barcelona. A més, convertim les dates a un format utilitzable i eliminem anomalies, com ara valors negatius de consum. Tot això assegura que les dades siguin consistents i estiguin llestes per integrar variables addicionals, com les meteorològiques i de turisme, per construir el model predictiu."
   ]
  },
  {
   "cell_type": "code",
   "execution_count": null,
   "id": "a10e1b6b-3b30-4bd7-8669-2b5546cda688",
   "metadata": {},
   "outputs": [],
   "source": [
    "import pandas as pd\n",
    "from collections import Counter\n",
    "import seaborn as sns\n",
    "import os\n",
    "import numpy as np\n",
    "from matplotlib import pyplot\n",
    "import matplotlib.pyplot as plt\n",
    "\n",
    "import warnings\n",
    "warnings.filterwarnings(\"ignore\")\n",
    "\n",
    "daily_aigues = pd.read_csv(\"../data/local_data/daily_dataset.csv\", encoding='latin1')\n",
    "\n",
    "# Rename columns for clarity\n",
    "daily_aigues = daily_aigues.rename(columns={\n",
    "    daily_aigues.columns[0]: 'Census Section',\n",
    "    daily_aigues.columns[1]: 'District',\n",
    "    daily_aigues.columns[2]: 'Municipality',\n",
    "    daily_aigues.columns[3]: 'Date',\n",
    "    daily_aigues.columns[4]: 'Use',\n",
    "    daily_aigues.columns[5]: 'Number of Meters',\n",
    "    daily_aigues.columns[6]: 'Accumulated Consumption'\n",
    "})\n",
    "\n",
    "# Convert Date column to datetime\n",
    "daily_aigues['Date'] = pd.to_datetime(daily_aigues['Date'])\n",
    "\n",
    "# Replace values in the 'Use' column\n",
    "daily_aigues['Use'] = daily_aigues['Use'].replace({\n",
    "    'Comercial/Comercial/Commercial': 'Commercial',\n",
    "    'DomÃ¨stic/DomÃ©stico/Domestic': 'Domestic',\n",
    "    'Industrial/Industrial/Industrial': 'Industrial'\n",
    "})\n",
    "\n",
    "# Filter data for Barcelona\n",
    "daily_aigues_bcn = daily_aigues[daily_aigues['Municipality'] == 'BARCELONA'].drop(columns=[\"Municipality\"])\n",
    "\n",
    "# Drop rows with invalid Census Section or District values\n",
    "daily_aigues_bcn = daily_aigues_bcn[daily_aigues_bcn['Census Section'] != '<NULL>']\n",
    "daily_aigues_bcn = daily_aigues_bcn[daily_aigues_bcn['District'] != '>']\n",
    "\n",
    "# Remove rows with Accumulated Consumption values below 0\n",
    "daily_aigues_bcn = daily_aigues_bcn[daily_aigues_bcn['Accumulated Consumption'] > 0]"
   ]
  },
  {
   "cell_type": "markdown",
   "id": "be71c05b-6cfe-4128-af2a-ca84201fdc39",
   "metadata": {},
   "source": [
    "<a id=\"s23\"></a>\n",
    "### 2.3 Obtenció de les dades meteorològiques i de precipitacions"
   ]
  },
  {
   "cell_type": "markdown",
   "id": "a1b5884a-9a97-49dd-816c-2c5554b52a48",
   "metadata": {},
   "source": [
    "Per millorar l'anàlisi, integrem dades meteorològiques, com les temperatures màximes i mínimes diàries i els nivells de precipitació. Aquestes dades han estat extretes de AEMET, i s'agrupen per data per calcular els valors mitjans, assegurant la compatibilitat amb la granularitat diària del conjunt de dades de consum d’aigua. A continuació, fusionem aquesta informació amb les dades netejades de consum d’aigua utilitzant la data com a clau. Aquest pas permet enllaçar els patrons meteorològics amb l’ús d’aigua, facilitant l’estudi de la seva influència en les tendències de consum."
   ]
  },
  {
   "cell_type": "code",
   "execution_count": null,
   "id": "904a8e00-c141-4554-aaf8-5819b7f62541",
   "metadata": {},
   "outputs": [],
   "source": [
    "clima_df = pd.read_csv('../data/temperature_precipitation.csv')\n",
    "\n",
    "# Convert 'fecha' column to datetime and group by date\n",
    "clima_df['fecha'] = pd.to_datetime(clima_df['fecha'])\n",
    "clima_df = clima_df.groupby('fecha').agg({\n",
    "    'temp_max': 'mean',\n",
    "    'temp_min': 'mean',\n",
    "    'precipitacion': 'mean'\n",
    "}).round(2).reset_index()\n",
    "\n",
    "# Merge meteorological data with water consumption data\n",
    "merged_data = daily_aigues_bcn.merge(clima_df, left_on='Date', right_on='fecha', how='left').drop(columns=['fecha'])\n",
    "\n",
    "# Debug: Check the merged data\n",
    "print(\"Merged data after adding meteorological data:\")\n",
    "print(merged_data.head())"
   ]
  },
  {
   "cell_type": "markdown",
   "id": "69c29874-d669-4bec-b0d2-d42cf6c99084",
   "metadata": {},
   "source": [
    "<a id=\"s24\"></a>\n",
    "### 2.4 Obtenció de les dades de turisme"
   ]
  },
  {
   "cell_type": "markdown",
   "id": "376c6b4d-81ed-4285-93f3-fe6d84d013dc",
   "metadata": {},
   "source": [
    "En aquest pas, integrem les dades de transaccions turístiques i pernoctacions al conjunt de dades de consum d’aigua per analitzar l’impacte del turisme en l’ús d’aigua. El procés consisteix en:  \n",
    "\n",
    "1. **Carregar i netejar les dades**:  \n",
    "   - Importem els conjunts de dades relacionats amb les transaccions turístiques (`dataset_targetes.csv`), les transaccions totals (`total_transactions.csv`) i les pernoctacions (`pernoctacions_2019_2024.csv`).  \n",
    "   - Filtrarem les dades per als anys 2021–2023 i formatem les dates de manera consistent.  \n",
    "   - Calculem una nova columna (`total_tourist_transactions`) que escala les transaccions de turistes estrangers segons el volum total de transaccions.  \n",
    "2. **Agrupar dades mensuals**:  \n",
    "   - Agrupem les transaccions turístiques per mesos per calcular el total de transaccions mensuals.  \n",
    "   - Distribuïm els totals mensuals entre els dies individuals mitjançant percentatges diaris de transaccions, assegurant una assignació proporcional de les pernoctacions mensuals (`pernoctacions`) a cada dia.  \n",
    "3. **Combinar i unificar dades**:  \n",
    "   - Fusionem les dades de consum d’aigua amb les dades turístiques diàries (`resultado_df`) per integrar l’efecte del turisme a l’anàlisi.  \n",
    "   - Realitzem agregacions per secció censal, data i altres factors clau per simplificar el conjunt de dades, mantenint mètriques rellevants com el consum total d’aigua i les pernoctacions turístiques.  \n",
    "\n",
    "El resultat és un conjunt de dades unificat que vincula el consum d’aigua amb variables meteorològiques i turístiques, permetent una anàlisi exhaustiva de com aquests factors afecten les tendències diàries de consum d’aigua."
   ]
  },
  {
   "cell_type": "code",
   "execution_count": null,
   "id": "27c5f464-8034-42c8-96ef-0f1d78601400",
   "metadata": {},
   "outputs": [],
   "source": [
    "# Load and prepare the data\n",
    "import pandas as pd\n",
    "\n",
    "targetes = pd.read_csv('../data/dataset_targetes.csv')\n",
    "\n",
    "targetes = targetes.drop('Espanyola', axis=1)\n",
    "\n",
    "# Convert the column to datetime format\n",
    "targetes['Data'] = pd.to_datetime(targetes['Data'])\n",
    "\n",
    "# Format the date as yyyy-mm-dd\n",
    "targetes['Data'] = targetes['Data'].dt.strftime('%Y-%m-%d')\n",
    "\n",
    "# Filter the DataFrame to include only dates from 2021 to 2023\n",
    "targetes = targetes[(targetes['Data'] >= '2021-01-01') & (targetes['Data'] <= '2023-12-31')]\n",
    "\n",
    "transactions = pd.read_csv('../data/total_transactions.csv')\n",
    "\n",
    "# Convert the column to datetime format\n",
    "transactions['Data'] = pd.to_datetime(transactions['Data'])\n",
    "\n",
    "# Format the date as yyyy-mm-dd\n",
    "transactions['Data'] = transactions['Data'].dt.strftime('%Y-%m-%d')\n",
    "\n",
    "# Filter the DataFrame to include only dates from 2021 to 2023\n",
    "transactions = transactions[(transactions['Data'] >= '2021-01-01') & (transactions['Data'] <= '2023-12-31')]\n",
    "\n",
    "# Set the date column as the index for both DataFrames to align dates easily\n",
    "transactions.set_index('Data', inplace=True)\n",
    "targetes.set_index('Data', inplace=True)\n",
    "\n",
    "# Create the total_tourist_transactions column by multiplying Series 1 in transactions by Estrangera in targetes\n",
    "targetes['total_tourist_transactions'] = (targetes['Estrangera'] * transactions['Series 1'])/100\n",
    "targetes.reset_index(inplace=True)\n",
    "transactions = targetes.drop('Estrangera', axis=1)\n",
    "\n",
    "# Load the datasets\n",
    "pernoctacions = pd.read_csv('../data/pernoctacions_2019_2024.csv')\n",
    "\n",
    "# Convert date columns to datetime\n",
    "pernoctacions['Data'] = pd.to_datetime(pernoctacions['Data'], format='%m/%d/%Y')\n",
    "transactions['Data'] = pd.to_datetime(transactions['Data'], format='%Y-%m-%d')\n",
    "\n",
    "# Clean and convert the 'Pernoctacions' column to numeric\n",
    "pernoctacions['Pernoctacions'] = pd.to_numeric(pernoctacions['Pernoctacions'].str.replace('.', ''), errors='coerce')\n",
    "\n",
    "# Group transactions by month and calculate the total transactions per month\n",
    "monthly_transactions = transactions.groupby(transactions['Data'].dt.to_period('M'))['total_tourist_transactions'].sum().reset_index()\n",
    "monthly_transactions.columns = ['Month', 'Total Transactions']\n",
    "\n",
    "# Merge monthly totals with daily transactions to calculate daily percentages\n",
    "transactions = transactions.merge(monthly_transactions, left_on=transactions['Data'].dt.to_period('M'), right_on='Month', how='left')\n",
    "transactions['Percentage of Transactions'] = transactions['total_tourist_transactions'] / transactions['Total Transactions']\n",
    "\n",
    "# Remove unnecessary column\n",
    "transactions.drop(columns=['Month'], inplace=True)\n",
    "\n",
    "# Initialize the results list\n",
    "resultados = []\n",
    "\n",
    "# Loop through each row in pernoctacions to distribute monthly totals across days\n",
    "for _, row in pernoctacions.iterrows():\n",
    "    mes = row['Data'].month\n",
    "    anyo = row['Data'].year\n",
    "    pernoctaciones_mensuales = row['Pernoctacions']\n",
    "    \n",
    "    # Filter the transactions for the current month and year\n",
    "    transactions_mes = transactions[(transactions['Data'].dt.month == mes) & (transactions['Data'].dt.year == anyo)]\n",
    "    \n",
    "    # Ensure the daily percentages add up to 1\n",
    "    transactions_mes['Percentage of Transactions'] /= transactions_mes['Percentage of Transactions'].sum()\n",
    "    \n",
    "    # Distribute pernoctacions based on daily percentages\n",
    "    for _, transaction in transactions_mes.iterrows():\n",
    "        pernoctaciones_diarias = round(pernoctaciones_mensuales * transaction['Percentage of Transactions'])\n",
    "        resultados.append({\n",
    "            'Day': transaction['Data'],\n",
    "            'tipus allotjament': row['Tipologia d\\'allotjament'],\n",
    "            'pernoctacions': pernoctaciones_diarias\n",
    "        })\n",
    "\n",
    "# Create the final DataFrame\n",
    "resultado_df = pd.DataFrame(resultados)\n",
    "\n",
    "# Display a sample of the final DataFrame\n",
    "\n",
    "# Merge the water consumption data with the tourism data\n",
    "final_data = merged_data.merge(resultado_df, left_on='Date', right_on='Day', how='left').drop(columns=['Day'])\n",
    "\n",
    "# Grouping by all columns except 'tipus allotjament' and 'pernoctacions', and summing 'pernoctacions'\n",
    "final_data = (\n",
    "    final_data.groupby([\n",
    "        \"Census Section\", \"District\", \"Date\", \"Use\", \n",
    "        \"Number of Meters\", \"Accumulated Consumption\", \n",
    "        \"temp_max\", \"temp_min\", \"precipitacion\"\n",
    "    ], as_index=False)\n",
    "    .agg({\"pernoctacions\": \"sum\"})\n",
    ")\n",
    "\n",
    "# Grouping by the relevant columns and summing the required fields\n",
    "final_data = (\n",
    "    final_data.groupby([\n",
    "        \"Census Section\", \"District\", \"Date\", \"temp_max\", \"temp_min\", \"precipitacion\", \"pernoctacions\"\n",
    "    ], as_index=False)\n",
    "    .agg({\n",
    "        \"Number of Meters\": \"sum\",\n",
    "        \"Accumulated Consumption\": \"sum\"\n",
    "    })\n",
    ")\n",
    "\n",
    "# Drop the number of meters column\n",
    "final_data.drop(columns=[\"Number of Meters\"], inplace=True)\n",
    "\n",
    "final_data.head(10)"
   ]
  },
  {
   "cell_type": "markdown",
   "id": "311154f3-edec-43f0-8dda-27d8206b4c99",
   "metadata": {},
   "source": [
    "<a id=\"s25\"></a>\n",
    "### 2.5 Base de dades resultant"
   ]
  },
  {
   "cell_type": "code",
   "execution_count": null,
   "id": "de7eab37-0911-46eb-a221-24bb2f5807db",
   "metadata": {},
   "outputs": [],
   "source": []
  },
  {
   "cell_type": "code",
   "execution_count": null,
   "id": "2e1ac58c-7de2-4a18-afd9-1694480a1866",
   "metadata": {},
   "outputs": [],
   "source": [
    "#Step 4: Save the cleaned dataset\n",
    "os.makedirs('../data/local_data/', exist_ok=True)\n",
    "final_data.to_csv('../data/local_data/merged_cleaned_data_NEW_p.csv', index=False)"
   ]
  },
  {
   "cell_type": "markdown",
   "id": "6e9a0bec-1dbd-41de-9c43-2842252fb500",
   "metadata": {},
   "source": [
    "<a id=\"s26\"></a>\n",
    "### 2.6 Estudi estàtic"
   ]
  },
  {
   "cell_type": "code",
   "execution_count": null,
   "id": "047de9fe-5075-4e61-862d-b85f1f6d974f",
   "metadata": {},
   "outputs": [],
   "source": []
  },
  {
   "cell_type": "markdown",
   "id": "829b3dbb-bd64-44d2-8d02-3305807f3f5b",
   "metadata": {},
   "source": [
    "<a id=\"s3\"></a>\n",
    "## 3. Creació del algorisme de predicció"
   ]
  },
  {
   "cell_type": "code",
   "execution_count": null,
   "id": "b7eb2375-9d05-4164-a1fb-15c6e94f50de",
   "metadata": {},
   "outputs": [],
   "source": []
  },
  {
   "cell_type": "markdown",
   "id": "0809a25d-57a8-40b5-a1a8-bc2a62f7c2c5",
   "metadata": {},
   "source": [
    "<a id=\"s4\"></a>\n",
    "## 4. Validació del algorisme de predicció"
   ]
  },
  {
   "cell_type": "code",
   "execution_count": null,
   "id": "d3981450-a857-4eff-aae0-cb90f3ba1888",
   "metadata": {},
   "outputs": [],
   "source": []
  },
  {
   "cell_type": "markdown",
   "id": "b935e04e-c393-4042-92c3-0989a90067ed",
   "metadata": {},
   "source": [
    "<a id=\"s5\"></a>\n",
    "## 5. Simulació"
   ]
  },
  {
   "cell_type": "code",
   "execution_count": null,
   "id": "c4df4204-a7a0-4571-8ff0-840beac1796a",
   "metadata": {},
   "outputs": [],
   "source": []
  },
  {
   "cell_type": "markdown",
   "id": "29c15f3d-83a1-496e-bdff-ae3310ab0631",
   "metadata": {},
   "source": [
    "<a id=\"s6\"></a>\n",
    "## 6. Recomanacions accionables"
   ]
  },
  {
   "cell_type": "code",
   "execution_count": null,
   "id": "a81a3480-de10-4c4a-9fec-44adca476c65",
   "metadata": {},
   "outputs": [],
   "source": []
  },
  {
   "cell_type": "markdown",
   "id": "28ca8633",
   "metadata": {},
   "source": [
    "<a id=\"s7\"></a>\n",
    "## 7. Escalavilitat"
   ]
  },
  {
   "cell_type": "markdown",
   "id": "f0ea2cc6",
   "metadata": {},
   "source": [
    "Poder continuar utilitzant el project un cop acabat el challenge és un dels grans aspectes a integrar."
   ]
  },
  {
   "cell_type": "markdown",
   "id": "1029839f",
   "metadata": {},
   "source": [
    "<a id=\"s71\"></a>\n",
    "### Dades meteorològiques i precipitacions"
   ]
  },
  {
   "cell_type": "markdown",
   "id": "5728972f",
   "metadata": {},
   "source": [
    "L'API d'AEMET (Agencia Estatal de Meteorología) permet accedir a dades meteorològiques en temps real o històriques proporcionades per les seves estacions meteorològiques. Per accedir a aquestes dades, cal obtenir una **clau d'API** des del seu portal oficial. Aquesta clau s'inclou en les sol·licituds per autenticar-les.\n",
    "\n",
    "### Funcionament bàsic\n",
    "1. **Autenticació**: Cada sol·licitud a l'API ha d'incloure la clau generada.\n",
    "2. **Endponts**: L'API ofereix diferents punts d'accés per a dades com ara:\n",
    "   - Prediccions meteorològiques.\n",
    "   - Observacions històriques.\n",
    "   - Dades puntuals per estació meteorològica.\n",
    "3. **Resposta**: Les dades es tornen en format JSON, amb valors com ara temperatures, precipitacions, velocitat del vent, etc.\n",
    "\n",
    "### Mesures de temperatura i precipitació\n",
    "Les dades meteorològiques que utilitzem són:\n",
    "- **Temperatura mínima** (*tmin*): És la temperatura més baixa registrada durant un interval de temps (normalment, un dia).\n",
    "- **Temperatura màxima** (*tmax*): És la temperatura més alta registrada durant el mateix interval.\n",
    "- **Precipitacions acumulades** (*prec*): La quantitat total de pluja o neu fosa mesurada durant un període mesurada en mm.\n",
    "\n",
    "### Estacions\n",
    "Nosaltres hem decidit utilitzar les tres estacions de Barcelona i després fer la mitjana d'elles per un millor resultat. Si és volgués, es podria fer només amb una. Les estacions són les següents:\n",
    "- **Estació 0076 - Barcelona, Fabra**\n",
    "- **Estació 0201D - Barcelona, Port Olímpic**\n",
    "- **Estació 0201X - Barcelona Drassanes**\n",
    "\n",
    "\n",
    "Per continuar tenint la informació del temps actualitzada podeu fer servir el següent codi: [Extracció mensual de dades AEMET](altres\\extracció_AEMET.py)\n",
    "- Recordeu d'afegir la vostra **API key** proporcionada per **AEMET**.\n",
    "- El codi està fet per treure les dades meteorològiques de l'últim mes. Per canviar els dies seleccionats, modifiqueu la secció sota # Calcular les dates per l'últim mes\n",
    "- El codi està pensat per treure en format csv les dades necessàries de l'últim mes. Si es volgués, també es podria afegir les noves línies al csv global.\n",
    "\n",
    "\n",
    "\n",
    "\n",
    "Per a més informació visiteu: https://opendata.aemet.es/centrodedescargas/inicio"
   ]
  },
  {
   "cell_type": "markdown",
   "id": "787e15f7-4e09-4fa1-84a1-00db598483dd",
   "metadata": {},
   "source": [
    "<a id=\"s8\"></a>\n",
    "\n",
    "## 8. Conclusions"
   ]
  },
  {
   "cell_type": "code",
   "execution_count": null,
   "id": "78c84edd-c16c-41f5-9ab2-1de5ef86bd75",
   "metadata": {},
   "outputs": [],
   "source": []
  }
 ],
 "metadata": {
  "kernelspec": {
   "display_name": "Python 3 (ipykernel)",
   "language": "python",
   "name": "python3"
  },
  "language_info": {
   "codemirror_mode": {
    "name": "ipython",
    "version": 3
   },
   "file_extension": ".py",
   "mimetype": "text/x-python",
   "name": "python",
   "nbconvert_exporter": "python",
   "pygments_lexer": "ipython3",
   "version": "3.11.5"
  }
 },
 "nbformat": 4,
 "nbformat_minor": 5
}
