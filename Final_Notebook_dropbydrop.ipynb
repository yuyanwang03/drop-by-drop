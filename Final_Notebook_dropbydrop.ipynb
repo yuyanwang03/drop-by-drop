{
 "cells": [
  {
   "cell_type": "markdown",
   "id": "9b20db07-dde2-4747-b07a-9137d7d8f442",
   "metadata": {
    "tags": []
   },
   "source": [
    "# Anàlisi de la Petjada Hídrica dels Turistes a Barcelona"
   ]
  },
  {
   "cell_type": "markdown",
   "id": "4ce31ccf-62a0-4afb-a331-f21297dc8005",
   "metadata": {
    "tags": []
   },
   "source": [
    "## 1. Introducció"
   ]
  },
  {
   "cell_type": "markdown",
   "id": "9eae5d60-f264-4b14-b849-d4bc997a580d",
   "metadata": {
    "tags": []
   },
   "source": [
    "### 1.1 Introducció al challenge"
   ]
  },
  {
   "cell_type": "code",
   "execution_count": null,
   "id": "da824a39-6afc-4a3d-86c4-bdba65a8b515",
   "metadata": {},
   "outputs": [],
   "source": []
  },
  {
   "cell_type": "markdown",
   "id": "0303a0a1-7bb1-4991-a9be-995ffb9c42d5",
   "metadata": {},
   "source": [
    "### 1.2 Presentació del grup"
   ]
  },
  {
   "cell_type": "code",
   "execution_count": null,
   "id": "22a69e68-61b9-4e65-92b9-b62dac9522e2",
   "metadata": {},
   "outputs": [],
   "source": []
  },
  {
   "cell_type": "markdown",
   "id": "a6471c42-dc48-4892-b6d1-7e56aedaf911",
   "metadata": {},
   "source": [
    "### 1.3 Presentació de la idea"
   ]
  },
  {
   "cell_type": "code",
   "execution_count": null,
   "id": "e738f9b1-9785-41b5-8b6a-ec21f5b17e44",
   "metadata": {},
   "outputs": [],
   "source": []
  },
  {
   "cell_type": "markdown",
   "id": "92a96092-6067-4c01-a141-5a603c2f1bc8",
   "metadata": {},
   "source": [
    "## 2. Tractament de dades"
   ]
  },
  {
   "cell_type": "markdown",
   "id": "9d66d4db-2b57-4600-8ad7-b27f03e25baa",
   "metadata": {},
   "source": [
    "### 2.1 Dades requerides"
   ]
  },
  {
   "cell_type": "code",
   "execution_count": null,
   "id": "8aff522d-c3ad-4428-9c38-9f9c3d6692be",
   "metadata": {},
   "outputs": [],
   "source": []
  },
  {
   "cell_type": "markdown",
   "id": "829b3dbb-bd64-44d2-8d02-3305807f3f5b",
   "metadata": {},
   "source": [
    "## 3. Creació del algorisme de predicció"
   ]
  },
  {
   "cell_type": "code",
   "execution_count": null,
   "id": "b7eb2375-9d05-4164-a1fb-15c6e94f50de",
   "metadata": {},
   "outputs": [],
   "source": []
  },
  {
   "cell_type": "markdown",
   "id": "0809a25d-57a8-40b5-a1a8-bc2a62f7c2c5",
   "metadata": {},
   "source": [
    "## 4. Validació del algorisme de predicció"
   ]
  },
  {
   "cell_type": "code",
   "execution_count": null,
   "id": "d3981450-a857-4eff-aae0-cb90f3ba1888",
   "metadata": {},
   "outputs": [],
   "source": []
  },
  {
   "cell_type": "markdown",
   "id": "b935e04e-c393-4042-92c3-0989a90067ed",
   "metadata": {},
   "source": [
    "## 5. Simulació"
   ]
  },
  {
   "cell_type": "code",
   "execution_count": null,
   "id": "c4df4204-a7a0-4571-8ff0-840beac1796a",
   "metadata": {},
   "outputs": [],
   "source": []
  },
  {
   "cell_type": "markdown",
   "id": "29c15f3d-83a1-496e-bdff-ae3310ab0631",
   "metadata": {},
   "source": [
    "## 6. Recomanacions accionables"
   ]
  },
  {
   "cell_type": "code",
   "execution_count": null,
   "id": "a81a3480-de10-4c4a-9fec-44adca476c65",
   "metadata": {},
   "outputs": [],
   "source": []
  },
  {
   "cell_type": "markdown",
   "id": "787e15f7-4e09-4fa1-84a1-00db598483dd",
   "metadata": {},
   "source": [
    "## 7. Conclusions"
   ]
  },
  {
   "cell_type": "code",
   "execution_count": null,
   "id": "78c84edd-c16c-41f5-9ab2-1de5ef86bd75",
   "metadata": {},
   "outputs": [],
   "source": []
  }
 ],
 "metadata": {
  "kernelspec": {
   "display_name": "Python 3 (ipykernel)",
   "language": "python",
   "name": "python3"
  },
  "language_info": {
   "codemirror_mode": {
    "name": "ipython",
    "version": 3
   },
   "file_extension": ".py",
   "mimetype": "text/x-python",
   "name": "python",
   "nbconvert_exporter": "python",
   "pygments_lexer": "ipython3",
   "version": "3.11.5"
  }
 },
 "nbformat": 4,
 "nbformat_minor": 5
}
