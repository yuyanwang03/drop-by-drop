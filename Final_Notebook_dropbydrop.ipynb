{
 "cells": [
  {
   "cell_type": "markdown",
   "id": "9b20db07-dde2-4747-b07a-9137d7d8f442",
   "metadata": {
    "tags": []
   },
   "source": [
    "# Anàlisi de la Petjada Hídrica dels Turistes a Barcelona"
   ]
  },
  {
   "cell_type": "markdown",
   "id": "4ce31ccf-62a0-4afb-a331-f21297dc8005",
   "metadata": {
    "tags": []
   },
   "source": [
    "## 1. Introducció"
   ]
  },
  {
   "cell_type": "markdown",
   "id": "9eae5d60-f264-4b14-b849-d4bc997a580d",
   "metadata": {
    "tags": []
   },
   "source": [
    "### 1.1 Introducció al challenge"
   ]
  },
  {
   "cell_type": "markdown",
   "id": "61619137-be95-4f25-8004-ab81cdf697ce",
   "metadata": {},
   "source": [
    "El **AB Data Challenge** és una iniciativa d’Aigües de Barcelona (AGBAR) que, amb el suport d’universitats, centres de recerca i l’ecosistema d’innovació de Catalunya, busca fomentar la creativitat i la innovació mitjançant l'ús de les dades recopilades del servei de telelectura dels comptadors d’aigua. Aquesta iniciativa té com a objectiu generar solucions que millorin la gestió de l’aigua i promoguin la sostenibilitat, amb especial èmfasi en la reducció de l’impacte ambiental derivat del consum d’aigua.\n",
    "\n",
    "En aquest context, el nostre grup ha decidit abordar el repte relacionat amb la **Sostenibilitat Hídrica Territorial**, amb un focus particular en el **turisme**, un dels factors que exerceix una gran pressió sobre els recursos hídrics de Barcelona. La creixent demanda d’aigua, influenciada per l’augment de turistes que visiten la ciutat, presenta un desafiament significatiu per a la gestió dels recursos hídrics urbans. A més, aquest fenomen s’accentua pels efectes del canvi climàtic, com les altes temperatures i les sequera, que augmenten la necessitat de garantir la sostenibilitat del sistema hídrico. \n",
    "\n",
    "Hem escollit aquest repte perquè creiem que les dades de telelectura dels comptadors d’aigua proporcionades per AGBAR, combinades amb dades externes com les de turisme, mobilitat i meteorologia, poden oferir una oportunitat única per desenvolupar models predictius que millorin la gestió de l’aigua i afavoreixin l’eficiència en el seu consum. En un context com el de Barcelona, on el turisme és una de les principals fonts de consum d’aigua, és fonamental poder integrar aquestes dades per reduir la pressió sobre els recursos hídrics i fomentar pràctiques més sostenibles en la gestió de l’aigua."
   ]
  },
  {
   "cell_type": "markdown",
   "id": "0303a0a1-7bb1-4991-a9be-995ffb9c42d5",
   "metadata": {},
   "source": [
    "### 1.2 Presentació del grup"
   ]
  },
  {
   "cell_type": "markdown",
   "id": "a5d5c52b-f8f6-4907-bc62-ba5f0e5abdbe",
   "metadata": {},
   "source": [
    "Som un grup d'estudiants de l'assignatura de Gestió de Projectes, amb membres provinents de dues disciplines: **Enginyeria Matemàtica en Ciències de Dades** i **Enginyeria Informàtica**. Aquesta diversitat de formacions ens permet abordar el repte des de diferents perspectives, combinant coneixements teòrics i pràctics en l'àmbit de la gestió de dades, l'anàlisi estadística i la implementació de solucions tecnològiques. Ens enorgullim d'haver treballat tots en tots els àmbits del projecte, però per facilitar l'organització del projecte hem distribuit carrecs entre nosaltrs.\n",
    "\n",
    "Els membres del grup i els seus càrrecs són els següents:\n",
    "\n",
    "- **Paula Mateos**: Project Manager (PM) - Responsable de la gestió del projecte, assegurant-se que es compleixin els terminis i els lliurables. paula.mateos01@estudiant.upf.edu\n",
    "- **Bruno Manzano**: Audiovisual Responsible (AV) - Responsable de crear contingut visual i presentacions per comunicar els resultats de manera efectiva. bruno.manzano01@estudiant.upf.edu\n",
    "- **Martí Oms**: Creative Responsible (CR) - Responsable de desenvolupar estratègies creatives per a la presentació de dades i resultats. marti.oms01@estudiant.upf.edu\n",
    "- **Iván Hernández**: Technical Responsible (TR) - Responsable de l’anàlisi tècnica de les dades i el desenvolupament de models predictius. ivan.hernandez04@estudiant.upf.edu\n",
    "- **Yuyan Wang**: Implementation Responsible (IR) - Responsable de garantir que els models siguin implementables en un entorn real.          \n",
    "    yuyan.wang01@estudiant.upf.edu\n"
   ]
  },
  {
   "cell_type": "markdown",
   "id": "a6471c42-dc48-4892-b6d1-7e56aedaf911",
   "metadata": {},
   "source": [
    "### 1.3 Presentació de la idea"
   ]
  },
  {
   "cell_type": "markdown",
   "id": "4e51e4cf-2bb4-4901-9319-b69667c493d1",
   "metadata": {},
   "source": [
    "Barcelona és una ciutat que rep un nombre significatiu de turistes cada any, amb prop de 26 milions de visitants l'any 2023. Aquest flux de turistes exerceix una pressió considerable sobre els recursos locals, incloent el consum d’aigua. Les zones més turístiques, com el centre de la ciutat, la platja i altres punts d’interès, presenten un augment del consum d’aigua durant les temporades més altes. Això fa que la gestió d’aquest recurs sigui encara més complexa, ja que cal tenir en compte no només les necessitats de la població local, sinó també la variabilitat del consum degut al nombre de turistes presents en cada moment de l’any.\n",
    "\n",
    "El consum d’aigua turístic és, per tant, una part essencial del consum global d’aigua a Barcelona. Així doncs, comprendre millor com els fluxos turístics influencien el consum d’aigua a la ciutat és un element clau per gestionar els recursos hídrics i garantir la sostenibilitat a llarg termini. En aquest context, el nostre projecte busca abordar aquest repte, proposant una solució que integri dades de turisme amb les de consum d’aigua per crear un model predictiu que pugui anticipar el consum específicament associat als turistes.\n",
    "\n",
    "La nostra proposta es basa en la creació d'un model predictiu que utilitza les dades de telelectura dels comptadors d’aigua, combinades amb altres fonts de dades com les de turisme, climatologia i mobilitat urbana, per estimar el consum d’aigua de manera més precisa i dinàmica. L’objectiu és simular els patrons de consum de les zones turístiques de Barcelona, amb una especial atenció a la variabilitat temporal, com la temporada alta de turisme, les condicions meteorològiques i altres factors que poden influir directament en el consum d’aigua. Aquest model permetrà identificar en temps real l’impacte del turisme sobre els recursos hídrics i proporcionar una visió més clara de com gestionar el consum de manera eficient.\n",
    "\n",
    "El caràcter innovador del nostre enfocament rau en la capacitat de crear una simulació interactiva que permet als usuaris inserir el nombre de turistes, ja sigui mensual o diari, i rebre una predicció de consum d’aigua per secció censal. Aquesta funcionalitat ofereix una interfície visual i intuïtiva que no només facilita la comprensió de l'impacte turístic sobre el consum d’aigua, sinó que també permet una resposta en temps real per ajudar a la gestió més eficient dels recursos hídrics. A través d’aquest enfocament, AGBAR podrà anticipar els canvis en la demanda d’aigua i adaptar-se als diferents escenaris segons els fluxos turístics.\n",
    "\n",
    "Aquesta aproximació és única en el sentit que, més enllà de les tècniques tradicionals de modelatge de consum, inclou variables externes que afecten directament el comportament dels consumidors d’aigua, com el turisme. Aquesta innovació té un gran impacte potencial en la sostenibilitat dels recursos hídrics de Barcelona, permetent no només millorar la previsió i l'ús dels recursos disponibles, sinó també reduir la pressió sobre el sistema hídrico, especialment en aquells moments de l’any en què el turisme augmenta de manera significativa.\n",
    "\n",
    "Els resultats esperats d’aquesta simulació són múltiples. En primer lloc, esperem aconseguir una predicció fiable del consum d’aigua per zones turístiques en funció de variables externes. Això amb l'objectiu d'ajudar a AGBAR a prendre decisions informades en temps real, optimitzant la distribució d’aigua i millorant la seva eficiència. A més, la possibilitat d’anticipar el consum d’aigua en funció dels fluxos turístics contribuirà a una gestió més sostenible dels recursos hídrics, disminuint l’impacte ambiental en les zones més afectades pel turisme. La capacitat d'adaptar-se als canvis d’aquests factors farà que el model sigui una eina flexible per afrontar la realitat canviant de Barcelona i altres ciutats amb dinàmiques similars.\n",
    "\n",
    "Aquesta solució no només és innovadora, sinó que també representa una oportunitat real d’adaptar-se als reptes globals actuals, com el canvi climàtic i la sostenibilitat, i de generar un impacte positiu en la gestió de l’aigua a Barcelona. Creiem fermament que la nostra proposta no només s’ajusta als objectius del challenge, sinó que també aporta una contribució significativa a l’estratègia de sostenibilitat hídrica a llarg termini d’AGBAR. "
   ]
  },
  {
   "cell_type": "markdown",
   "id": "92a96092-6067-4c01-a141-5a603c2f1bc8",
   "metadata": {
    "tags": []
   },
   "source": [
    "## 2. Tractament de dades"
   ]
  },
  {
   "cell_type": "markdown",
   "id": "9d66d4db-2b57-4600-8ad7-b27f03e25baa",
   "metadata": {},
   "source": [
    "### 2.1 Dades requerides"
   ]
  },
  {
   "cell_type": "markdown",
   "id": "f4505793-39eb-4556-b0d5-185254c4e02d",
   "metadata": {},
   "source": [
    "El projecte parteix del dataset **daily_dataset.csv** proporcionat per AGBAR, que inclou dades detallades sobre el consum d’aigua a nivell diari i per secció censal. Aquest dataset constitueix la base principal del nostre model i conté els camps següents:  \n",
    "- **Secció censal, districte i municipi**: per identificar zones geogràfiques concretes de consum.  \n",
    "- **Data**: per analitzar la distribució temporal del consum d’aigua.  \n",
    "- **Ús**: que especifica si l’aigua és utilitzada per a fins domèstics, industrials, comercials, o altres.  \n",
    "- **Nombre de comptadors**: que indica quants dispositius registren el consum a cada secció.  \n",
    "- **Consum acumulat (L/dia)**: volum d’aigua consumit diàriament en litres.  \n",
    "\n",
    "Aquestes dades són indispensables per entendre la variabilitat del consum en funció de la geografia i del tipus d’ús. Tanmateix, per desenvolupar un model que integri els efectes del turisme i d’altres factors externs, necessitem ampliar aquesta informació amb noves fonts de dades:  \n",
    "\n",
    "1. **Dades meteorològiques**:  \n",
    "   - **Temperatura màxima i mínima diària**: el clima influeix directament en el consum d’aigua. Per exemple, en dies de calor intensa, el consum augmenta, especialment a zones turístiques amb activitats a l’aire lliure.  \n",
    "   - **Precipitacions acumulades**: els dies de pluja redueixen el consum d’aigua en activitats a l’exterior, com el reg o les dutxes a platges i piscines.  \n",
    "\n",
    "   Aquestes dades són crucials per ajustar el model als patrons estacionals i climàtics, que tenen un gran impacte en el consum d’aigua.  \n",
    "\n",
    "2. **Dades de turisme**:  \n",
    "   - **Pernoctacions diàries**: necessitem saber quants turistes s’allotgen a la ciutat cada dia. Aquesta informació reflecteix l'impacte del turisme en zones concretes i ajuda a identificar com els fluxos de visitants contribueixen al consum d’aigua en serveis com hotels, restaurants i activitats recreatives.  \n",
    "\n",
    "   El turisme és un dels factors principals que volem analitzar. Per això, aquestes dades són essencials per segmentar el consum d’aigua atribuïble als visitants, diferenciant-lo del consum residencial o d'altres usos.  \n",
    "\n",
    "La integració d’aquestes dades ens permetrà desenvolupar un model predictiu que connecti el consum d’aigua amb variables climàtiques i turístiques, oferint prediccions més precises i útils per a la gestió sostenible dels recursos hídrics. Així, podrem respondre preguntes clau, com l’impacte específic del turisme en zones determinades o l’efecte de condicions meteorològiques extremes en el consum global.  "
   ]
  },
  {
   "cell_type": "markdown",
   "id": "be71c05b-6cfe-4128-af2a-ca84201fdc39",
   "metadata": {},
   "source": [
    "### 2.2 Obtenció de les dades neteorològiques i de precipitacions"
   ]
  },
  {
   "cell_type": "code",
   "execution_count": null,
   "id": "0d363055-b94c-43a5-ba89-5f4b042508a5",
   "metadata": {},
   "outputs": [],
   "source": []
  },
  {
   "cell_type": "markdown",
   "id": "69c29874-d669-4bec-b0d2-d42cf6c99084",
   "metadata": {},
   "source": [
    "### 2.3 Obtenció de les dades de turisme"
   ]
  },
  {
   "cell_type": "code",
   "execution_count": null,
   "id": "4296b90b-ea9d-4723-896c-c0af6e36e6a7",
   "metadata": {},
   "outputs": [],
   "source": []
  },
  {
   "cell_type": "markdown",
   "id": "311154f3-edec-43f0-8dda-27d8206b4c99",
   "metadata": {},
   "source": [
    "### 2.4 Base de dades resultant"
   ]
  },
  {
   "cell_type": "code",
   "execution_count": null,
   "id": "de7eab37-0911-46eb-a221-24bb2f5807db",
   "metadata": {},
   "outputs": [],
   "source": []
  },
  {
   "cell_type": "markdown",
   "id": "6e9a0bec-1dbd-41de-9c43-2842252fb500",
   "metadata": {},
   "source": [
    "### 2.5 Estudi estàtic"
   ]
  },
  {
   "cell_type": "code",
   "execution_count": null,
   "id": "047de9fe-5075-4e61-862d-b85f1f6d974f",
   "metadata": {},
   "outputs": [],
   "source": []
  },
  {
   "cell_type": "markdown",
   "id": "829b3dbb-bd64-44d2-8d02-3305807f3f5b",
   "metadata": {},
   "source": [
    "## 3. Creació del algorisme de predicció"
   ]
  },
  {
   "cell_type": "code",
   "execution_count": null,
   "id": "b7eb2375-9d05-4164-a1fb-15c6e94f50de",
   "metadata": {},
   "outputs": [],
   "source": []
  },
  {
   "cell_type": "markdown",
   "id": "0809a25d-57a8-40b5-a1a8-bc2a62f7c2c5",
   "metadata": {},
   "source": [
    "## 4. Validació del algorisme de predicció"
   ]
  },
  {
   "cell_type": "code",
   "execution_count": null,
   "id": "d3981450-a857-4eff-aae0-cb90f3ba1888",
   "metadata": {},
   "outputs": [],
   "source": []
  },
  {
   "cell_type": "markdown",
   "id": "b935e04e-c393-4042-92c3-0989a90067ed",
   "metadata": {},
   "source": [
    "## 5. Simulació"
   ]
  },
  {
   "cell_type": "code",
   "execution_count": null,
   "id": "c4df4204-a7a0-4571-8ff0-840beac1796a",
   "metadata": {},
   "outputs": [],
   "source": []
  },
  {
   "cell_type": "markdown",
   "id": "29c15f3d-83a1-496e-bdff-ae3310ab0631",
   "metadata": {},
   "source": [
    "## 6. Recomanacions accionables"
   ]
  },
  {
   "cell_type": "code",
   "execution_count": null,
   "id": "a81a3480-de10-4c4a-9fec-44adca476c65",
   "metadata": {},
   "outputs": [],
   "source": []
  },
  {
   "cell_type": "markdown",
   "id": "787e15f7-4e09-4fa1-84a1-00db598483dd",
   "metadata": {},
   "source": [
    "## 7. Conclusions"
   ]
  },
  {
   "cell_type": "code",
   "execution_count": null,
   "id": "78c84edd-c16c-41f5-9ab2-1de5ef86bd75",
   "metadata": {},
   "outputs": [],
   "source": []
  }
 ],
 "metadata": {
  "kernelspec": {
   "display_name": "Python 3 (ipykernel)",
   "language": "python",
   "name": "python3"
  },
  "language_info": {
   "codemirror_mode": {
    "name": "ipython",
    "version": 3
   },
   "file_extension": ".py",
   "mimetype": "text/x-python",
   "name": "python",
   "nbconvert_exporter": "python",
   "pygments_lexer": "ipython3",
   "version": "3.11.5"
  }
 },
 "nbformat": 4,
 "nbformat_minor": 5
}
