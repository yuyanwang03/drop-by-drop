{
 "cells": [
  {
   "cell_type": "markdown",
   "id": "9880eb1d",
   "metadata": {},
   "source": [
    "<h1 style=\"display: flex; align-items: center; font-size: 50px; margin-bottom: 25px;\">\n",
    "  Anàlisi de la Petjada Hídrica dels Turistes a Barcelona\n",
    "</h1>\n",
    "<hr style=\"border: 1px solid grey;\">\n",
    "<img src=\"display/media/logos_report.png\" alt=\"Image 1\">\n",
    "<hr style=\"border: 1px solid grey;\">"
   ]
  },
  {
   "cell_type": "markdown",
   "id": "078393db",
   "metadata": {},
   "source": [
    "# Índex\n",
    "\n",
    "<!DOCTYPE html>\n",
    "<html lang=\"en\">\n",
    "<head>\n",
    "    <meta charset=\"UTF-8\">\n",
    "    <meta name=\"viewport\" content=\"width=device-width, initial-scale=1.0\">\n",
    "    <title>Índex</title>\n",
    "    <style>\n",
    "        h1 {\n",
    "            color:\"white\" ;\n",
    "        }\n",
    "        ul {\n",
    "            list-style-type: none;\n",
    "            padding-left: 0;\n",
    "        }\n",
    "        li {\n",
    "            padding: 3px 0;\n",
    "        }\n",
    "        li a {\n",
    "            text-decoration: none;\n",
    "            color: white;\n",
    "            font-size: 14px;\n",
    "            font-weight: bold;\n",
    "            transition: color 0.3s;\n",
    "        }\n",
    "        li a:hover {\n",
    "            color: grey;\n",
    "        }\n",
    "        .sub-index {\n",
    "            margin-left: 20px;\n",
    "            margin-top: 2px;\n",
    "            font-size: 10px;\n",
    "        }\n",
    "        .sub-index a {\n",
    "            color: lightgrey;\n",
    "        }\n",
    "    </style>\n",
    "</head>\n",
    "<ul>\n",
    "    <li><a href=\"#s1\">1. Introducció</a>\n",
    "        <ul class=\"sub-index\">\n",
    "            <li><a href=\"#s11\">1.1 Introducció al challenge</a></li>\n",
    "            <li><a href=\"#s12\">1.2 Presentació del grup</a></li>\n",
    "            <li><a href=\"#s13\">1.3 Presentació de la idea</a></li>\n",
    "        </ul>\n",
    "    </li>\n",
    "    <li><a href=\"#s2\">2. Tractament de dades</a>\n",
    "        <ul class=\"sub-index\">\n",
    "            <li><a href=\"#s21\">2.1 Explicació de les necessitats de dades que té el projecte</a></li>\n",
    "            <li><a href=\"#s22\">2.2 Obtenció de les dades meteorològiques i de precipitacions</a></li>\n",
    "            <li><a href=\"#s23\">2.3 Obtenció de les dades de turisme</a></li>\n",
    "            <li><a href=\"#s24\">2.4 Correlació de les dades</a></li>\n",
    "        </ul>\n",
    "    </li>\n",
    "    <li><a href=\"#s3\">3. Creació de l'algorisme de predicció</a>\n",
    "        <ul class=\"sub-index\">\n",
    "            <li><a href=\"#s31\">3.1 Investigació prèvia</a></li>\n",
    "            <li><a href=\"#s32\">3.2 Descripció de inputs i outputs</a></li>\n",
    "            <li><a href=\"#s33\">3.3 Explicació del algoritme</a></li>\n",
    "        </ul>\n",
    "    </li>\n",
    "    <li><a href=\"#s4\">4. Validació de l'algorisme de predicció</a>\n",
    "        <ul class=\"sub-index\">\n",
    "            <li><a href=\"#s41\">4.1 Estudi de performance</a></li>\n",
    "            <li><a href=\"#s42\">4.2 Exemple del output</a></li>\n",
    "        </ul>\n",
    "    </li>\n",
    "    <li><a href=\"#s5\">5. Simulació</a>\n",
    "        <ul class=\"sub-index\">\n",
    "            <li><a href=\"#s51\">5.1 Explicació de l'objectiu de la simulació</a></li>\n",
    "            <li><a href=\"#s52\">5.2 Instruccions per córrer la simulació</a></li>\n",
    "            <li><a href=\"#s53\">5.3 Descripció de les pàgines de la simulació</a></li>\n",
    "        </ul>\n",
    "    </li>\n",
    "    <li><a href=\"#s6\">6. Recomanacions accionables</a>\n",
    "        <ul class=\"sub-index\">\n",
    "            <li><a href=\"#s61\">6.1 Recomanacions 8-12</a></li>\n",
    "        </ul>\n",
    "    </li>\n",
    "    <li><a href=\"#s7\">7. Escalabilitat</a></li>\n",
    "        <ul class=\"sub-index\">\n",
    "            <li><a href=\"#s71\">7.1 Dades meteorològiques i precipitacions</a></li>\n",
    "            <li><a href=\"#s72\">7.2 Dades de turisme</a></li>\n",
    "            <li><a href=\"#s73\">7.3 Re-entrenament del model</a></li>\n",
    "        </ul>\n",
    "    <li><a href=\"#s8\">8. Conclusions</a>\n",
    "        <ul class=\"sub-index\">\n",
    "            <li><a href=\"#s81\">8.1 Efecte del turisme a Barcelona</a></li>\n",
    "            <li><a href=\"#s82\">8.2 Tancament del projecte</a></li>\n",
    "        </ul>\n",
    "    </li>\n",
    "</ul>\n"
   ]
  },
  {
   "cell_type": "markdown",
   "id": "4ce31ccf-62a0-4afb-a331-f21297dc8005",
   "metadata": {
    "tags": []
   },
   "source": [
    "<a id=\"s1\"></a>\n",
    "## 1. Introducció"
   ]
  },
  {
   "cell_type": "markdown",
   "id": "9eae5d60-f264-4b14-b849-d4bc997a580d",
   "metadata": {
    "tags": []
   },
   "source": [
    "<a id=\"s11\"></a>\n",
    "### 1.1 Introducció al challenge"
   ]
  },
  {
   "cell_type": "markdown",
   "id": "61619137-be95-4f25-8004-ab81cdf697ce",
   "metadata": {},
   "source": [
    "El **AB Data Challenge** és una iniciativa d’Aigües de Barcelona (AGBAR) que, amb el suport d’universitats, centres de recerca i l’ecosistema d’innovació de Catalunya, busca fomentar la creativitat i la innovació mitjançant l'ús de les dades recopilades del servei de telelectura dels comptadors d’aigua. Aquesta iniciativa té com a objectiu generar solucions que millorin la gestió de l’aigua i promoguin la sostenibilitat, amb especial èmfasi en la reducció de l’impacte ambiental derivat del consum d’aigua.\n",
    "\n",
    "En aquest context, el nostre grup ha decidit abordar el repte relacionat amb la **Sostenibilitat Hídrica Territorial**, amb un focus particular en el **turisme**, un dels factors que exerceix una gran pressió sobre els recursos hídrics de Barcelona. La creixent demanda d’aigua, influenciada per l’augment de turistes que visiten la ciutat, presenta un desafiament significatiu per a la gestió dels recursos hídrics urbans. A més, aquest fenomen s’accentua pels efectes del canvi climàtic, com les altes temperatures i les sequera, que augmenten la necessitat de garantir la sostenibilitat del sistema hídrico. \n",
    "\n",
    "Hem escollit aquest repte perquè creiem que les dades de telelectura dels comptadors d’aigua proporcionades per AGBAR, combinades amb dades externes com les de turisme, mobilitat i meteorologia, poden oferir una oportunitat única per desenvolupar models predictius que millorin la gestió de l’aigua i afavoreixin l’eficiència en el seu consum. En un context com el de Barcelona, on el turisme és una de les principals fonts de consum d’aigua, és fonamental poder integrar aquestes dades per reduir la pressió sobre els recursos hídrics i fomentar pràctiques més sostenibles en la gestió de l’aigua."
   ]
  },
  {
   "cell_type": "markdown",
   "id": "0303a0a1-7bb1-4991-a9be-995ffb9c42d5",
   "metadata": {},
   "source": [
    "<a id=\"s12\"></a>\n",
    "### 1.2 Presentació del grup"
   ]
  },
  {
   "cell_type": "markdown",
   "id": "a5d5c52b-f8f6-4907-bc62-ba5f0e5abdbe",
   "metadata": {},
   "source": [
    "Som un grup d'estudiants de l'assignatura de Gestió de Projectes, amb membres provinents de dues disciplines: **Enginyeria Matemàtica en Ciències de Dades** i **Enginyeria Informàtica**. Aquesta diversitat de formacions ens permet abordar el repte des de diferents perspectives, combinant coneixements teòrics i pràctics en l'àmbit de la gestió de dades, l'anàlisi estadística i la implementació de solucions tecnològiques. Ens enorgullim d'haver treballat tots en tots els àmbits del projecte, però per facilitar l'organització del projecte hem distribuit carrecs entre nosaltrs.\n",
    "\n",
    "Els membres del grup i els seus càrrecs són els següents:\n",
    "\n",
    "\n",
    "<style>\n",
    "  /* General styles for both rows */\n",
    "  .team-member {\n",
    "    width: 25%;\n",
    "    margin: 10px;\n",
    "    background-color: #C8C8C8;\n",
    "    padding: 15px;\n",
    "    color: black;\n",
    "    text-align: center;\n",
    "    border-radius: 10px;\n",
    "    transition: transform 0.3s ease, box-shadow 0.3s ease;\n",
    "  }\n",
    "\n",
    "  .team-member:hover {\n",
    "    transform: scale(1.1); /* Make the member larger on hover */\n",
    "    box-shadow: 0px 0px 20px rgba(0, 0, 0, 0.5); /* Add shadow effect */\n",
    "  }\n",
    "\n",
    "  /* Styles for the upper row */\n",
    "  .upper-row .team-member {\n",
    "    width: 25%;\n",
    "  }\n",
    "\n",
    "  /* Styles for the lower row */\n",
    "  .lower-row .team-member {\n",
    "    width: 30%;\n",
    "  }\n",
    "</style>\n",
    "<div style=\"display: flex; justify-content: center; flex-wrap: wrap; text-align: center;\">\n",
    "  <!-- Top row (3 members) -->\n",
    "  <div class=\"upper-row\" style=\"display: flex; justify-content: center; flex-wrap: wrap;\">\n",
    "    <div class=\"team-member\">\n",
    "      <img src=\"https://media.licdn.com/dms/image/v2/D4D03AQEe9r69YxPhVg/profile-displayphoto-shrink_800_800/profile-displayphoto-shrink_800_800/0/1702547713065?e=1736380800&v=beta&t=NsDZiX6TL7l1a-ms_8RF1yxUSNJoBREEUPpqSMuU27M\" alt=\"Bruno Manzano Clotet\" width=\"100\">\n",
    "      <br><strong>Bruno Manzano Clotet</strong>\n",
    "      <br><a href=\"https://www.linkedin.com/in/brunomanzano/\"><img src=\"https://cdn-icons-png.flaticon.com/512/174/174857.png\" alt=\"LinkedIn\" width=\"16\"> LinkedIn</a>\n",
    "      <br><strong>Role:</strong> Audiovisual Responsible (AV)\n",
    "      <br><strong>Responsibilities:</strong> Crear contingut visual i presentacions per comunicar els resultats de manera efectiva.\n",
    "      <br><a href=\"mailto:bruno.manzano01@estudiant.upf.edu\"><img src=\"https://cdn-icons-png.flaticon.com/512/732/732200.png\" alt=\"Email\" width=\"16\"> Email</a>\n",
    "    </div>\n",
    "    <div class=\"team-member\">\n",
    "      <img src=\"https://media.licdn.com/dms/image/v2/D5603AQGU6dT73FZacA/profile-displayphoto-shrink_800_800/profile-displayphoto-shrink_800_800/0/1731424586525?e=1737590400&v=beta&t=4EeR5sVIFy6eYY97_pg9eDR1Acft7oEyg9rUSRI-TBU\" alt=\"Iván Hernández Gómez\" width=\"100\">\n",
    "      <br><strong>Iván Hernández Gómez</strong>\n",
    "      <br><a href=\"https://www.linkedin.com/in/iv97n\"><img src=\"https://cdn-icons-png.flaticon.com/512/174/174857.png\" alt=\"LinkedIn\" width=\"16\"> LinkedIn</a>\n",
    "      <br><strong>Role:</strong> Technical Responsible (TR)\n",
    "      <br><strong>Responsibilities:</strong> Responsable de l’anàlisi tècnica de les dades i el desenvolupament de models predictius.\n",
    "      <br><a href=\"mailto:ivan.hernandez04@estudiant.upf.edu\"><img src=\"https://cdn-icons-png.flaticon.com/512/732/732200.png\" alt=\"Email\" width=\"16\"> Email</a>\n",
    "    </div>\n",
    "    <div class=\"team-member\">\n",
    "      <img src=\"https://media.licdn.com/dms/image/v2/D4E03AQEbY575oX9IAA/profile-displayphoto-shrink_800_800/profile-displayphoto-shrink_800_800/0/1682176916179?e=1736380800&v=beta&t=accroyrSl_GcfJkH98aTJkGfIAKmYNX7qcbPgjN137U\" alt=\"Martí Oms Graells\" width=\"100\">\n",
    "      <br><strong>Martí Oms Graells</strong>\n",
    "      <br><a href=\"https://www.linkedin.com/in/martí-oms-graells\"><img src=\"https://cdn-icons-png.flaticon.com/512/174/174857.png\" alt=\"LinkedIn\" width=\"16\"> LinkedIn</a>\n",
    "      <br><strong>Role:</strong> Creative Responsible (CR)\n",
    "      <br><strong>Responsibilities:</strong> Desenvolupar estratègies creatives per a la presentació de dades i resultats.\n",
    "      <br><a href=\"mailto:marti.oms01@estudiant.upf.edu\"><img src=\"https://cdn-icons-png.flaticon.com/512/732/732200.png\" alt=\"Email\" width=\"16\"> Email</a>\n",
    "    </div>\n",
    "  </div>\n",
    "  <!-- Bottom row (2 members) -->\n",
    "  <div class=\"lower-row\" style=\"display: flex; justify-content: center; flex-wrap: wrap;\">\n",
    "    <div class=\"team-member\">\n",
    "      <img src=\"https://media.licdn.com/dms/image/v2/D4D03AQEssjLTI5fjlQ/profile-displayphoto-shrink_800_800/profile-displayphoto-shrink_800_800/0/1711454757196?e=1736380800&v=beta&t=XOADI__DBoNrkuHGorOjFv7-xoMKOKaKo78s97HZC-w\" alt=\"Paula Mateos\" width=\"100\">\n",
    "      <br><strong>Paula Mateos</strong>\n",
    "      <br><a href=\"https://www.linkedin.com/in/paula-mateos-marin-954a90300/\"><img src=\"https://cdn-icons-png.flaticon.com/512/174/174857.png\" alt=\"LinkedIn\" width=\"16\"> LinkedIn</a>\n",
    "      <br><strong>Role:</strong> Project Manager (PM)\n",
    "      <br><strong>Responsibilities:</strong> Responsable de la gestió del projecte, assegurant-se que es compleixin els terminis i els lliurables.\n",
    "      <br><a href=\"mailto:paula.mateos01@estudiant.upf.edu\"><img src=\"https://cdn-icons-png.flaticon.com/512/732/732200.png\" alt=\"Email\" width=\"16\"> Email</a>\n",
    "    </div>\n",
    "    <div class=\"team-member\">\n",
    "      <img src=\"https://media.licdn.com/dms/image/v2/D4E03AQHJMsWc_cbqUQ/profile-displayphoto-shrink_800_800/profile-displayphoto-shrink_800_800/0/1673880445852?e=1736380800&v=beta&t=LWpE_eugEjTgNLJFYmlhP2MgAyxd-xcxiTORK1sDCxw\" alt=\"Yuyan Wang\" width=\"100\">\n",
    "      <br><strong>Yuyan Wang</strong>\n",
    "      <br><a href=\"https://www.linkedin.com/in/yuyanwang03/\"><img src=\"https://cdn-icons-png.flaticon.com/512/174/174857.png\" alt=\"LinkedIn\" width=\"16\"> LinkedIn</a>\n",
    "      <br><strong>Role:</strong> Implementation Responsible (IR)\n",
    "      <br><strong>Responsibilities:</strong> Garantir que els models siguin implementables en un entorn real.\n",
    "      <br><a href=\"mailto:yuyan.wang01@estudiant.upf.edu\"><img src=\"https://cdn-icons-png.flaticon.com/512/732/732200.png\" alt=\"Email\" width=\"16\"> Email</a>\n",
    "    </div>\n",
    "  </div>\n",
    "</div>\n"
   ]
  },
  {
   "cell_type": "markdown",
   "id": "a6471c42-dc48-4892-b6d1-7e56aedaf911",
   "metadata": {},
   "source": [
    "<a id=\"s13\"></a>\n",
    "### 1.3 Presentació de la idea"
   ]
  },
  {
   "cell_type": "markdown",
   "id": "7ee3d0bb",
   "metadata": {},
   "source": [
    "Barcelona és una ciutat que rep un nombre significatiu de turistes cada any, amb prop de 26 milions de visitants l'any 2023. Aquest flux de turistes exerceix una pressió considerable sobre els recursos locals, incloent el consum d’aigua. Les zones més turístiques, com el centre de la ciutat, la platja i altres punts d’interès, presenten un augment del consum d’aigua durant les temporades més altes. Això fa que la gestió d’aquest recurs sigui encara més complexa, ja que cal tenir en compte no només les necessitats de la població local, sinó també la variabilitat del consum degut al nombre de turistes presents en cada moment de l’any.\n"
   ]
  },
  {
   "cell_type": "markdown",
   "id": "4e51e4cf-2bb4-4901-9319-b69667c493d1",
   "metadata": {},
   "source": [
    "Barcelona és una ciutat que rep un nombre significatiu de turistes cada any, amb prop de 26 milions de visitants l'any 2023. Aquest flux de turistes exerceix una pressió considerable sobre els recursos locals, incloent el consum d’aigua. Les zones més turístiques, com el centre de la ciutat, la platja i altres punts d’interès, presenten un augment del consum d’aigua durant les temporades més altes. Això fa que la gestió d’aquest recurs sigui encara més complexa, ja que cal tenir en compte no només les necessitats de la població local, sinó també la variabilitat del consum degut al nombre de turistes presents en cada moment de l’any.\n",
    "\n",
    "El consum d’aigua turístic és, per tant, una part essencial del consum global d’aigua a Barcelona. Així doncs, comprendre millor com els fluxos turístics influencien el consum d’aigua a la ciutat és un element clau per gestionar els recursos hídrics i garantir la sostenibilitat a llarg termini. En aquest context, el nostre projecte busca abordar aquest repte, proposant una solució que integri dades de turisme amb les de consum d’aigua per crear un model predictiu que pugui anticipar el consum específicament associat als turistes.\n",
    "\n",
    "La nostra proposta es basa en la creació d'un model predictiu que utilitza les dades de telelectura dels comptadors d’aigua, combinades amb altres fonts de dades com les de turisme, climatologia i mobilitat urbana, per estimar el consum d’aigua de manera més precisa i dinàmica. L’objectiu és simular els patrons de consum de les zones turístiques de Barcelona, amb una especial atenció a la variabilitat temporal, com la temporada alta de turisme, les condicions meteorològiques i altres factors que poden influir directament en el consum d’aigua. Aquest model permetrà identificar en temps real l’impacte del turisme sobre els recursos hídrics i proporcionar una visió més clara de com gestionar el consum de manera eficient.\n",
    "\n",
    "El caràcter innovador del nostre enfocament rau en la capacitat de crear una simulació interactiva que permet als usuaris inserir el nombre de turistes, ja sigui mensual o diari, i rebre una predicció de consum d’aigua per secció censal. Aquesta funcionalitat ofereix una interfície visual i intuïtiva que no només facilita la comprensió de l'impacte turístic sobre el consum d’aigua, sinó que també permet una resposta en temps real per ajudar a la gestió més eficient dels recursos hídrics. A través d’aquest enfocament, AGBAR podrà anticipar els canvis en la demanda d’aigua i adaptar-se als diferents escenaris segons els fluxos turístics.\n",
    "\n",
    "Aquesta aproximació és única en el sentit que, més enllà de les tècniques tradicionals de modelatge de consum, inclou variables externes que afecten directament el comportament dels consumidors d’aigua, com el turisme. Aquesta innovació té un gran impacte potencial en la sostenibilitat dels recursos hídrics de Barcelona, permetent no només millorar la previsió i l'ús dels recursos disponibles, sinó també reduir la pressió sobre el sistema hídrico, especialment en aquells moments de l’any en què el turisme augmenta de manera significativa.\n",
    "\n",
    "Els resultats esperats d’aquesta simulació són múltiples. En primer lloc, esperem aconseguir una predicció fiable del consum d’aigua per zones turístiques en funció de variables externes. Això amb l'objectiu d'ajudar a AGBAR a prendre decisions informades en temps real, optimitzant la distribució d’aigua i millorant la seva eficiència. A més, la possibilitat d’anticipar el consum d’aigua en funció dels fluxos turístics contribuirà a una gestió més sostenible dels recursos hídrics, disminuint l’impacte ambiental en les zones més afectades pel turisme. La capacitat d'adaptar-se als canvis d’aquests factors farà que el model sigui una eina flexible per afrontar la realitat canviant de Barcelona i altres ciutats amb dinàmiques similars.\n",
    "\n",
    "Aquesta solució no només és innovadora, sinó que també representa una oportunitat real d’adaptar-se als reptes globals actuals, com el canvi climàtic i la sostenibilitat, i de generar un impacte positiu en la gestió de l’aigua a Barcelona. Creiem fermament que la nostra proposta no només s’ajusta als objectius del challenge, sinó que també aporta una contribució significativa a l’estratègia de sostenibilitat hídrica a llarg termini d’AGBAR. "
   ]
  },
  {
   "cell_type": "markdown",
   "id": "92a96092-6067-4c01-a141-5a603c2f1bc8",
   "metadata": {
    "tags": []
   },
   "source": [
    "<a id=\"s2\"></a>\n",
    "## 2. Tractament de dades"
   ]
  },
  {
   "cell_type": "markdown",
   "id": "9d66d4db-2b57-4600-8ad7-b27f03e25baa",
   "metadata": {},
   "source": [
    "<a id=\"s21\"></a>\n",
    "\n",
    "### 2.1 Dades requerides"
   ]
  },
  {
   "cell_type": "markdown",
   "id": "f4505793-39eb-4556-b0d5-185254c4e02d",
   "metadata": {},
   "source": [
    "El projecte parteix del dataset **daily_dataset.csv** proporcionat per AGBAR, que inclou dades detallades sobre el consum d’aigua a nivell diari i per secció censal. Aquest dataset constitueix la base principal del nostre model i conté els camps següents:  \n",
    "- **Secció censal, districte i municipi**: per identificar zones geogràfiques concretes de consum.  \n",
    "- **Data**: per analitzar la distribució temporal del consum d’aigua.  \n",
    "- **Ús**: que especifica si l’aigua és utilitzada per a fins domèstics, industrials, comercials, o altres.  \n",
    "- **Nombre de comptadors**: que indica quants dispositius registren el consum a cada secció.  \n",
    "- **Consum acumulat (L/dia)**: volum d’aigua consumit diàriament en litres.  \n",
    "\n",
    "Aquestes dades són indispensables per entendre la variabilitat del consum en funció de la geografia i del tipus d’ús. Tanmateix, per desenvolupar un model que integri els efectes del turisme i d’altres factors externs, necessitem ampliar aquesta informació amb noves fonts de dades:  \n",
    "\n",
    "1. **Dades meteorològiques**:  \n",
    "   - **Temperatura màxima i mínima diària**: el clima influeix directament en el consum d’aigua. Per exemple, en dies de calor intensa, el consum augmenta, especialment a zones turístiques amb activitats a l’aire lliure.  \n",
    "   - **Precipitacions acumulades**: els dies de pluja redueixen el consum d’aigua en activitats a l’exterior, com el reg o les dutxes a platges i piscines.  \n",
    "\n",
    "   Aquestes dades són crucials per ajustar el model als patrons estacionals i climàtics, que tenen un gran impacte en el consum d’aigua.  \n",
    "\n",
    "2. **Dades de turisme**:  \n",
    "   - **Pernoctacions diàries**: necessitem saber quants turistes s’allotgen a la ciutat cada dia. Aquesta informació reflecteix l'impacte del turisme en zones concretes i ajuda a identificar com els fluxos de visitants contribueixen al consum d’aigua en serveis com hotels, restaurants i activitats recreatives.  \n",
    "\n",
    "   El turisme és un dels factors principals que volem analitzar. Per això, aquestes dades són essencials per segmentar el consum d’aigua atribuïble als visitants, diferenciant-lo del consum residencial o d'altres usos.  \n",
    "\n",
    "La integració d’aquestes dades ens permetrà desenvolupar un model predictiu que connecti el consum d’aigua amb variables climàtiques i turístiques, oferint prediccions més precises i útils per a la gestió sostenible dels recursos hídrics. Així, podrem respondre preguntes clau, com l’impacte específic del turisme en zones determinades o l’efecte de condicions meteorològiques extremes en el consum global.  "
   ]
  },
  {
   "cell_type": "markdown",
   "id": "d700c3b8-d288-4b3e-8307-d17ce4975740",
   "metadata": {
    "tags": []
   },
   "source": [
    "<a id=\"s22\"></a>\n",
    "### 2.2 Preprocessing"
   ]
  },
  {
   "cell_type": "markdown",
   "id": "fd79b4f0-33cb-459e-8377-71242240442c",
   "metadata": {},
   "source": [
    "Per preparar el conjunt de dades per a l’anàlisi, carreguem i netegem les dades diàries de consum d’aigua. Aquest procés inclou renombrar les columnes per millorar la claredat, estandarditzar categories (per exemple, tipus d’ús d’aigua) i filtrar els registres vàlids específics de Barcelona. A més, convertim les dates a un format utilitzable i eliminem anomalies, com ara valors negatius de consum. Tot això assegura que les dades siguin consistents i estiguin llestes per integrar variables addicionals, com les meteorològiques i de turisme, per construir el model predictiu."
   ]
  },
  {
   "cell_type": "code",
   "execution_count": 1,
   "id": "a10e1b6b-3b30-4bd7-8669-2b5546cda688",
   "metadata": {
    "tags": []
   },
   "outputs": [],
   "source": [
    "import pandas as pd\n",
    "from collections import Counter\n",
    "import seaborn as sns\n",
    "import os\n",
    "import numpy as np\n",
    "from matplotlib import pyplot\n",
    "import matplotlib.pyplot as plt\n",
    "\n",
    "import warnings\n",
    "warnings.filterwarnings(\"ignore\")\n",
    "\n",
    "daily_aigues = pd.read_csv(\"data/local_data/daily_dataset.csv\", encoding='latin1')\n",
    "\n",
    "# Rename columns for clarity\n",
    "daily_aigues = daily_aigues.rename(columns={\n",
    "    daily_aigues.columns[0]: 'Census Section',\n",
    "    daily_aigues.columns[1]: 'District',\n",
    "    daily_aigues.columns[2]: 'Municipality',\n",
    "    daily_aigues.columns[3]: 'Date',\n",
    "    daily_aigues.columns[4]: 'Use',\n",
    "    daily_aigues.columns[5]: 'Number of Meters',\n",
    "    daily_aigues.columns[6]: 'Accumulated Consumption'\n",
    "})\n",
    "\n",
    "# Convert Date column to datetime\n",
    "daily_aigues['Date'] = pd.to_datetime(daily_aigues['Date'])\n",
    "\n",
    "# Replace values in the 'Use' column\n",
    "daily_aigues['Use'] = daily_aigues['Use'].replace({\n",
    "    'Comercial/Comercial/Commercial': 'Commercial',\n",
    "    'DomÃ¨stic/DomÃ©stico/Domestic': 'Domestic',\n",
    "    'Industrial/Industrial/Industrial': 'Industrial'\n",
    "})\n",
    "\n",
    "# Filter data for Barcelona\n",
    "daily_aigues_bcn = daily_aigues[daily_aigues['Municipality'] == 'BARCELONA'].drop(columns=[\"Municipality\"])\n",
    "\n",
    "# Drop rows with invalid Census Section or District values\n",
    "daily_aigues_bcn = daily_aigues_bcn[daily_aigues_bcn['Census Section'] != '<NULL>']\n",
    "daily_aigues_bcn = daily_aigues_bcn[daily_aigues_bcn['District'] != '>']\n",
    "\n",
    "# Remove rows with Accumulated Consumption values below 0\n",
    "daily_aigues_bcn = daily_aigues_bcn[daily_aigues_bcn['Accumulated Consumption'] > 0]"
   ]
  },
  {
   "cell_type": "markdown",
   "id": "be71c05b-6cfe-4128-af2a-ca84201fdc39",
   "metadata": {},
   "source": [
    "<a id=\"s23\"></a>\n",
    "### 2.3 Obtenció de les dades meteorològiques i de precipitacions"
   ]
  },
  {
   "cell_type": "markdown",
   "id": "a1b5884a-9a97-49dd-816c-2c5554b52a48",
   "metadata": {},
   "source": [
    "Per millorar l'anàlisi, integrem dades meteorològiques, això ho fem per afegir valors que tinguin trascendencia en el consum de l'aigua, ja que el nombre de turistes no és l'únic que afecta al consum. És per això que hem decidit incloure les temperatures màximes i mínimes diàries i els nivells de precipitació. Les dades utilitzades s'obtenen de la API de la AEMET: https://www.aemet.es/ca/datos_abiertos/AEMET_OpenData\n",
    "\n",
    "\n",
    "Aquestes dades es grupen per data per calcular els valors mitjans, aquesta mitjana l'hem de fer ja que la base de dades utilitzada compta amb diferents observatoris des d'on es mesuren les dades, i per tant aquestes varien, però nosaltres preferim una mitjana per temes de simplicitat. A continuació, fusionem aquesta informació amb les dades netejades de consum d’aigua utilitzant la data com a clau. \n",
    "Aquest pas permet enllaçar els patrons meteorològics amb l’ús d’aigua, facilitant l’estudi de la seva influència en les tendències de consum."
   ]
  },
  {
   "cell_type": "code",
   "execution_count": 2,
   "id": "904a8e00-c141-4554-aaf8-5819b7f62541",
   "metadata": {
    "tags": []
   },
   "outputs": [
    {
     "name": "stdout",
     "output_type": "stream",
     "text": [
      "Merged data after adding meteorological data:\n",
      "  Census Section District       Date         Use  Number of Meters  \\\n",
      "0      801901001        1 2021-01-01  Commercial                56   \n",
      "1      801901001        1 2021-01-01    Domestic               322   \n",
      "2      801901001        1 2021-01-01  Industrial                10   \n",
      "3      801901001        1 2021-01-02  Commercial                56   \n",
      "4      801901001        1 2021-01-02    Domestic               322   \n",
      "\n",
      "   Accumulated Consumption  temp_max  temp_min  precipitacion  \n",
      "0                     2710      9.47      6.27           3.37  \n",
      "1                    10058      9.47      6.27           3.37  \n",
      "2                   140646      9.47      6.27           3.37  \n",
      "3                     3573     10.07      3.77           0.00  \n",
      "4                     9600     10.07      3.77           0.00  \n"
     ]
    }
   ],
   "source": [
    "clima_df = pd.read_csv('data/temperature_precipitation.csv')\n",
    "\n",
    "# Convert 'fecha' column to datetime and group by date\n",
    "clima_df['fecha'] = pd.to_datetime(clima_df['fecha'])\n",
    "clima_df = clima_df.groupby('fecha').agg({\n",
    "    'temp_max': 'mean',\n",
    "    'temp_min': 'mean',\n",
    "    'precipitacion': 'mean'\n",
    "}).round(2).reset_index()\n",
    "\n",
    "# Merge meteorological data with water consumption data\n",
    "merged_data = daily_aigues_bcn.merge(clima_df, left_on='Date', right_on='fecha', how='left').drop(columns=['fecha'])\n",
    "\n",
    "# Debug: Check the merged data\n",
    "print(\"Merged data after adding meteorological data:\")\n",
    "print(merged_data.head())"
   ]
  },
  {
   "cell_type": "markdown",
   "id": "69c29874-d669-4bec-b0d2-d42cf6c99084",
   "metadata": {},
   "source": [
    "<a id=\"s24\"></a>\n",
    "### 2.4 Obtenció de les dades de turisme"
   ]
  },
  {
   "cell_type": "markdown",
   "id": "376c6b4d-81ed-4285-93f3-fe6d84d013dc",
   "metadata": {},
   "source": [
    "Ja per acabar en el que integració de dades es refereix, hem d'afegir les dades més importants pel nostres estudi concret, les dades de quants turistes hi ha cada dia a Barcelona. Però aquest procés ha estat molt més complicat del que ens esperavem. Per començar, no hi ha dades com a tal de les pernoctacions diaries a Barcelona, el màxim que hem trobat son dades de les pernoctacions mensuals, trobades a: TO DOOOOOOOO\n",
    "\n",
    "Aquesta base de dades inclou les pernocatacions mensuals a Barcelona i el tipus d'allotjament:Establiments Hotelers, Albergs o Habitatges d'Ús Turístic, però aquests ultims els unificarem tots en un ja que per ara no és una dada relevant.\n",
    "\n",
    "\n",
    "Però aquestes dades son mensulas, i nosaltres tenim el consum diari i volem fer una predicció diaria. Per tant, hem de distribuir totes les pernoctacions mensuals entre els diferents dies del mes, però com? Es evident que no tots els dies del mes venen les mateixes persones a Barcelona, els caps de setmana, per exemple, acostument a haver més visitants. La idea que vam tenir per fer la distribució va ser dividir entre dies del mes i afegir soroll (noise) a la distribució. Per tal d'afegir soroll necessitavem un indicador del nombre de turistes diaris, en vam torbar un parell. El primer era un dataset dels vols que arrivaben i marxaven cada dia, però englovaba tota Espanya, pel que vam acabar descartant aquesta via. L'altre indicador que vam trobar va ser un dataset de les transaccions diaries fetes amb targetes de BBVA i transaccions fetes a TPVs de BBVA. Es pot accedir a aquestes dades des de: https://dades.ajuntament.barcelona.cat/consum-privat/index.Rmd.\n",
    "\n",
    "\n",
    "Evidentment son dades anonimitzades, però tenen un indicador més que és clau, segmenten entre transaccions fetes per extrangers i espanyols. Concretament hi ha un dataset amb el percentatge de transaccions fetes per estrangers i un altre amb el total de transaccions, de la combinació hem tret el nombre de transaccions fetes per turistes. Hem assumit que un turista espanyol es comporta com un tusista estranger.Així, hem pogut obtenir una distribució per aplicar soroll a les pernoctacions.\n",
    "\n",
    "A continuació el codi i els passos seguits per integrar les dades de transaccions turístiques i pernoctacions al conjunt de dades de consum d’aigua per analitzar l’impacte del turisme en l’ús d’aigua. El procés consisteix en:  \n",
    "\n",
    "1. **Carregar i netejar les dades**:  \n",
    "   - Importem els conjunts de dades relacionats amb les transaccions turístiques (`dataset_targetes.csv`), les transaccions totals (`total_transactions.csv`) i les pernoctacions (`pernoctacions_2019_2024.csv`).  \n",
    "   - Filtrarem les dades per als anys 2021–2023 i formatem les dates de manera consistent.  \n",
    "   - Calculem una nova columna (`total_tourist_transactions`) que escala les transaccions de turistes estrangers segons el volum total de transaccions.  \n",
    "2. **Agrupar dades mensuals**:  \n",
    "   - Agrupem les transaccions turístiques per mesos per calcular el total de transaccions mensuals.  \n",
    "   - Distribuïm els totals mensuals entre els dies individuals mitjançant percentatges diaris de transaccions, assegurant una assignació proporcional de les pernoctacions mensuals (`pernoctacions`) a cada dia.  \n",
    "3. **Combinar i unificar dades**:  \n",
    "   - Fusionem les dades de consum d’aigua amb les dades turístiques diàries (`resultado_df`) per integrar l’efecte del turisme a l’anàlisi.  \n",
    "   - Realitzem agregacions per secció censal, data i altres factors clau per simplificar el conjunt de dades, mantenint mètriques rellevants com el consum total d’aigua i les pernoctacions turístiques.  \n",
    "\n",
    "El resultat és un conjunt de dades unificat que vincula el consum d’aigua amb variables meteorològiques i turístiques, permetent una anàlisi exhaustiva de com aquests factors afecten les tendències diàries de consum d’aigua."
   ]
  },
  {
   "cell_type": "code",
   "execution_count": 3,
   "id": "27c5f464-8034-42c8-96ef-0f1d78601400",
   "metadata": {
    "tags": []
   },
   "outputs": [],
   "source": [
    "# Load and prepare the data\n",
    "targetes = pd.read_csv('data/dataset_targetes.csv')\n",
    "\n",
    "targetes = targetes.drop('Espanyola', axis=1)\n",
    "\n",
    "# Convert the column to datetime format\n",
    "targetes['Data'] = pd.to_datetime(targetes['Data'])\n",
    "\n",
    "# Format the date as yyyy-mm-dd\n",
    "targetes['Data'] = targetes['Data'].dt.strftime('%Y-%m-%d')\n",
    "\n",
    "# Filter the DataFrame to include only dates from 2021 to 2023\n",
    "targetes = targetes[(targetes['Data'] >= '2021-01-01') & (targetes['Data'] <= '2023-12-31')]\n",
    "\n",
    "transactions = pd.read_csv('data/total_transactions.csv')\n",
    "\n",
    "# Convert the column to datetime format\n",
    "transactions['Data'] = pd.to_datetime(transactions['Data'])\n",
    "\n",
    "# Format the date as yyyy-mm-dd\n",
    "transactions['Data'] = transactions['Data'].dt.strftime('%Y-%m-%d')\n",
    "\n",
    "# Filter the DataFrame to include only dates from 2021 to 2023\n",
    "transactions = transactions[(transactions['Data'] >= '2021-01-01') & (transactions['Data'] <= '2023-12-31')]\n",
    "\n",
    "# Set the date column as the index for both DataFrames to align dates easily\n",
    "transactions.set_index('Data', inplace=True)\n",
    "targetes.set_index('Data', inplace=True)\n",
    "\n",
    "# Create the total_tourist_transactions column by multiplying Series 1 in transactions by Estrangera in targetes\n",
    "targetes['total_tourist_transactions'] = (targetes['Estrangera'] * transactions['Series 1'])/100\n",
    "targetes.reset_index(inplace=True)\n",
    "transactions = targetes.drop('Estrangera', axis=1)\n",
    "\n",
    "# Load the datasets\n",
    "pernoctacions = pd.read_csv('data/pernoctacions_2019_2024.csv')\n",
    "\n",
    "# Convert date columns to datetime\n",
    "pernoctacions['Data'] = pd.to_datetime(pernoctacions['Data'], format='%m/%d/%Y')\n",
    "transactions['Data'] = pd.to_datetime(transactions['Data'], format='%Y-%m-%d')\n",
    "\n",
    "# Clean and convert the 'Pernoctacions' column to numeric\n",
    "pernoctacions['Pernoctacions'] = pd.to_numeric(pernoctacions['Pernoctacions'].str.replace('.', ''), errors='coerce')\n",
    "\n",
    "# Group transactions by month and calculate the total transactions per month\n",
    "monthly_transactions = transactions.groupby(transactions['Data'].dt.to_period('M'))['total_tourist_transactions'].sum().reset_index()\n",
    "monthly_transactions.columns = ['Month', 'Total Transactions']\n",
    "\n",
    "# Merge monthly totals with daily transactions to calculate daily percentages\n",
    "transactions = transactions.merge(monthly_transactions, left_on=transactions['Data'].dt.to_period('M'), right_on='Month', how='left')\n",
    "transactions['Percentage of Transactions'] = transactions['total_tourist_transactions'] / transactions['Total Transactions']\n",
    "\n",
    "# Remove unnecessary column\n",
    "transactions.drop(columns=['Month'], inplace=True)\n",
    "\n",
    "# Initialize the results list\n",
    "resultados = []\n",
    "\n",
    "# Loop through each row in pernoctacions to distribute monthly totals across days\n",
    "for _, row in pernoctacions.iterrows():\n",
    "    mes = row['Data'].month\n",
    "    anyo = row['Data'].year\n",
    "    pernoctaciones_mensuales = row['Pernoctacions']\n",
    "    \n",
    "    # Filter the transactions for the current month and year\n",
    "    transactions_mes = transactions[(transactions['Data'].dt.month == mes) & (transactions['Data'].dt.year == anyo)]\n",
    "    \n",
    "    # Ensure the daily percentages add up to 1\n",
    "    transactions_mes['Percentage of Transactions'] /= transactions_mes['Percentage of Transactions'].sum()\n",
    "    \n",
    "    # Distribute pernoctacions based on daily percentages\n",
    "    for _, transaction in transactions_mes.iterrows():\n",
    "        pernoctaciones_diarias = round(pernoctaciones_mensuales * transaction['Percentage of Transactions'])\n",
    "        resultados.append({\n",
    "            'Day': transaction['Data'],\n",
    "            'tipus allotjament': row['Tipologia d\\'allotjament'],\n",
    "            'pernoctacions': pernoctaciones_diarias\n",
    "        })\n",
    "\n",
    "# Create the final DataFrame\n",
    "resultado_df = pd.DataFrame(resultados)\n",
    "\n",
    "# Display a sample of the final DataFrame\n",
    "\n",
    "# Merge the water consumption data with the tourism data\n",
    "final_data = merged_data.merge(resultado_df, left_on='Date', right_on='Day', how='left').drop(columns=['Day'])\n",
    "\n",
    "# Grouping by all columns except 'tipus allotjament' and 'pernoctacions', and summing 'pernoctacions'\n",
    "final_data = (\n",
    "    final_data.groupby([\n",
    "        \"Census Section\", \"District\", \"Date\", \"Use\", \n",
    "        \"Number of Meters\", \"Accumulated Consumption\", \n",
    "        \"temp_max\", \"temp_min\", \"precipitacion\"\n",
    "    ], as_index=False)\n",
    "    .agg({\"pernoctacions\": \"sum\"})\n",
    ")\n",
    "\n"
   ]
  },
  {
   "cell_type": "markdown",
   "id": "ba89cbca-1b3b-4e66-acdb-a5be3abe2046",
   "metadata": {},
   "source": [
    "Finalment, ja podem guardar la base de dades i iniciar un analisi d'aquesta."
   ]
  },
  {
   "cell_type": "code",
   "execution_count": 4,
   "id": "7ff676af-6ad7-4dae-a207-9d72db73ec55",
   "metadata": {
    "tags": []
   },
   "outputs": [
    {
     "name": "stdout",
     "output_type": "stream",
     "text": [
      "The dataset contains 2715771 rows.\n"
     ]
    }
   ],
   "source": [
    "#Step 4: Save the cleaned dataset\n",
    "os.makedirs('data/local_data/', exist_ok=True)\n",
    "final_data.to_csv('data/local_data/merged_cleaned_data_NEW.csv', index=False)\n",
    "print(f\"The dataset contains {final_data.shape[0]} rows.\")"
   ]
  },
  {
   "cell_type": "code",
   "execution_count": null,
   "id": "80631443",
   "metadata": {
    "tags": []
   },
   "outputs": [],
   "source": [
    "import re\n",
    "\n",
    "# Grouping by the relevant columns and summing the required fields\n",
    "final_data = (\n",
    "    final_data.groupby([\n",
    "        \"Census Section\", \"District\", \"Date\", \"temp_max\", \"temp_min\", \"precipitacion\", \"pernoctacions\"\n",
    "    ], as_index=False)\n",
    "    .agg({\n",
    "        \"Number of Meters\": \"sum\",\n",
    "        \"Accumulated Consumption\": \"sum\"\n",
    "    })\n",
    ")\n",
    "\n",
    "# Drop the number of meters column\n",
    "final_data.drop(columns=[\"Number of Meters\"], inplace=True)\n",
    "\n",
    "population_ds = pd.read_csv('data/population_barcelona.csv')\n",
    "\n",
    "# Rename columns for clarity\n",
    "population_ds = population_ds.rename(columns={\n",
    "    population_ds.columns[0]: 'Date',\n",
    "    population_ds.columns[1]: 'Population'\n",
    "})\n",
    "\n",
    "# Spanish month mapping\n",
    "month_mapping = {\n",
    "    \"ene\": \"01\", \"feb\": \"02\", \"mar\": \"03\", \"abr\": \"04\",\n",
    "    \"may\": \"05\", \"jun\": \"06\", \"jul\": \"07\", \"ago\": \"08\",\n",
    "    \"sep\": \"09\", \"oct\": \"10\", \"nov\": \"11\", \"dic\": \"12\"\n",
    "}\n",
    "\n",
    "# Function to convert the date using regex\n",
    "def reformat_date(date_str):\n",
    "    match = re.match(r\"(\\d{2}) (\\w{3}) (\\d{4})\", date_str)\n",
    "    if match:\n",
    "        day, month, year = match.groups()\n",
    "        month_num = month_mapping[month]\n",
    "        return f\"{year}-{month_num}-{day}\"\n",
    "    return date_str  # Return the original if no match\n",
    "\n",
    "# Apply the function to the 'Tiempo' column\n",
    "population_ds[\"Date\"] = population_ds[\"Date\"].apply(reformat_date)\n",
    "\n",
    "# Convert 'Date' columns to datetime\n",
    "final_data[\"Date\"] = pd.to_datetime(final_data[\"Date\"])\n",
    "population_ds[\"Date\"] = pd.to_datetime(population_ds[\"Date\"])\n",
    "\n",
    "# Add a 'Year-Month' column for merging\n",
    "final_data[\"Year-Month\"] = final_data[\"Date\"].dt.to_period(\"M\").astype(str)\n",
    "population_ds[\"Year-Month\"] = population_ds[\"Date\"].dt.to_period(\"M\").astype(str)\n",
    "\n",
    "# Merge on 'Year-Month'\n",
    "final_data = pd.merge(final_data, population_ds[[\"Year-Month\", \"Population\"]], on=\"Year-Month\", how=\"left\")\n",
    "\n",
    "# Drop the 'Year-Month' column (optional)\n",
    "final_data.drop(columns=[\"Year-Month\"], inplace=True)\n",
    "\n",
    "final_data.head(10)"
   ]
  },
  {
   "cell_type": "markdown",
   "id": "6e9a0bec-1dbd-41de-9c43-2842252fb500",
   "metadata": {},
   "source": [
    "<a id=\"s26\"></a>\n",
    "### 2.4  Correlació de les dades"
   ]
  },
  {
   "cell_type": "markdown",
   "id": "c55a3776-e8d9-493e-85ff-1fb161e2e75b",
   "metadata": {},
   "source": [
    "¡¡¡¡¡¡¡¡¡AQUESTA PART PODER NO LA POSEM!!!!!!!!!!"
   ]
  },
  {
   "cell_type": "code",
   "execution_count": null,
   "id": "047de9fe-5075-4e61-862d-b85f1f6d974f",
   "metadata": {
    "tags": []
   },
   "outputs": [
    {
     "data": {
      "image/png": "[encoded data removed]",
      "text/plain": [
       "<Figure size 1000x600 with 2 Axes>"
      ]
     },
     "metadata": {},
     "output_type": "display_data"
    }
   ],
   "source": [
    "# Select only numerical columns for the correlation matrix\n",
    "numerical_cols = final_data.select_dtypes(include=['float64', 'int64']).columns\n",
    "# Compute the correlation matrix excluding non-numerical fields\n",
    "filtered_correlation_matrix = final_data[numerical_cols].corr()\n",
    "\n",
    "# Plot the correlation matrix using seaborn\n",
    "plt.figure(figsize=(10, 6))\n",
    "sns.heatmap(filtered_correlation_matrix, annot=True, cmap='coolwarm', fmt=\".2f\")\n",
    "plt.title('Correlation Matrix (Numerical Fields Only)')\n",
    "plt.show()\n",
    "\n"
   ]
  },
  {
   "cell_type": "markdown",
   "id": "829b3dbb-bd64-44d2-8d02-3305807f3f5b",
   "metadata": {},
   "source": [
    "<a id=\"s3\"></a>\n",
    "## 3. Creació del algorisme de predicció"
   ]
  },
  {
   "cell_type": "code",
   "execution_count": null,
   "id": "b7eb2375-9d05-4164-a1fb-15c6e94f50de",
   "metadata": {},
   "outputs": [],
   "source": []
  },
  {
   "cell_type": "markdown",
   "id": "0809a25d-57a8-40b5-a1a8-bc2a62f7c2c5",
   "metadata": {},
   "source": [
    "<a id=\"s4\"></a>\n",
    "## 4. Validació del algorisme de predicció"
   ]
  },
  {
   "cell_type": "code",
   "execution_count": null,
   "id": "d3981450-a857-4eff-aae0-cb90f3ba1888",
   "metadata": {},
   "outputs": [],
   "source": []
  },
  {
   "cell_type": "markdown",
   "id": "b935e04e-c393-4042-92c3-0989a90067ed",
   "metadata": {},
   "source": [
    "<a id=\"s5\"></a>\n",
    "## 5. Simulació"
   ]
  },
  {
   "cell_type": "markdown",
   "id": "65a6f41a",
   "metadata": {},
   "source": [
    "<a id=\"s51\"></a>\n",
    "\n",
    "### 5.1 Explicació de l'objectiu de la simulació"
   ]
  },
  {
   "cell_type": "markdown",
   "id": "ad54fe04",
   "metadata": {},
   "source": [
    "Una simulació dels resultats, combinada amb un estudi estàtic, és essencial per a AGBAR perquè permet abordar de manera dinàmica i estratègica els reptes de la gestió hídrica. Aquí en detallem les raons principals:\n",
    "\n",
    "#### **Raons per a la simulació:**  \n",
    "1. **Adaptació immediata a situacions canviants:**  \n",
    "   La simulació permet reaccionar en temps real davant factors com un augment sobtat de turistes o condicions meteorològiques extremes, ajustant la distribució d’aigua segons les necessitats.  \n",
    "\n",
    "2. **Projecció de futurs escenaris:**  \n",
    "   Mitjançant simulacions, AGBAR pot anticipar diferents escenaris de consum i preparar-se per a pics de demanda o situacions d’escassetat, optimitzant recursos de manera proactiva.  \n",
    "\n",
    "#### **Raons per a l’estudi estàtic:**  \n",
    "1. **Identificació de patrons a llarg termini:**  \n",
    "   L’estudi estàtic ofereix una comprensió profunda de les tendències històriques i estructurals del consum d’aigua, ajudant a dissenyar polítiques sostenibles i ajustades a la realitat de cada zona.  \n",
    "\n",
    "2. **Suport a la presa de decisions estratègiques:**  \n",
    "   Amb dades estàtiques fiables, AGBAR pot justificar inversions en infraestructures i programes d’eficiència hídrica, basant-se en patrons comprovats i consistents.  "
   ]
  },
  {
   "cell_type": "markdown",
   "id": "f7b2a323",
   "metadata": {},
   "source": [
    "<a id=\"s52\"></a>\n",
    "### 5.2 Instruccions per corre la simulació"
   ]
  },
  {
   "cell_type": "markdown",
   "id": "2c2eab47",
   "metadata": {},
   "source": [
    "---\n",
    "\n",
    "Per executar l'aplicació simplement cal executar el codi de baix.\n",
    "\n",
    "---\n",
    "\n",
    "#### **Accedir a l'aplicació**\n",
    "- Quan executis la comanda, Streamlit obrirà automàticament l’aplicació al navegador web predeterminat.\n",
    "- Per defecte, estarà disponible a l’adreça: [http://localhost:8501](http://localhost:8501).\n",
    "\n",
    "---\n",
    "\n",
    "#### **Aturar l’aplicació**\n",
    "- Per aturar l’aplicació, simplement cal aturar l'execució de la casella següent.\n",
    "\n",
    "---\n"
   ]
  },
  {
   "cell_type": "code",
   "execution_count": null,
   "id": "c4df4204-a7a0-4571-8ff0-840beac1796a",
   "metadata": {},
   "outputs": [
    {
     "ename": "",
     "evalue": "",
     "output_type": "error",
     "traceback": [
      "\u001b[1;31mCannot execute code, session has been disposed. Please try restarting the Kernel."
     ]
    },
    {
     "ename": "",
     "evalue": "",
     "output_type": "error",
     "traceback": [
      "\u001b[1;31mCannot execute code, session has been disposed. Please try restarting the Kernel. \n",
      "\u001b[1;31mView Jupyter <a href='command:jupyter.viewOutput'>log</a> for further details."
     ]
    }
   ],
   "source": [
    "import os\n",
    "import subprocess\n",
    "\n",
    "# Change to the 'display' directory\n",
    "os.chdir('display')\n",
    "\n",
    "# Run the Streamlit application\n",
    "subprocess.run([\"streamlit\", \"run\", \"main.py\"])\n"
   ]
  },
  {
   "cell_type": "markdown",
   "id": "6d5f1866",
   "metadata": {},
   "source": [
    "Alternativament, es pot correr l'aplicació a través de la terminal:\n",
    "\n",
    "### Com executar la simulació Streamlit de `main.py` des de la terminal\n",
    "\n",
    "---\n",
    "\n",
    "#### 1. **Obrir la terminal**\n",
    "- Navega al directori display. \n",
    "- Accedeix al terminal o consola del teu sistema operatiu.\n",
    "\n",
    "---\n",
    "\n",
    "#### 2. **Executar Streamlit**\n",
    "Utilitza la següent comanda per iniciar l’aplicació:\n",
    "\n",
    "```bash\n",
    "streamlit run display/main.py\n",
    "```\n",
    "\n",
    "---\n",
    "\n",
    "#### 3. **Accedir a l'aplicació**\n",
    "- Quan executis la comanda, Streamlit obrirà automàticament l’aplicació al navegador web predeterminat.\n",
    "- Per defecte, estarà disponible a l’adreça: [http://localhost:8501](http://localhost:8501).\n",
    "\n",
    "---\n",
    "\n",
    "#### 4. **Aturar l’aplicació**\n",
    "- Per aturar l’aplicació, torna a la terminal on s’està executant i prem **Ctrl+C**.\n",
    "\n",
    "---\n",
    "\n",
    "#### Problemes comuns\n",
    "- Si la comanda `streamlit` no funciona, assegura’t que Streamlit està instal·lat correctament:\n",
    "  ```bash\n",
    "  pip install streamlit\n",
    "  ```"
   ]
  },
  {
   "cell_type": "markdown",
   "id": "9838f3f1",
   "metadata": {},
   "source": [
    "<a id=\"s53\"></a>\n",
    "\n",
    "### 5.3 Descripció de les pàgines de la simulació"
   ]
  },
  {
   "cell_type": "markdown",
   "id": "7fd49495",
   "metadata": {},
   "source": [
    "Aquesta aplicació té diverses pàgines de visualització on podràs conèixer més sobre el projecte, veure els detalls i explorar la informació. Aquí tens una explicació de com funciona cada pàgina i com navegar-hi:\n",
    "\n",
    "---\n",
    "\n",
    "### **Com Navegar Entre Pàgines**\n",
    "\n",
    "- El **menú de navegació** (ubicat lateral de la pàgina) et permet canviar fàcilment entre pàgines.\n",
    "- Simplement fes clic a **“Sobre Nosaltres,” “Sobre el Projecte,”**, **“Estudi Estàtic”** o **“Predicció”** per anar a la pàgina desitjada.\n",
    "\n",
    "---\n",
    "\n",
    "### **Pàgines de l'Aplicació**\n",
    "\n",
    "#### **1. Sobre Nosaltres**\n",
    "\n",
    "Aquesta pàgina presenta l'equip darrere del projecte. Podràs conèixer qui ha desenvolupat l'aplicació i obtenir més informació sobre les seves funcions.\n",
    "\n",
    "#### **2. Sobre el Projecte**\n",
    "\n",
    "Aquesta pàgina explica el propòsit i els objectius del projecte. Detalla el que l'aplicació està dissenyada per fer i com pot ajudar als usuaris.\n",
    "\n",
    "#### **3. Estudi Estàtic**\n",
    "\n",
    "   ##### **Objectiu:**\n",
    "   Aquesta pàgina mostra dades estàtiques o resultats de recerca relacionats amb el projecte.\n",
    "\n",
    "   ##### **Com fer-ho servir:**\n",
    "   Aquí tens com funciona la selecció de períodes de temps per a tu com a usuari:\n",
    "\n",
    "   1. **Tria un any:**\n",
    "      - Primer, veuràs un menú desplegable etiquetat **\"Seleccionar any\"**. Aquí pots triar entre:\n",
    "      - **Tots els anys** – Aquesta opció et permet veure les dades agrupades per tots els anys disponibles al conjunt de dades.\n",
    "      - **2021**, **2022**, **2023** – Pots triar un any específic si vols centrar-te en les dades d'aquest any en concret.\n",
    "\n",
    "   2. **Selecciona un mes (si cal):**\n",
    "      - **Si seleccionas un any específic** (per exemple, **2021**, **2022**, **2023**), apareixerà un segon menú desplegable per seleccionar un mes. Aquest estarà etiquetat com **\"Seleccionar mes\"**, i podràs triar entre:\n",
    "      - **Tots els mesos** – Aquesta opció et permet veure les dades agrupades per tots els mesos de l'any seleccionat.\n",
    "      - **Gener**, **Febrer**, **Març**, etc. – Aquests són els mesos de l'any. Selecciona un mes per veure les dades d'aquest mes i any.\n",
    "\n",
    "   3. **Com esgrupen les dades segons les teves seleccions:**\n",
    "      - Si seleccionas **\"Tots els anys\"**, les dades s'agrupen per **mes**, mostrant tendències a través de tots els anys.\n",
    "      - Si selecciones un **any** específic i **\"Tots els mesos\"**, les dades s'agrupen per **setmana** per a l'any seleccionat.\n",
    "      - Si seleccionas un **any** i **mes** específic, les dades s'agrupen per **dia** per a aquest mes i any.\n",
    "\n",
    "   D'aquesta manera, oferim un més precisió a mesura que les dates són més específiques.\n",
    "\n",
    "   4. **Notes importants:**\n",
    "      - Si no fas seleccions vàlides (per exemple, si no tries cap any o mes), veuràs una advertència que diu: **\"Please make valid selections to generate the plots.\"** (Selecciona les opcions correctes per generar els gràfics.)\n",
    "\n",
    "   5. **Gràfics mostrats**\n",
    "      \n",
    "      1. *Consum d'Aigua per Tipus d'Ús:* Mostra el consum d'aigua per categories com residencial, comercial i industrial, ajudant a identificar les àrees de major consum per a estratègies de conservació específiques.\n",
    "         \n",
    "      2. *Consum d'Aigua per Districte:* Compara el consum d'aigua entre diferents districtes, ressaltant les àrees amb major consum per orientar estratègies de reducció del consum.\n",
    "         \n",
    "      3. *Consum d'Aigua per Districte i Tipus d'Ús:* Desglossa el consum per districtes i tipus d'ús per proporcionar una visió detallada de com es distribueix el consum a través de les diferents zones de la ciutat.\n",
    "         \n",
    "      4. *Consum d'Aigua vs. Allotjaments Turístics:* Examina la relació entre els allotjaments turístics i el consum d'aigua, mostrant com els turistes influeixen en la demanda d’aigua.\n",
    "         \n",
    "      5. *Consum d'Aigua vs. Precipitació:* Analitza com la precipitació afecta el consum d'aigua, destacant períodes de sequera i pluja intensa.\n",
    "      \n",
    "      6. *Consum d'Aigua vs. Temperatura:* Mostra com les temperatures extremes poden augmentar el consum d'aigua en les llars i les indústries.\n",
    "\n",
    "   ---"
   ]
  },
  {
   "cell_type": "markdown",
   "id": "29c15f3d-83a1-496e-bdff-ae3310ab0631",
   "metadata": {},
   "source": [
    "<a id=\"s6\"></a>\n",
    "## 6. Recomanacions accionables"
   ]
  },
  {
   "cell_type": "code",
   "execution_count": null,
   "id": "a81a3480-de10-4c4a-9fec-44adca476c65",
   "metadata": {},
   "outputs": [],
   "source": []
  },
  {
   "cell_type": "markdown",
   "id": "28ca8633",
   "metadata": {},
   "source": [
    "<a id=\"s7\"></a>\n",
    "## 7. Escalabilitat"
   ]
  },
  {
   "cell_type": "markdown",
   "id": "1029839f",
   "metadata": {},
   "source": [
    "<a id=\"s71\"></a>\n",
    "### 7.1 Dades meteorològiques i precipitacions"
   ]
  },
  {
   "cell_type": "markdown",
   "id": "5728972f",
   "metadata": {},
   "source": [
    "L'API d'AEMET (Agencia Estatal de Meteorología) permet accedir a dades meteorològiques en temps real o històriques proporcionades per les seves estacions meteorològiques. Per accedir a aquestes dades, cal obtenir una **clau d'API** des del seu portal oficial. Aquesta clau s'inclou en les sol·licituds per autenticar-les.\n",
    "\n",
    "### Funcionament bàsic\n",
    "1. **Autenticació**: Cada sol·licitud a l'API ha d'incloure la clau generada.\n",
    "2. **Endponts**: L'API ofereix diferents punts d'accés per a dades com ara:\n",
    "   - Prediccions meteorològiques.\n",
    "   - Observacions històriques.\n",
    "   - Dades puntuals per estació meteorològica.\n",
    "3. **Resposta**: Les dades es tornen en format JSON, amb valors com ara temperatures, precipitacions, velocitat del vent, etc.\n",
    "\n",
    "### Mesures de temperatura i precipitació\n",
    "Les dades meteorològiques que utilitzem són:\n",
    "- **Temperatura mínima** (*tmin*): És la temperatura més baixa registrada durant un interval de temps (normalment, un dia).\n",
    "- **Temperatura màxima** (*tmax*): És la temperatura més alta registrada durant el mateix interval.\n",
    "- **Precipitacions acumulades** (*prec*): La quantitat total de pluja o neu fosa mesurada durant un període mesurada en mm.\n",
    "\n",
    "### Estacions\n",
    "Nosaltres hem decidit utilitzar les tres estacions de Barcelona i després fer la mitjana d'elles per un millor resultat. Si és volgués, es podria fer només amb una. Les estacions són les següents:\n",
    "- **Estació 0076 - Barcelona, Fabra**\n",
    "- **Estació 0201D - Barcelona, Port Olímpic**\n",
    "- **Estació 0201X - Barcelona Drassanes**\n",
    "\n",
    "\n",
    "Per continuar tenint la informació del temps actualitzada podeu fer servir el següent codi: [Extracció mensual de dades AEMET](altres\\extracció_AEMET.py)\n",
    "- Recordeu d'afegir la vostra **API key** proporcionada per **AEMET**.\n",
    "- El codi està fet per treure les dades meteorològiques de l'últim mes. Per canviar els dies seleccionats, modifiqueu la secció sota # Calcular les dates per l'últim mes\n",
    "- El codi està pensat per treure en format csv les dades necessàries de l'últim mes. Si es volgués, també es podria afegir les noves línies al csv global.\n",
    "\n",
    "\n",
    "\n",
    "\n",
    "Per a més informació visiteu: https://opendata.aemet.es/centrodedescargas/inicio"
   ]
  },
  {
   "cell_type": "markdown",
   "id": "3e33e1c3",
   "metadata": {},
   "source": [
    "<a id=\"s72\"></a>\n",
    "### 7.2 Dades de turisme"
   ]
  },
  {
   "cell_type": "markdown",
   "id": "bbc54688",
   "metadata": {},
   "source": [
    "<a id=\"s73\"></a>\n",
    "### 7.3 Re-entrenament del model"
   ]
  },
  {
   "cell_type": "markdown",
   "id": "787e15f7-4e09-4fa1-84a1-00db598483dd",
   "metadata": {},
   "source": [
    "<a id=\"s8\"></a>\n",
    "\n",
    "## 8. Conclusions"
   ]
  },
  {
   "cell_type": "code",
   "execution_count": null,
   "id": "78c84edd-c16c-41f5-9ab2-1de5ef86bd75",
   "metadata": {},
   "outputs": [],
   "source": []
  }
 ],
 "metadata": {
  "kernelspec": {
   "display_name": "ICX",
   "language": "python",
   "name": "python3"
  },
  "language_info": {
   "codemirror_mode": {
    "name": "ipython",
    "version": 3
   },
   "file_extension": ".py",
   "mimetype": "text/x-python",
   "name": "python",
   "nbconvert_exporter": "python",
   "pygments_lexer": "ipython3",
   "version": "3.11.9"
  }
 },
 "nbformat": 4,
 "nbformat_minor": 5
}
